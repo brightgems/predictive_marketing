{
 "cells": [
  {
   "cell_type": "markdown",
   "metadata": {
    "nbpresent": {
     "id": "9a79ac5f-c47a-473c-80c0-7748de8d847d"
    }
   },
   "source": [
    "# Mixed effect model test \n",
    "same model run below code in R\n",
    "\n",
    "```\n",
    "lme<-lmer(y ~ x + (1+x|subject), data = lmm.data)\n",
    "```\n",
    "\n",
    "## prepare data"
   ]
  },
  {
   "cell_type": "code",
   "execution_count": 41,
   "metadata": {
    "collapsed": false,
    "nbpresent": {
     "id": "fb16e107-a846-41d0-b5c2-ff4f4dafc5d0"
    }
   },
   "outputs": [
    {
     "data": {
      "text/plain": [
       "(array([ 0.085     ,  0.265     ,  0.        ,  0.36      ,  0.        ,\n",
       "         0.38      ,  0.28666667,  0.        ,  0.16666667,  0.        ,\n",
       "         0.07166667,  0.02833333,  0.        ,  0.02      ,  0.00333333]),\n",
       " array([ 0. ,  0.6,  1.2,  1.8,  2.4,  3. ,  3.6,  4.2,  4.8,  5.4,  6. ,\n",
       "         6.6,  7.2,  7.8,  8.4,  9. ]),\n",
       " <a list of 15 Patch objects>)"
      ]
     },
     "execution_count": 41,
     "metadata": {},
     "output_type": "execute_result"
    },
    {
     "data": {
      "image/png": "[encoded data removed]",
      "text/plain": [
       "<matplotlib.figure.Figure at 0x123b5240>"
      ]
     },
     "metadata": {},
     "output_type": "display_data"
    }
   ],
   "source": [
    "%matplotlib inline\n",
    "from matplotlib import pylab as plt\n",
    "plt.hist(np.random.poisson(size=1000,lam=3),normed=True, alpha=0.5,bins=15)\n",
    "    "
   ]
  },
  {
   "cell_type": "code",
   "execution_count": 29,
   "metadata": {
    "collapsed": false,
    "nbpresent": {
     "id": "e913afa1-5f05-42be-9469-09f5230efeab"
    }
   },
   "outputs": [
    {
     "name": "stdout",
     "output_type": "stream",
     "text": [
      "(x1     0.004268\n",
      "x2    -0.071144\n",
      "x3    -0.094951\n",
      "y    -47.492157\n",
      "id     1.600000\n",
      "dtype: float64, x1     0.100521\n",
      "x2     0.106252\n",
      "x3    -0.124184\n",
      "y     25.736618\n",
      "id     1.000000\n",
      "dtype: float64, x1    -0.059900\n",
      "x2    -0.189408\n",
      "x3    -0.075463\n",
      "y    -96.311340\n",
      "id     2.000000\n",
      "dtype: float64)\n"
     ]
    }
   ],
   "source": [
    "import statsmodels.formula.api as smf\n",
    "import pandas as pd\n",
    "import numpy as np\n",
    "from copy import deepcopy\n",
    "import statsmodels.api as sm\n",
    "\n",
    "\n",
    "np.random.seed(seed=0)\n",
    "\n",
    "x = np.random.normal(size=(100,3))\n",
    "y = deepcopy(np.sum(x))*3 + np.random.poisson(size=100)\n",
    "id = np.ones(100)\n",
    "data1 = pd.DataFrame(np.column_stack([x,y,id]),columns=('x1','x2','x3','y','id'))\n",
    "id = np.ones(100)\n",
    "x = np.random.normal(size=(150,3))\n",
    "y = deepcopy(np.sum(x))*2 + np.random.poisson(size=150)\n",
    "id = np.ones(150)*2\n",
    "data2 = pd.DataFrame(np.column_stack([x,y,id]),columns=('x1','x2','x3','y','id'))\n",
    "\n",
    "data = pd.concat([data1,data2])\n",
    "data = data.reset_index(drop=True)\n",
    "print(data.mean(),data1.mean(),data2.mean())"
   ]
  },
  {
   "cell_type": "markdown",
   "metadata": {
    "nbpresent": {
     "id": "d2984803-8f5f-429a-acc1-e9a938b92205"
    }
   },
   "source": [
    "## mixed effect model"
   ]
  },
  {
   "cell_type": "code",
   "execution_count": 75,
   "metadata": {
    "collapsed": false,
    "nbpresent": {
     "id": "7baeb7e0-67db-498e-94ff-81ace2464d7d"
    }
   },
   "outputs": [
    {
     "name": "stderr",
     "output_type": "stream",
     "text": [
      "D:\\Anaconda2\\lib\\site-packages\\statsmodels\\base\\model.py:466: ConvergenceWarning: Maximum Likelihood optimization failed to converge. Check mle_retvals\n",
      "  \"Check mle_retvals\", ConvergenceWarning)\n"
     ]
    },
    {
     "name": "stdout",
     "output_type": "stream",
     "text": [
      "               Mixed Linear Model Regression Results\n",
      "===================================================================\n",
      "Model:                MixedLM     Dependent Variable:     y        \n",
      "No. Observations:     250         Method:                 REML     \n",
      "No. Groups:           2           Scale:                  64.6515  \n",
      "Min. group size:      100         Likelihood:             -879.4460\n",
      "Max. group size:      150         Converged:              Yes      \n",
      "Mean group size:      125.0                                        \n",
      "-------------------------------------------------------------------\n",
      "                      Coef.  Std.Err.    z    P>|z|  [0.025  0.975]\n",
      "-------------------------------------------------------------------\n",
      "Intercept            -46.017    7.897  -5.827 0.000 -61.495 -30.540\n",
      "x1                     4.587    2.281   2.011 0.044   0.116   9.059\n",
      "x2                     8.442                                       \n",
      "x1:x2                  0.672    0.541   1.244 0.214  -0.387   1.732\n",
      "x3                    -0.770    3.104  -0.248 0.804  -6.855   5.315\n",
      "x1:x3                  4.518    0.534   8.454 0.000   3.471   5.566\n",
      "x2:x3                  1.335                                       \n",
      "x1:x2:x3              -7.209    0.552 -13.052 0.000  -8.292  -6.126\n",
      "Intercept RE         120.802    1.984                              \n",
      "Intercept RE x x1 RE  -4.349                                       \n",
      "x1 RE                 64.631                                       \n",
      "Intercept RE x x2 RE   4.430                                       \n",
      "x1 RE x x2 RE          0.104                                       \n",
      "x2 RE                 65.208                                       \n",
      "Intercept RE x x3 RE -10.204                                       \n",
      "x1 RE x x3 RE         -2.922                                       \n",
      "x2 RE x x3 RE         10.616                                       \n",
      "x3 RE                 67.060                                       \n",
      "===================================================================\n",
      "\n"
     ]
    },
    {
     "data": {
      "text/plain": [
       "<Response [200]>"
      ]
     },
     "execution_count": 75,
     "metadata": {},
     "output_type": "execute_result"
    }
   ],
   "source": [
    "\n",
    "md = smf.mixedlm('y ~ x1 * x2 * x3', data, groups=data['id'], re_formula='~ x1 + x2 + x3')\n",
    "mdf = md.fit(method='cg')\n",
    "print(mdf.summary())\n"
   ]
  },
  {
   "cell_type": "code",
   "execution_count": 22,
   "metadata": {
    "collapsed": false,
    "nbpresent": {
     "id": "b32962fb-e196-4028-a854-6f9117b6d3aa"
    }
   },
   "outputs": [
    {
     "name": "stdout",
     "output_type": "stream",
     "text": [
      "            Mixed Linear Model Regression Results\n",
      "============================================================\n",
      "Model:               MixedLM  Dependent Variable:  y        \n",
      "No. Observations:    250      Method:              REML     \n",
      "No. Groups:          2        Scale:               1.0378   \n",
      "Min. group size:     100      Likelihood:          -366.6305\n",
      "Max. group size:     150      Converged:           Yes      \n",
      "Mean group size:     125.0                                  \n",
      "------------------------------------------------------------\n",
      "                    Coef. Std.Err.   z   P>|z| [0.025 0.975]\n",
      "------------------------------------------------------------\n",
      "Intercept           0.020    0.634 0.031 0.975 -1.222  1.262\n",
      "x                   2.465    1.396 1.766 0.077 -0.271  5.201\n",
      "Intercept RE        0.835                                   \n",
      "Intercept RE x x RE 1.799                                   \n",
      "x RE                4.817                                   \n",
      "============================================================\n",
      "\n"
     ]
    },
    {
     "name": "stderr",
     "output_type": "stream",
     "text": [
      "D:\\Anaconda2\\lib\\site-packages\\statsmodels\\base\\model.py:466: ConvergenceWarning: Maximum Likelihood optimization failed to converge. Check mle_retvals\n",
      "  \"Check mle_retvals\", ConvergenceWarning)\n"
     ]
    }
   ],
   "source": [
    "md = smf.mixedlm('y ~ x', data, groups=data['id'], re_formula='~ x')\n",
    "mdf = md.fit(method='lbfgs')\n",
    "print(mdf.summary())"
   ]
  },
  {
   "cell_type": "code",
   "execution_count": 23,
   "metadata": {
    "collapsed": false,
    "nbpresent": {
     "id": "5f3c8df2-f25a-40cb-b7a3-dd6ca21df5f7"
    }
   },
   "outputs": [
    {
     "name": "stdout",
     "output_type": "stream",
     "text": [
      "            Mixed Linear Model Regression Results\n",
      "============================================================\n",
      "Model:               MixedLM  Dependent Variable:  y        \n",
      "No. Observations:    250      Method:              REML     \n",
      "No. Groups:          2        Scale:               1.0378   \n",
      "Min. group size:     100      Likelihood:          -366.6305\n",
      "Max. group size:     150      Converged:           Yes      \n",
      "Mean group size:     125.0                                  \n",
      "------------------------------------------------------------\n",
      "                    Coef. Std.Err.   z   P>|z| [0.025 0.975]\n",
      "------------------------------------------------------------\n",
      "Intercept           0.020    0.634 0.031 0.975 -1.222  1.262\n",
      "x                   2.465    1.396 1.766 0.077 -0.271  5.201\n",
      "Intercept RE        0.835                                   \n",
      "Intercept RE x x RE 1.799                                   \n",
      "x RE                4.817                                   \n",
      "============================================================\n",
      "\n"
     ]
    },
    {
     "name": "stderr",
     "output_type": "stream",
     "text": [
      "D:\\Anaconda2\\lib\\site-packages\\statsmodels\\base\\model.py:466: ConvergenceWarning: Maximum Likelihood optimization failed to converge. Check mle_retvals\n",
      "  \"Check mle_retvals\", ConvergenceWarning)\n"
     ]
    }
   ],
   "source": [
    "md = smf.mixedlm('y ~ x', data, groups=data['id'], re_formula='~ x')\n",
    "mdf = md.fit(method='bfgs')\n",
    "print(mdf.summary())"
   ]
  },
  {
   "cell_type": "code",
   "execution_count": 12,
   "metadata": {
    "collapsed": true,
    "nbpresent": {
     "id": "44cb34fe-3833-4190-9f78-24434594e682"
    }
   },
   "outputs": [],
   "source": [
    "## OLS"
   ]
  },
  {
   "cell_type": "code",
   "execution_count": 19,
   "metadata": {
    "collapsed": false,
    "nbpresent": {
     "id": "2b57d707-f322-43aa-b4cb-c64cc0f66540"
    }
   },
   "outputs": [
    {
     "name": "stdout",
     "output_type": "stream",
     "text": [
      "                            OLS Regression Results                            \n",
      "==============================================================================\n",
      "Dep. Variable:                      y   R-squared:                       0.807\n",
      "Model:                            OLS   Adj. R-squared:                  0.806\n",
      "Method:                 Least Squares   F-statistic:                     1034.\n",
      "Date:                Sat, 06 May 2017   Prob (F-statistic):           1.98e-90\n",
      "Time:                        17:47:58   Log-Likelihood:                -393.21\n",
      "No. Observations:                 250   AIC:                             790.4\n",
      "Df Residuals:                     248   BIC:                             797.5\n",
      "Df Model:                           1                                         \n",
      "Covariance Type:            nonrobust                                         \n",
      "==============================================================================\n",
      "                 coef    std err          t      P>|t|      [95.0% Conf. Int.]\n",
      "------------------------------------------------------------------------------\n",
      "Intercept      0.0300      0.074      0.404      0.686        -0.116     0.176\n",
      "x              2.4429      0.076     32.151      0.000         2.293     2.593\n",
      "==============================================================================\n",
      "Omnibus:                        1.085   Durbin-Watson:                   1.946\n",
      "Prob(Omnibus):                  0.581   Jarque-Bera (JB):                1.079\n",
      "Skew:                           0.036   Prob(JB):                        0.583\n",
      "Kurtosis:                       2.686   Cond. No.                         1.05\n",
      "==============================================================================\n",
      "\n",
      "Warnings:\n",
      "[1] Standard Errors assume that the covariance matrix of the errors is correctly specified.\n"
     ]
    }
   ],
   "source": [
    "olsm = smf.ols('y ~ x', data).fit()\n",
    "\n",
    "%matplotlib inline\n",
    "from matplotlib import pyplot as plt\n",
    "print(olsm.summary())"
   ]
  }
 ],
 "metadata": {
  "anaconda-cloud": {},
  "kernelspec": {
   "display_name": "Python [Root]",
   "language": "python",
   "name": "Python [Root]"
  },
  "language_info": {
   "codemirror_mode": {
    "name": "ipython",
    "version": 2
   },
   "file_extension": ".py",
   "mimetype": "text/x-python",
   "name": "python",
   "nbconvert_exporter": "python",
   "pygments_lexer": "ipython2",
   "version": "2.7.12"
  },
  "nbpresent": {
   "slides": {
    "a2f60bfe-de25-418e-a5d6-b0884f9cd9f5": {
     "id": "a2f60bfe-de25-418e-a5d6-b0884f9cd9f5",
     "prev": null,
     "regions": {
      "1d8a42e1-dd87-4bfe-a569-fe229a17f6dd": {
       "attrs": {
        "height": 0.4,
        "width": 0.4,
        "x": 0.5,
        "y": 0.5
       },
       "id": "1d8a42e1-dd87-4bfe-a569-fe229a17f6dd"
      },
      "84772c38-3ad5-419e-818e-7a51de6644cf": {
       "attrs": {
        "height": 0.4,
        "width": 0.4,
        "x": 0.1,
        "y": 0.5007037876989248
       },
       "id": "84772c38-3ad5-419e-818e-7a51de6644cf"
      },
      "897ed918-09b3-48a1-851a-ff7caa8b9f62": {
       "attrs": {
        "height": 0.4,
        "width": 0.4,
        "x": 0.5,
        "y": 0.1
       },
       "id": "897ed918-09b3-48a1-851a-ff7caa8b9f62"
      },
      "a9e8e70f-cef1-49d9-9c4d-ad4126b1cf87": {
       "attrs": {
        "height": 0.4,
        "width": 0.4,
        "x": 0.09621975806451613,
        "y": 0.09865591397849452
       },
       "id": "a9e8e70f-cef1-49d9-9c4d-ad4126b1cf87"
      }
     }
    }
   },
   "themes": {
    "default": "c68844fb-afc7-4ffb-aec1-5eed8b735cfe",
    "theme": {
     "c68844fb-afc7-4ffb-aec1-5eed8b735cfe": {
      "backgrounds": {
       "dc7afa04-bf90-40b1-82a5-726e3cff5267": {
        "background-color": "31af15d2-7e15-44c5-ab5e-e04b16a89eff",
        "id": "dc7afa04-bf90-40b1-82a5-726e3cff5267"
       }
      },
      "id": "c68844fb-afc7-4ffb-aec1-5eed8b735cfe",
      "palette": {
       "19cc588f-0593-49c9-9f4b-e4d7cc113b1c": {
        "id": "19cc588f-0593-49c9-9f4b-e4d7cc113b1c",
        "rgb": [
         252,
         252,
         252
        ]
       },
       "31af15d2-7e15-44c5-ab5e-e04b16a89eff": {
        "id": "31af15d2-7e15-44c5-ab5e-e04b16a89eff",
        "rgb": [
         68,
         68,
         68
        ]
       },
       "50f92c45-a630-455b-aec3-788680ec7410": {
        "id": "50f92c45-a630-455b-aec3-788680ec7410",
        "rgb": [
         197,
         226,
         245
        ]
       },
       "c5cc3653-2ee1-402a-aba2-7caae1da4f6c": {
        "id": "c5cc3653-2ee1-402a-aba2-7caae1da4f6c",
        "rgb": [
         43,
         126,
         184
        ]
       },
       "efa7f048-9acb-414c-8b04-a26811511a21": {
        "id": "efa7f048-9acb-414c-8b04-a26811511a21",
        "rgb": [
         25.118061674008803,
         73.60176211453744,
         107.4819383259912
        ]
       }
      },
      "rules": {
       "a": {
        "color": "19cc588f-0593-49c9-9f4b-e4d7cc113b1c"
       },
       "blockquote": {
        "color": "50f92c45-a630-455b-aec3-788680ec7410",
        "font-size": 3
       },
       "code": {
        "font-family": "Anonymous Pro"
       },
       "h1": {
        "color": "19cc588f-0593-49c9-9f4b-e4d7cc113b1c",
        "font-family": "Merriweather",
        "font-size": 8
       },
       "h2": {
        "color": "19cc588f-0593-49c9-9f4b-e4d7cc113b1c",
        "font-family": "Merriweather",
        "font-size": 6
       },
       "h3": {
        "color": "50f92c45-a630-455b-aec3-788680ec7410",
        "font-family": "Lato",
        "font-size": 5.5
       },
       "h4": {
        "color": "c5cc3653-2ee1-402a-aba2-7caae1da4f6c",
        "font-family": "Lato",
        "font-size": 5
       },
       "h5": {
        "font-family": "Lato"
       },
       "h6": {
        "font-family": "Lato"
       },
       "h7": {
        "font-family": "Lato"
       },
       "li": {
        "color": "50f92c45-a630-455b-aec3-788680ec7410",
        "font-size": 3.25
       },
       "pre": {
        "font-family": "Anonymous Pro",
        "font-size": 4
       }
      },
      "text-base": {
       "color": "19cc588f-0593-49c9-9f4b-e4d7cc113b1c",
       "font-family": "Lato",
       "font-size": 4
      }
     }
    }
   }
  }
 },
 "nbformat": 4,
 "nbformat_minor": 0
}
