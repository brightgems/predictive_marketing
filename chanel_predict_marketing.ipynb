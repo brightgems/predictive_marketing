{
 "cells": [
  {
   "cell_type": "markdown",
   "metadata": {},
   "source": [
    "# Predictive Marketing for CHANEL\n",
    "Predict placement performance based on chanel history ad delivery"
   ]
  },
  {
   "cell_type": "markdown",
   "metadata": {},
   "source": [
    "## Acquire OTV placement performance from CHANEL digital database"
   ]
  },
  {
   "cell_type": "code",
   "execution_count": 2,
   "metadata": {
    "collapsed": false
   },
   "outputs": [],
   "source": [
    "import pyodbc\n",
    "import pandas as pd\n",
    "import numpy as np\n",
    "cnxn = pyodbc.connect('DRIVER={SQL Server};SERVER=10.2.186.233\\\\SQLINS02,5721;DATABASE=DM_1381_test;UID=Channel;PWD=Passw0rd')\n",
    "sql = \"\"\"\n",
    "WITH CTE_SIZMEK_PLAC_PERF\n",
    "AS\n",
    "(\n",
    "SELECT\n",
    "\t [PlacementID]\n",
    "\t,SUM([Impressions]) AS Imp\n",
    "\t,MAX([LifetimePlacementUniqueImpressions]) AS UV\n",
    "FROM [dbo].[DFID050844_GMMDUniqueReport_Extracted]\n",
    "GROUP BY [PlacementID]\n",
    "),\n",
    "CTE_PLAC_PERF_SIZMEK\n",
    "AS(\n",
    "SELECT\n",
    "\t A.[Product]\n",
    "\t,A.[Campaign]\n",
    "\t,A.[StartDate]\n",
    "\t,A.[StdMedia]\n",
    "\t,A.[Std.Format]\n",
    "\t,A.[Format]\n",
    "\t,A.[Drama]\n",
    "\t,A.[Target_Market]\n",
    "\t,A.[StdDevice]\n",
    "\t,A.Total_Est_Imp AS Est_Imp\n",
    "\t,A.Net_Media_Cost As Media_Cost\n",
    "\t,C.Imp AS Sizmek_Imp\n",
    "\t,C.UV AS Sizmek_UV\n",
    "\t,0 AS Nielsen_Imp\n",
    "\t,0 AS Nielsen_UV\n",
    "\t,0 AS Nielsen_TargetImp\n",
    "FROM [dbo].[MediaPlan_CampaignPlacements_Chanel] A\n",
    "INNER JOIN [dbo].[Y03_PlacementTrackingMap] B\n",
    "ON A.[Symphony_Placement_Id]=B.[Symphony_Placement_Id]\n",
    "INNER JOIN CTE_SIZMEK_PLAC_PERF C\n",
    "ON B.[TrackingPlacementID]=C.[PlacementID]\n",
    "WHERE Media_Type='OTV'\n",
    ")\n",
    ",\n",
    "CTE_PLAC_PERF_NIELSEN\n",
    "AS(\n",
    "SELECT\n",
    "\t A.[Product]\n",
    "\t,A.[Campaign]\n",
    "\t,A.[StartDate]\n",
    "\t,A.[StdMedia]\n",
    "\t,A.[Std.Format]\n",
    "\t,A.[Format]\n",
    "\t,A.[Drama]\n",
    "\t,A.[Target_Market]\n",
    "\t,A.[StdDevice]\n",
    "\t,0 AS Est_Imp\n",
    "\t,0 As Media_Cost\n",
    "\t,0 AS Sizmek_Imp\n",
    "\t,0 AS Sizmek_UV\n",
    "\t,E.[IMPR] AS Nielsen_Imp\n",
    "\t,E.[UNIQUE_AUDIENCE] AS Nielsen_UV\n",
    "\t,convert(bigint,E.[TRGT_PRCN] * E.[IMPR]) AS Nielsen_TargetImp\n",
    "FROM [dbo].[MediaPlan_CampaignPlacements_Chanel] A\n",
    "INNER JOIN [dbo].[Y03_PlacementNdarMap] D\n",
    "ON A.[Symphony_Placement_Id]=D.[Symphony_Placement_Id]\n",
    "INNER JOIN [dbo].[Y01_Nilsen_AudienceRating] E\n",
    "ON D.[NilsenCmpgID]=E.[NilsenCmpgID] AND D.[NilsenPlcmID]=E.[NilsenPlcmID]\n",
    "WHERE Media_Type='OTV'\n",
    ")\n",
    ",CTE_PLAC_PERF_RAW\n",
    "AS(\n",
    "SELECT * FROM CTE_PLAC_PERF_SIZMEK\n",
    "UNION\n",
    "SELECT * FROM CTE_PLAC_PERF_NIELSEN\n",
    ")\n",
    "SELECT\n",
    "\t [Product]\n",
    "\t,[Campaign]\n",
    "\t,[StdMedia]\n",
    "\t,[Std.Format]\n",
    "\t,[Format]\n",
    "\t,[Drama]\n",
    "\t,[Target_Market]\n",
    "\t,[StdDevice]\n",
    "\t,[StartDate]\n",
    "\t,SUM(Est_Imp) AS Est_Imp\n",
    "\t,SUM(Media_Cost) AS Media_Cost\n",
    "\t,SUM(Sizmek_Imp) AS Sizmek_Imp\n",
    "\t,SUM(Sizmek_UV) AS Sizmek_UV\n",
    "\t,SUM(Nielsen_Imp) AS Nielsen_Imp\n",
    "\t,SUM(Nielsen_UV) AS Nielsen_UV\n",
    "\t,SUM(Nielsen_TargetImp) AS Nielsen_TargetImp\n",
    "FROM CTE_PLAC_PERF_RAW\n",
    "GROUP BY  [Product]\n",
    "\t,[Campaign]\n",
    "\t,[StdMedia]\n",
    "\t,[Std.Format]\n",
    "\t,[Format]\n",
    "\t,[Drama]\n",
    "\t,[Target_Market]\n",
    "\t,[StdDevice]\n",
    "\t,[StartDate]\n",
    "\"\"\"\n",
    "df_plac_perf = pd.read_sql(sql,cnxn)\n"
   ]
  },
  {
   "cell_type": "markdown",
   "metadata": {},
   "source": [
    "## CLEAN DATA\n",
    "- add col target_content which extract from Format\n",
    "- generate new dataset group by Campaign, target_content, target_market, Std.Format, StdDevice\n",
    "- remove bonus placements if media cost is 0\n",
    "- show diff on imp/uv between sizmek/ nielsen. \n",
    "- use nielsen numbers to build model"
   ]
  },
  {
   "cell_type": "code",
   "execution_count": 80,
   "metadata": {
    "collapsed": false,
    "scrolled": true
   },
   "outputs": [
    {
     "name": "stdout",
     "output_type": "stream",
     "text": [
      "remove bonus placements, before: 4111, after: 4069\n"
     ]
    },
    {
     "data": {
      "text/plain": [
       "Est_Imp               1734638.635693\n",
       "Media_Cost              81600.692171\n",
       "Sizmek_Imp            2193501.253687\n",
       "Sizmek_UV             1674383.428220\n",
       "Nielsen_Imp           1411491.309489\n",
       "Nielsen_UV             615110.849312\n",
       "Nielsen_TargetImp    52195261.354966\n",
       "imp_diff_pct                0.252765\n",
       "uv_diff_pct                 0.402272\n",
       "dtype: float64"
      ]
     },
     "execution_count": 80,
     "metadata": {},
     "output_type": "execute_result"
    }
   ],
   "source": [
    "df_plac_perf = df_plac_perf.assign(target_content = lambda x: x.Format.str.extract('[（|()](.+)') \\\n",
    "                                                       .str.split('，')\n",
    "                                                       .str.get(1))\n",
    "# fill na\n",
    "df_plac_perf = df_plac_perf.fillna({'Drama':'N/A','Nielsen_Imp':0,'Nielsen_UV':0,'Nielsen_TargetImp':0})\n",
    "df_plac_perf.loc[(df_plac_perf['Drama'].str.contains('《')),'target_content'] = 'drama buy'\n",
    "\n",
    "# change type\n",
    "df_plac_perf[['Sizmek_Imp','Sizmek_UV','Nielsen_Imp','Nielsen_UV','Nielsen_TargetImp']] =df_plac_perf[['Sizmek_Imp','Sizmek_UV','Nielsen_Imp','Nielsen_UV','Nielsen_TargetImp']].astype(np.int64)\n",
    "df = df_plac_perf.groupby(['Product','Campaign','StdMedia','StdDevice','target_content','Target_Market','Drama'],as_index=False).aggregate(np.sum)\n",
    "# remove bonus placements if media cost is 0\n",
    "before_cnt = df.shape[0]\n",
    "df = df.drop(df.index[df.Media_Cost<100])\n",
    "after_cnt = df.shape[0]\n",
    "print(\"remove bonus placements, before: %d, after: %d\" %(before_cnt,after_cnt))\n",
    "df = df.assign(imp_diff_pct = lambda x: (x.Sizmek_Imp-x.Nielsen_Imp)/x.Sizmek_Imp)\n",
    "df = df.assign(uv_diff_pct = lambda x: (x.Sizmek_UV-x.Nielsen_UV)/x.Sizmek_Imp)\n",
    "df = df[df.Sizmek_Imp>0]\n",
    "df2 = df.loc[df.Nielsen_Imp>0].count()\n",
    "# show diff\n",
    "df.sort_values(['imp_diff_pct']).mean()"
   ]
  },
  {
   "cell_type": "markdown",
   "metadata": {},
   "source": [
    "## Mangling/ Normalize Data"
   ]
  },
  {
   "cell_type": "code",
   "execution_count": 105,
   "metadata": {
    "collapsed": false
   },
   "outputs": [
    {
     "ename": "AttributeError",
     "evalue": "'function' object has no attribute 'value'",
     "output_type": "error",
     "traceback": [
      "\u001b[1;31m---------------------------------------------------------------------------\u001b[0m",
      "\u001b[1;31mAttributeError\u001b[0m                            Traceback (most recent call last)",
      "\u001b[1;32m<ipython-input-105-4c11cb04da86>\u001b[0m in \u001b[0;36m<module>\u001b[1;34m()\u001b[0m\n\u001b[0;32m      1\u001b[0m \u001b[1;32mfrom\u001b[0m \u001b[0msklearn\u001b[0m\u001b[1;33m.\u001b[0m\u001b[0mfeature_extraction\u001b[0m \u001b[1;32mimport\u001b[0m \u001b[0mDictVectorizer\u001b[0m\u001b[1;33m\u001b[0m\u001b[0m\n\u001b[0;32m      2\u001b[0m \u001b[0mdv\u001b[0m \u001b[1;33m=\u001b[0m \u001b[0mDictVectorizer\u001b[0m\u001b[1;33m(\u001b[0m\u001b[1;33m)\u001b[0m\u001b[1;33m\u001b[0m\u001b[0m\n\u001b[1;32m----> 3\u001b[1;33m \u001b[0mdf\u001b[0m\u001b[1;33m[\u001b[0m\u001b[1;34m'Product'\u001b[0m\u001b[1;33m]\u001b[0m\u001b[1;33m.\u001b[0m\u001b[0munique\u001b[0m\u001b[1;33m.\u001b[0m\u001b[0mvalue\u001b[0m\u001b[1;33m\u001b[0m\u001b[0m\n\u001b[0m\u001b[0;32m      4\u001b[0m \u001b[1;31m#enc = preprocessing.OneHotEncoder().fit(df[['Product']].values)\u001b[0m\u001b[1;33m\u001b[0m\u001b[1;33m\u001b[0m\u001b[0m\n",
      "\u001b[1;31mAttributeError\u001b[0m: 'function' object has no attribute 'value'"
     ]
    }
   ],
   "source": [
    "from sklearn.feature_extraction import DictVectorizer\n",
    "dv = DictVectorizer()\n",
    "for df['Product'].unique\n",
    "#enc = preprocessing.OneHotEncoder().fit(df[['Product']].values)\n"
   ]
  },
  {
   "cell_type": "code",
   "execution_count": 63,
   "metadata": {
    "collapsed": false
   },
   "outputs": [],
   "source": [
    "from sklearn import preprocessing\n",
    "from sklearn import pipeline\n",
    "\n",
    "scaler = preprocessing.StandardScaler()\n",
    "pipe = pipeline.Pipeline([('scaler',scaler)])\n",
    "std_arr = pipe.fit_transform(df[['Media_Cost','Sizmek_Imp','Sizmek_UV']])\n",
    "#binarize Media Cost\n",
    "binarizer = preprocessing.Binarizer()\n",
    "binarizer.fit_transform(df[['Media_Cost']])\n",
    "\n",
    "\n",
    "df_std = pd.DataFrame(std_arr,columns=('Media_Cost.std','Sizmek_Imp.std','Sizmek_UV.std'))\n",
    "df = pd.concat([df,df_std],axis=1)\n",
    "df=df.drop(df[df.Sizmek_Imp.isnull()].index)\n",
    "#df['Sizmek_Imp.std']=np.log(df['Sizmek_Imp.std'])\n"
   ]
  },
  {
   "cell_type": "markdown",
   "metadata": {},
   "source": [
    "## Diagonise dataset"
   ]
  },
  {
   "cell_type": "code",
   "execution_count": 62,
   "metadata": {
    "collapsed": false
   },
   "outputs": [
    {
     "ename": "TypeError",
     "evalue": "Empty 'DataFrame': no numeric data to plot",
     "output_type": "error",
     "traceback": [
      "\u001b[1;31m---------------------------------------------------------------------------\u001b[0m",
      "\u001b[1;31mTypeError\u001b[0m                                 Traceback (most recent call last)",
      "\u001b[1;32m<ipython-input-62-0b2d9c4cfe23>\u001b[0m in \u001b[0;36m<module>\u001b[1;34m()\u001b[0m\n\u001b[0;32m      7\u001b[0m \u001b[0mdf\u001b[0m\u001b[1;33m.\u001b[0m\u001b[0mplot\u001b[0m\u001b[1;33m.\u001b[0m\u001b[0mscatter\u001b[0m\u001b[1;33m(\u001b[0m\u001b[0mx\u001b[0m\u001b[1;33m=\u001b[0m\u001b[1;34m'Media_Cost.std'\u001b[0m\u001b[1;33m,\u001b[0m\u001b[0my\u001b[0m\u001b[1;33m=\u001b[0m\u001b[1;34m'Sizmek_UV.std'\u001b[0m\u001b[1;33m)\u001b[0m\u001b[1;33m\u001b[0m\u001b[0m\n\u001b[0;32m      8\u001b[0m \u001b[0mplt\u001b[0m\u001b[1;33m.\u001b[0m\u001b[0mfigure\u001b[0m\u001b[1;33m(\u001b[0m\u001b[1;33m)\u001b[0m\u001b[1;33m\u001b[0m\u001b[0m\n\u001b[1;32m----> 9\u001b[1;33m \u001b[0mpd\u001b[0m\u001b[1;33m.\u001b[0m\u001b[0mcut\u001b[0m\u001b[1;33m(\u001b[0m\u001b[0mdf\u001b[0m\u001b[1;33m[\u001b[0m\u001b[1;34m'Media_Cost'\u001b[0m\u001b[1;33m]\u001b[0m\u001b[1;33m,\u001b[0m\u001b[0mbins\u001b[0m\u001b[1;33m=\u001b[0m\u001b[1;33m[\u001b[0m\u001b[1;36m0\u001b[0m\u001b[1;33m,\u001b[0m\u001b[1;36m100000\u001b[0m\u001b[1;33m,\u001b[0m\u001b[1;36m1000000\u001b[0m\u001b[1;33m]\u001b[0m\u001b[1;33m)\u001b[0m\u001b[1;33m.\u001b[0m\u001b[0mplot\u001b[0m\u001b[1;33m.\u001b[0m\u001b[0mbar\u001b[0m\u001b[1;33m(\u001b[0m\u001b[0mby\u001b[0m\u001b[1;33m=\u001b[0m\u001b[1;34m'Media_Cost'\u001b[0m\u001b[1;33m)\u001b[0m\u001b[1;33m\u001b[0m\u001b[0m\n\u001b[0m",
      "\u001b[1;32mC:\\WinPython-64bit-3.4.3.7\\python-3.4.3.amd64\\lib\\site-packages\\pandas\\tools\\plotting.py\u001b[0m in \u001b[0;36mbar\u001b[1;34m(self, **kwds)\u001b[0m\n\u001b[0;32m   3530\u001b[0m         \u001b[0maxes\u001b[0m \u001b[1;33m:\u001b[0m \u001b[0mmatplotlib\u001b[0m\u001b[1;33m.\u001b[0m\u001b[0mAxesSubplot\u001b[0m \u001b[1;32mor\u001b[0m \u001b[0mnp\u001b[0m\u001b[1;33m.\u001b[0m\u001b[0marray\u001b[0m \u001b[0mof\u001b[0m \u001b[0mthem\u001b[0m\u001b[1;33m\u001b[0m\u001b[0m\n\u001b[0;32m   3531\u001b[0m         \"\"\"\n\u001b[1;32m-> 3532\u001b[1;33m         \u001b[1;32mreturn\u001b[0m \u001b[0mself\u001b[0m\u001b[1;33m(\u001b[0m\u001b[0mkind\u001b[0m\u001b[1;33m=\u001b[0m\u001b[1;34m'bar'\u001b[0m\u001b[1;33m,\u001b[0m \u001b[1;33m**\u001b[0m\u001b[0mkwds\u001b[0m\u001b[1;33m)\u001b[0m\u001b[1;33m\u001b[0m\u001b[0m\n\u001b[0m\u001b[0;32m   3533\u001b[0m \u001b[1;33m\u001b[0m\u001b[0m\n\u001b[0;32m   3534\u001b[0m     \u001b[1;32mdef\u001b[0m \u001b[0mbarh\u001b[0m\u001b[1;33m(\u001b[0m\u001b[0mself\u001b[0m\u001b[1;33m,\u001b[0m \u001b[1;33m**\u001b[0m\u001b[0mkwds\u001b[0m\u001b[1;33m)\u001b[0m\u001b[1;33m:\u001b[0m\u001b[1;33m\u001b[0m\u001b[0m\n",
      "\u001b[1;32mC:\\WinPython-64bit-3.4.3.7\\python-3.4.3.amd64\\lib\\site-packages\\pandas\\tools\\plotting.py\u001b[0m in \u001b[0;36m__call__\u001b[1;34m(self, kind, ax, figsize, use_index, title, grid, legend, style, logx, logy, loglog, xticks, yticks, xlim, ylim, rot, fontsize, colormap, table, yerr, xerr, label, secondary_y, **kwds)\u001b[0m\n\u001b[0;32m   3495\u001b[0m                            \u001b[0mcolormap\u001b[0m\u001b[1;33m=\u001b[0m\u001b[0mcolormap\u001b[0m\u001b[1;33m,\u001b[0m \u001b[0mtable\u001b[0m\u001b[1;33m=\u001b[0m\u001b[0mtable\u001b[0m\u001b[1;33m,\u001b[0m \u001b[0myerr\u001b[0m\u001b[1;33m=\u001b[0m\u001b[0myerr\u001b[0m\u001b[1;33m,\u001b[0m\u001b[1;33m\u001b[0m\u001b[0m\n\u001b[0;32m   3496\u001b[0m                            \u001b[0mxerr\u001b[0m\u001b[1;33m=\u001b[0m\u001b[0mxerr\u001b[0m\u001b[1;33m,\u001b[0m \u001b[0mlabel\u001b[0m\u001b[1;33m=\u001b[0m\u001b[0mlabel\u001b[0m\u001b[1;33m,\u001b[0m \u001b[0msecondary_y\u001b[0m\u001b[1;33m=\u001b[0m\u001b[0msecondary_y\u001b[0m\u001b[1;33m,\u001b[0m\u001b[1;33m\u001b[0m\u001b[0m\n\u001b[1;32m-> 3497\u001b[1;33m                            **kwds)\n\u001b[0m\u001b[0;32m   3498\u001b[0m     \u001b[0m__call__\u001b[0m\u001b[1;33m.\u001b[0m\u001b[0m__doc__\u001b[0m \u001b[1;33m=\u001b[0m \u001b[0mplot_series\u001b[0m\u001b[1;33m.\u001b[0m\u001b[0m__doc__\u001b[0m\u001b[1;33m\u001b[0m\u001b[0m\n\u001b[0;32m   3499\u001b[0m \u001b[1;33m\u001b[0m\u001b[0m\n",
      "\u001b[1;32mC:\\WinPython-64bit-3.4.3.7\\python-3.4.3.amd64\\lib\\site-packages\\pandas\\tools\\plotting.py\u001b[0m in \u001b[0;36mplot_series\u001b[1;34m(data, kind, ax, figsize, use_index, title, grid, legend, style, logx, logy, loglog, xticks, yticks, xlim, ylim, rot, fontsize, colormap, table, yerr, xerr, label, secondary_y, **kwds)\u001b[0m\n\u001b[0;32m   2585\u001b[0m                  \u001b[0myerr\u001b[0m\u001b[1;33m=\u001b[0m\u001b[0myerr\u001b[0m\u001b[1;33m,\u001b[0m \u001b[0mxerr\u001b[0m\u001b[1;33m=\u001b[0m\u001b[0mxerr\u001b[0m\u001b[1;33m,\u001b[0m\u001b[1;33m\u001b[0m\u001b[0m\n\u001b[0;32m   2586\u001b[0m                  \u001b[0mlabel\u001b[0m\u001b[1;33m=\u001b[0m\u001b[0mlabel\u001b[0m\u001b[1;33m,\u001b[0m \u001b[0msecondary_y\u001b[0m\u001b[1;33m=\u001b[0m\u001b[0msecondary_y\u001b[0m\u001b[1;33m,\u001b[0m\u001b[1;33m\u001b[0m\u001b[0m\n\u001b[1;32m-> 2587\u001b[1;33m                  **kwds)\n\u001b[0m\u001b[0;32m   2588\u001b[0m \u001b[1;33m\u001b[0m\u001b[0m\n\u001b[0;32m   2589\u001b[0m \u001b[1;33m\u001b[0m\u001b[0m\n",
      "\u001b[1;32mC:\\WinPython-64bit-3.4.3.7\\python-3.4.3.amd64\\lib\\site-packages\\pandas\\tools\\plotting.py\u001b[0m in \u001b[0;36m_plot\u001b[1;34m(data, x, y, subplots, ax, kind, **kwds)\u001b[0m\n\u001b[0;32m   2382\u001b[0m         \u001b[0mplot_obj\u001b[0m \u001b[1;33m=\u001b[0m \u001b[0mklass\u001b[0m\u001b[1;33m(\u001b[0m\u001b[0mdata\u001b[0m\u001b[1;33m,\u001b[0m \u001b[0msubplots\u001b[0m\u001b[1;33m=\u001b[0m\u001b[0msubplots\u001b[0m\u001b[1;33m,\u001b[0m \u001b[0max\u001b[0m\u001b[1;33m=\u001b[0m\u001b[0max\u001b[0m\u001b[1;33m,\u001b[0m \u001b[0mkind\u001b[0m\u001b[1;33m=\u001b[0m\u001b[0mkind\u001b[0m\u001b[1;33m,\u001b[0m \u001b[1;33m**\u001b[0m\u001b[0mkwds\u001b[0m\u001b[1;33m)\u001b[0m\u001b[1;33m\u001b[0m\u001b[0m\n\u001b[0;32m   2383\u001b[0m \u001b[1;33m\u001b[0m\u001b[0m\n\u001b[1;32m-> 2384\u001b[1;33m     \u001b[0mplot_obj\u001b[0m\u001b[1;33m.\u001b[0m\u001b[0mgenerate\u001b[0m\u001b[1;33m(\u001b[0m\u001b[1;33m)\u001b[0m\u001b[1;33m\u001b[0m\u001b[0m\n\u001b[0m\u001b[0;32m   2385\u001b[0m     \u001b[0mplot_obj\u001b[0m\u001b[1;33m.\u001b[0m\u001b[0mdraw\u001b[0m\u001b[1;33m(\u001b[0m\u001b[1;33m)\u001b[0m\u001b[1;33m\u001b[0m\u001b[0m\n\u001b[0;32m   2386\u001b[0m     \u001b[1;32mreturn\u001b[0m \u001b[0mplot_obj\u001b[0m\u001b[1;33m.\u001b[0m\u001b[0mresult\u001b[0m\u001b[1;33m\u001b[0m\u001b[0m\n",
      "\u001b[1;32mC:\\WinPython-64bit-3.4.3.7\\python-3.4.3.amd64\\lib\\site-packages\\pandas\\tools\\plotting.py\u001b[0m in \u001b[0;36mgenerate\u001b[1;34m(self)\u001b[0m\n\u001b[0;32m    983\u001b[0m     \u001b[1;32mdef\u001b[0m \u001b[0mgenerate\u001b[0m\u001b[1;33m(\u001b[0m\u001b[0mself\u001b[0m\u001b[1;33m)\u001b[0m\u001b[1;33m:\u001b[0m\u001b[1;33m\u001b[0m\u001b[0m\n\u001b[0;32m    984\u001b[0m         \u001b[0mself\u001b[0m\u001b[1;33m.\u001b[0m\u001b[0m_args_adjust\u001b[0m\u001b[1;33m(\u001b[0m\u001b[1;33m)\u001b[0m\u001b[1;33m\u001b[0m\u001b[0m\n\u001b[1;32m--> 985\u001b[1;33m         \u001b[0mself\u001b[0m\u001b[1;33m.\u001b[0m\u001b[0m_compute_plot_data\u001b[0m\u001b[1;33m(\u001b[0m\u001b[1;33m)\u001b[0m\u001b[1;33m\u001b[0m\u001b[0m\n\u001b[0m\u001b[0;32m    986\u001b[0m         \u001b[0mself\u001b[0m\u001b[1;33m.\u001b[0m\u001b[0m_setup_subplots\u001b[0m\u001b[1;33m(\u001b[0m\u001b[1;33m)\u001b[0m\u001b[1;33m\u001b[0m\u001b[0m\n\u001b[0;32m    987\u001b[0m         \u001b[0mself\u001b[0m\u001b[1;33m.\u001b[0m\u001b[0m_make_plot\u001b[0m\u001b[1;33m(\u001b[0m\u001b[1;33m)\u001b[0m\u001b[1;33m\u001b[0m\u001b[0m\n",
      "\u001b[1;32mC:\\WinPython-64bit-3.4.3.7\\python-3.4.3.amd64\\lib\\site-packages\\pandas\\tools\\plotting.py\u001b[0m in \u001b[0;36m_compute_plot_data\u001b[1;34m(self)\u001b[0m\n\u001b[0;32m   1092\u001b[0m         \u001b[1;32mif\u001b[0m \u001b[0mis_empty\u001b[0m\u001b[1;33m:\u001b[0m\u001b[1;33m\u001b[0m\u001b[0m\n\u001b[0;32m   1093\u001b[0m             raise TypeError('Empty {0!r}: no numeric data to '\n\u001b[1;32m-> 1094\u001b[1;33m                             'plot'.format(numeric_data.__class__.__name__))\n\u001b[0m\u001b[0;32m   1095\u001b[0m \u001b[1;33m\u001b[0m\u001b[0m\n\u001b[0;32m   1096\u001b[0m         \u001b[0mself\u001b[0m\u001b[1;33m.\u001b[0m\u001b[0mdata\u001b[0m \u001b[1;33m=\u001b[0m \u001b[0mnumeric_data\u001b[0m\u001b[1;33m\u001b[0m\u001b[0m\n",
      "\u001b[1;31mTypeError\u001b[0m: Empty 'DataFrame': no numeric data to plot"
     ]
    },
    {
     "data": {
      "image/png": "[encoded data removed]",
      "text/plain": [
       "<matplotlib.figure.Figure at 0x126495c0>"
      ]
     },
     "metadata": {},
     "output_type": "display_data"
    },
    {
     "data": {
      "image/png": "[encoded data removed]",
      "text/plain": [
       "<matplotlib.figure.Figure at 0x126edc50>"
      ]
     },
     "metadata": {},
     "output_type": "display_data"
    }
   ],
   "source": [
    "%matplotlib inline\n",
    "import matplotlib\n",
    "from matplotlib import pyplot as plt\n",
    "\n",
    "matplotlib.style.use('ggplot')\n",
    "\n",
    "df.plot.scatter(x='Media_Cost.std',y='Sizmek_UV.std')\n",
    "plt.figure()\n",
    "pd.cut(df['Media_Cost'],bins=[0,100000,1000000]).plot.bar(by='Media_Cost')"
   ]
  },
  {
   "cell_type": "code",
   "execution_count": null,
   "metadata": {
    "collapsed": true
   },
   "outputs": [],
   "source": [
    "df_plac_perf[['Media_cost','UV']].plot"
   ]
  },
  {
   "cell_type": "markdown",
   "metadata": {},
   "source": [
    "## Build Model"
   ]
  },
  {
   "cell_type": "code",
   "execution_count": null,
   "metadata": {
    "collapsed": true
   },
   "outputs": [],
   "source": [
    "import statsmodels.formula.api as smf"
   ]
  }
 ],
 "metadata": {
  "kernelspec": {
   "display_name": "Python 3",
   "language": "python",
   "name": "python3"
  },
  "language_info": {
   "codemirror_mode": {
    "name": "ipython",
    "version": 3
   },
   "file_extension": ".py",
   "mimetype": "text/x-python",
   "name": "python",
   "nbconvert_exporter": "python",
   "pygments_lexer": "ipython3",
   "version": "3.4.3"
  }
 },
 "nbformat": 4,
 "nbformat_minor": 0
}
