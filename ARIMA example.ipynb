{
 "cells": [
  {
   "cell_type": "code",
   "execution_count": null,
   "metadata": {
    "collapsed": true
   },
   "outputs": [],
   "source": [
    "import pandas as pd\n",
    "columns = [\"year\", \"month\", \"decimal date\", \"average\", \"interpolated\", \"trend\", \"?\"]\n",
    "co2 = pd.read_csv(\"ftp://aftp.cmdl.noaa.gov/products/trends/co2/co2_mm_mlo.txt\",\n",
    "                  delim_whitespace=True, skiprows=72, names=columns, parse_dates=[[0, 1]])\n",
    "co2.set_index(\"year_month\", inplace=True)\n",
    "ppm = co2.interpolated\n",
    "pd.describe()"
   ]
  },
  {
   "cell_type": "code",
   "execution_count": null,
   "metadata": {
    "collapsed": true
   },
   "outputs": [],
   "source": [
    "from statsmodels import tsa\n",
    "arima_model = tsa.arima_model.ARIMA(ppm, order=(2, 1, 2))\n",
    "res = arima_model.fit()"
   ]
  }
 ],
 "metadata": {
  "anaconda-cloud": {},
  "kernelspec": {
   "display_name": "Python [Root]",
   "language": "python",
   "name": "Python [Root]"
  },
  "language_info": {
   "codemirror_mode": {
    "name": "ipython",
    "version": 2
   },
   "file_extension": ".py",
   "mimetype": "text/x-python",
   "name": "python",
   "nbconvert_exporter": "python",
   "pygments_lexer": "ipython2",
   "version": "2.7.12"
  }
 },
 "nbformat": 4,
 "nbformat_minor": 0
}
