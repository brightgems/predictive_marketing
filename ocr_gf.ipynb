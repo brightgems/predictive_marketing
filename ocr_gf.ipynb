{
 "cells": [
  {
   "cell_type": "code",
   "execution_count": 25,
   "metadata": {
    "collapsed": false
   },
   "outputs": [
    {
     "name": "stdout",
     "output_type": "stream",
     "text": [
      "193.9752\n"
     ]
    }
   ],
   "source": [
    "from PIL import Image, ImageTransform, ImageFilter\n",
    "img = Image.open(\"c:/tmp/tmp6sgmpo.png\")\n",
    "if hasattr(img, \"width\"):\n",
    "    width, height = img.width, img.height\n",
    "else:\n",
    "    width, height = img.size\n",
    "for x in range(width):\n",
    "    for y in range(height):\n",
    "        if img.getpixel((x, y)) < (100, 100, 100):\n",
    "            img.putpixel((x, y), (255, 255, 255))\n",
    "import numpy as np\n",
    "print(np.mean(np.asarray(img)))\n",
    "gray = img.convert('L')            "
   ]
  },
  {
   "cell_type": "code",
   "execution_count": 11,
   "metadata": {
    "collapsed": false
   },
   "outputs": [],
   "source": [
    "\n",
    "def GetAverage(mat):\n",
    "    \n",
    "    n=len(mat)\n",
    "    m= width(mat) \n",
    "    num = [0]*m\n",
    "    for j in range(0,m): \n",
    "           for i in mat:\n",
    "              num[j]=num[j]+i[j]           \n",
    "           num[j]=num[j]/n   \n",
    "    return num\n",
    "\n",
    "def width(lst):\n",
    "    i=0\n",
    "    for j in lst[0]:\n",
    "       i=i+1\n",
    "    return i\n",
    "\n",
    "def GetVar(average,mat):    \n",
    "    ListMat=[]\n",
    "    for i in mat:    \n",
    "        ListMat.append(list(map(lambda x: x[0]-x[1], zip(average, i))))\n",
    "   \n",
    "    n=len(ListMat)\n",
    "    m= width(ListMat) \n",
    "    num = [0]*m\n",
    "    for j in range(0,m): \n",
    "        for i in ListMat:\n",
    "                  num[j]=num[j]+(i[j]*i[j])       \n",
    "        num[j]=num[j]/n   \n",
    "    return num \n",
    "\n",
    "def DenoisMat(mat):\n",
    "    average=GetAverage(mat)\n",
    "    variance=GetVar(average,mat)\n",
    "    section=list(map(lambda x: x[0]+x[1], zip(average, variance)))    \n",
    "    \n",
    "    n=len(mat)\n",
    "    m= width(mat) \n",
    "    num = [0]*m\n",
    "    denoisMat=[]    \n",
    "    for i in mat:\n",
    "        for j in range(0,m):\n",
    "               if i[j]>section[j]:\n",
    "                     i[j]=section[j]\n",
    "        denoisMat.append(i)  \n",
    "    return denoisMat                \n",
    "                        \n",
    "def AutoNorm(mat):   \n",
    "    n=len(mat)\n",
    "    m= width(mat)     \n",
    "    MinNum=[9999999999]*m\n",
    "    MaxNum = [0]*m    \n",
    "    for i in mat:\n",
    "        for j in range(0,m):\n",
    "            if i[j]>MaxNum[j]:\n",
    "                MaxNum[j]=i[j]\n",
    "      \n",
    "    for p in mat:     \n",
    "        for q in range(0,m):\n",
    "            if p[q]<=MinNum[q]:\n",
    "                    MinNum[q]=p[q]  \n",
    "                          \n",
    "    section=list(map(lambda x: x[0]-x[1], zip(MaxNum, MinNum)))\n",
    "    print section\n",
    "    NormMat=[]\n",
    "     \n",
    "    for k in mat:     \n",
    "             \n",
    "          distance=list(map(lambda x: x[0]-x[1], zip(k, MinNum)))\n",
    "          value=list(map(lambda x: x[0]/x[1], zip(distance,section)))\n",
    "          NormMat.append(value)           \n",
    "    return NormMat        \n",
    "    "
   ]
  },
  {
   "cell_type": "code",
   "execution_count": 36,
   "metadata": {
    "collapsed": false
   },
   "outputs": [
    {
     "data": {
      "image/png": "[encoded data removed]",
      "text/plain": [
       "<PIL.Image.Image image mode=L size=300x100 at 0x3EF6710>"
      ]
     },
     "execution_count": 36,
     "metadata": {},
     "output_type": "execute_result"
    }
   ],
   "source": [
    "two = gray.point(lambda p: 0 if 68 < p < 90 else 256)\n",
    "min_res = two.filter(ImageFilter.MinFilter)\n",
    "med_res = min_res.filter(ImageFilter.MedianFilter)\n",
    "min_res"
   ]
  },
  {
   "cell_type": "code",
   "execution_count": 43,
   "metadata": {
    "collapsed": false
   },
   "outputs": [
    {
     "name": "stdout",
     "output_type": "stream",
     "text": [
      "ntb3ab\n"
     ]
    }
   ],
   "source": [
    "import pytesseract\n",
    "print(pytesseract.image_to_string(med_res,lang='eng'))\n",
    "gray.point?"
   ]
  }
 ],
 "metadata": {
  "kernelspec": {
   "display_name": "Python [Root]",
   "language": "python",
   "name": "Python [Root]"
  },
  "language_info": {
   "codemirror_mode": {
    "name": "ipython",
    "version": 2
   },
   "file_extension": ".py",
   "mimetype": "text/x-python",
   "name": "python",
   "nbconvert_exporter": "python",
   "pygments_lexer": "ipython2",
   "version": "2.7.12"
  }
 },
 "nbformat": 4,
 "nbformat_minor": 0
}
