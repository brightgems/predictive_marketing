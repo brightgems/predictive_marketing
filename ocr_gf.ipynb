{
 "cells": [
  {
   "cell_type": "code",
   "execution_count": 17,
   "metadata": {
    "collapsed": false
   },
   "outputs": [
    {
     "ename": "TypeError",
     "evalue": "points is not a numpy array, neither a scalar",
     "output_type": "error",
     "traceback": [
      "\u001b[1;31m---------------------------------------------------------------------------\u001b[0m",
      "\u001b[1;31mTypeError\u001b[0m                                 Traceback (most recent call last)",
      "\u001b[1;32m<ipython-input-17-c93303e1f071>\u001b[0m in \u001b[0;36m<module>\u001b[1;34m()\u001b[0m\n\u001b[0;32m     38\u001b[0m \u001b[0mcontours\u001b[0m \u001b[1;33m=\u001b[0m \u001b[0mcv2\u001b[0m\u001b[1;33m.\u001b[0m\u001b[0mfindContours\u001b[0m\u001b[1;33m(\u001b[0m\u001b[0mim_canny_copy\u001b[0m\u001b[1;33m,\u001b[0m \u001b[0mcv2\u001b[0m\u001b[1;33m.\u001b[0m\u001b[0mRETR_TREE\u001b[0m\u001b[1;33m,\u001b[0m \u001b[0mcv2\u001b[0m\u001b[1;33m.\u001b[0m\u001b[0mCHAIN_APPROX_NONE\u001b[0m\u001b[1;33m)\u001b[0m\u001b[1;33m\u001b[0m\u001b[0m\n\u001b[0;32m     39\u001b[0m \u001b[1;32mfor\u001b[0m \u001b[1;33m(\u001b[0m\u001b[0mi\u001b[0m\u001b[1;33m,\u001b[0m\u001b[0mc\u001b[0m\u001b[1;33m)\u001b[0m \u001b[1;32min\u001b[0m \u001b[0menumerate\u001b[0m\u001b[1;33m(\u001b[0m\u001b[0mcontours\u001b[0m\u001b[1;33m)\u001b[0m\u001b[1;33m:\u001b[0m\u001b[1;33m\u001b[0m\u001b[0m\n\u001b[1;32m---> 40\u001b[1;33m     \u001b[0mrect\u001b[0m \u001b[1;33m=\u001b[0m \u001b[0mcv2\u001b[0m\u001b[1;33m.\u001b[0m\u001b[0mboundingRect\u001b[0m\u001b[1;33m(\u001b[0m\u001b[0mc\u001b[0m\u001b[1;33m)\u001b[0m\u001b[1;33m\u001b[0m\u001b[0m\n\u001b[0m\u001b[0;32m     41\u001b[0m     \u001b[0marea\u001b[0m \u001b[1;33m=\u001b[0m \u001b[1;33m(\u001b[0m\u001b[0mrect\u001b[0m\u001b[1;33m[\u001b[0m\u001b[1;36m2\u001b[0m\u001b[1;33m]\u001b[0m \u001b[1;33m*\u001b[0m \u001b[0mrect\u001b[0m\u001b[1;33m[\u001b[0m\u001b[1;36m3\u001b[0m\u001b[1;33m]\u001b[0m\u001b[1;33m)\u001b[0m \u001b[1;33m/\u001b[0m \u001b[0mtotaleArea\u001b[0m\u001b[1;33m\u001b[0m\u001b[0m\n\u001b[0;32m     42\u001b[0m     \u001b[0mhPerc\u001b[0m \u001b[1;33m=\u001b[0m  \u001b[0mrect\u001b[0m\u001b[1;33m[\u001b[0m\u001b[1;36m3\u001b[0m\u001b[1;33m]\u001b[0m \u001b[1;33m/\u001b[0m \u001b[0mfloat\u001b[0m\u001b[1;33m(\u001b[0m\u001b[0mh\u001b[0m\u001b[1;33m)\u001b[0m\u001b[1;33m\u001b[0m\u001b[0m\n",
      "\u001b[1;31mTypeError\u001b[0m: points is not a numpy array, neither a scalar"
     ]
    }
   ],
   "source": [
    "import cv2\n",
    "import numpy as np\n",
    "import random\n",
    "import pytesseract\n",
    "from PIL import Image\n",
    "\n",
    "global im\n",
    "global low_canny\n",
    "global high_canny\n",
    "global trackbars\n",
    "global imgsnames\n",
    "global img_counter\n",
    "\n",
    "low_canny = 231\n",
    "high_canny = 89\n",
    "trackbars = False\n",
    "\n",
    "im = np.asarray(gray)\n",
    "im_in = cv2.resize(im, dsize=(640, 480))\n",
    "np.array(im_in, copy=True)\n",
    "\n",
    "avg, sdv = cv2.meanStdDev(im_in)\n",
    "\n",
    "if avg < 55 and sdv < 40:\n",
    "    im_in = cv2.equalizeHist(im_in)\n",
    "    im_in = cv2.GaussianBlur(im_in, (3, 3), 1)\n",
    "\n",
    "im_in = cv2.GaussianBlur(im_in, (3, 3), 1)\n",
    "\n",
    "im_canny = cv2.Canny(im_in, low_canny, high_canny, apertureSize=3)\n",
    "im_canny_copy = np.array(im_canny, copy=True)\n",
    "\n",
    "h, w = im_in.shape\n",
    "im_out = np.zeros((h, w, 1), np.uint8)\n",
    "\n",
    "totaleArea =  float(w*h)\n",
    "\n",
    "contours = cv2.findContours(im_canny_copy, cv2.RETR_TREE, cv2.CHAIN_APPROX_NONE)\n",
    "for (i,c) in enumerate(contours):\n",
    "    rect = cv2.boundingRect(c)\n",
    "    area = (rect[2] * rect[3]) / totaleArea\n",
    "    hPerc =  rect[3] / float(h)\n",
    "    aspect = float(rect[2]) / rect[3]\n",
    "\n",
    "    if area < 0.002 or area > 0.015 or hPerc < 0.07 or aspect >= 0.7:\n",
    "        continue\n",
    "\n",
    "    #print area\n",
    "    color = (255, 255, 255)\n",
    "\n",
    "    mask = np.zeros((h, w, 1), np.uint8)\n",
    "    cv2.rectangle(mask, (rect[0], rect[1]), (rect[0] + rect[2], rect[1] + rect[3]), color, -1)\n",
    "    avg, sdv = cv2.meanStdDev(im_in, mask=mask)\n",
    "\n",
    "    print avg, sdv\n",
    "\n",
    "    offset = -random.randint(10, 20) if i % 2 == 1 else rect[3] + random.randint(15, 25)\n",
    "\n",
    "    cv2.rectangle(im_out, (rect[0], rect[1]), (rect[0] + rect[2], rect[1] + rect[3]), color, -1)\n",
    "    # cv2.putText(im_out, '{:0.2f}'.format(sdv[0, 0]), (rect[0], rect[1] + offset), cv2.FONT_HERSHEY_SIMPLEX, 0.5, color, 1)\n",
    "    # cv2.drawContours(im_out, contours, i, color, -1)\n",
    "\n",
    "mask = np.array(im_out, copy=True)\n",
    "im_out = cv2.bitwise_and(im_in, im_out)\n",
    "im_out = cv2.bitwise_not(im_out, mask=mask)\n",
    "cv2.imwrite(r'test.jpg', im_out)\n",
    "\n",
    "avg = cv2.mean(im_out, mask)\n",
    "print avg\n",
    "\n",
    "t, im_out = cv2.threshold(im_out, avg[0] + 10, 255, cv2.cv.CV_THRESH_BINARY)\n",
    "\n",
    "cv2.imshow('canny', im_canny)\n",
    "if not trackbars:\n",
    "    cv2.createTrackbar('imgnames', 'canny', img_counter, 6, setImgsNames)\n",
    "    cv2.createTrackbar('canny_low', 'canny', low_canny, 255, setLowCannyTrack)\n",
    "    cv2.createTrackbar('canny_high', 'canny', high_canny, 255, setHighCannyTrack)\n",
    "    trackbars = True\n",
    "\n",
    "# im_out = cv2.morphologyEx(im_out, cv2.MORPH_ERODE, cv2.getStructuringElement(cv2.cv.CV_SHAPE_RECT, (3, 3)), iterations=1)\n",
    "\n",
    "cv2.imshow('im', im_out)\n",
    "cv2.imshow('out', im_in)\n",
    "\n",
    "\n",
    "print pytesseract.image_to_string(Image.fromarray(im_out), config='-psm 7')"
   ]
  },
  {
   "cell_type": "code",
   "execution_count": 10,
   "metadata": {
    "collapsed": false
   },
   "outputs": [
    {
     "name": "stdout",
     "output_type": "stream",
     "text": [
      "193.9752\n"
     ]
    },
    {
     "ename": "TypeError",
     "evalue": "No matching signature found",
     "output_type": "error",
     "traceback": [
      "\u001b[1;31m---------------------------------------------------------------------------\u001b[0m",
      "\u001b[1;31mTypeError\u001b[0m                                 Traceback (most recent call last)",
      "\u001b[1;32m<ipython-input-10-472fd941c759>\u001b[0m in \u001b[0;36m<module>\u001b[1;34m()\u001b[0m\n\u001b[0;32m     13\u001b[0m \u001b[0mgray\u001b[0m \u001b[1;33m=\u001b[0m \u001b[0mimg\u001b[0m\u001b[1;33m.\u001b[0m\u001b[0mconvert\u001b[0m\u001b[1;33m(\u001b[0m\u001b[1;34m'L'\u001b[0m\u001b[1;33m)\u001b[0m\u001b[1;33m\u001b[0m\u001b[0m\n\u001b[0;32m     14\u001b[0m \u001b[1;33m\u001b[0m\u001b[0m\n\u001b[1;32m---> 15\u001b[1;33m \u001b[0mpreprocess_image\u001b[0m\u001b[1;33m(\u001b[0m\u001b[0mnp\u001b[0m\u001b[1;33m.\u001b[0m\u001b[0masarray\u001b[0m\u001b[1;33m(\u001b[0m \u001b[0mimg\u001b[0m\u001b[1;33m)\u001b[0m\u001b[1;33m)\u001b[0m\u001b[1;33m\u001b[0m\u001b[0m\n\u001b[0m",
      "\u001b[1;32m<ipython-input-9-17f0000f86d4>\u001b[0m in \u001b[0;36mpreprocess_image\u001b[1;34m(img)\u001b[0m\n\u001b[0;32m     86\u001b[0m \u001b[1;33m\u001b[0m\u001b[0m\n\u001b[0;32m     87\u001b[0m \u001b[1;32mdef\u001b[0m \u001b[0mpreprocess_image\u001b[0m\u001b[1;33m(\u001b[0m\u001b[0mimg\u001b[0m\u001b[1;33m)\u001b[0m\u001b[1;33m:\u001b[0m\u001b[1;33m\u001b[0m\u001b[0m\n\u001b[1;32m---> 88\u001b[1;33m     \u001b[0mimg\u001b[0m \u001b[1;33m=\u001b[0m \u001b[0mnormalize_shape\u001b[0m\u001b[1;33m(\u001b[0m\u001b[0mimg\u001b[0m\u001b[1;33m)\u001b[0m\u001b[1;33m\u001b[0m\u001b[0m\n\u001b[0m\u001b[0;32m     89\u001b[0m     \u001b[1;31m#img = cv2.GaussianBlur(img, (1, 1), 0)\u001b[0m\u001b[1;33m\u001b[0m\u001b[1;33m\u001b[0m\u001b[0m\n\u001b[0;32m     90\u001b[0m     \u001b[1;32mreturn\u001b[0m \u001b[0mimg\u001b[0m\u001b[1;33m\u001b[0m\u001b[0m\n",
      "\u001b[1;32m<ipython-input-9-17f0000f86d4>\u001b[0m in \u001b[0;36mnormalize_shape\u001b[1;34m(img)\u001b[0m\n\u001b[0;32m     80\u001b[0m \u001b[1;32mdef\u001b[0m \u001b[0mnormalize_shape\u001b[0m\u001b[1;33m(\u001b[0m\u001b[0mimg\u001b[0m\u001b[1;33m)\u001b[0m\u001b[1;33m:\u001b[0m\u001b[1;33m\u001b[0m\u001b[0m\n\u001b[0;32m     81\u001b[0m     \u001b[0mimg\u001b[0m \u001b[1;33m=\u001b[0m \u001b[0mcrop_image\u001b[0m\u001b[1;33m(\u001b[0m\u001b[0mimg\u001b[0m\u001b[1;33m)\u001b[0m\u001b[1;33m\u001b[0m\u001b[0m\n\u001b[1;32m---> 82\u001b[1;33m     \u001b[0mimg\u001b[0m \u001b[1;33m=\u001b[0m \u001b[0mmoment_normalization\u001b[0m\u001b[1;33m(\u001b[0m\u001b[0mimg\u001b[0m\u001b[1;33m)\u001b[0m\u001b[1;33m\u001b[0m\u001b[0m\n\u001b[0m\u001b[0;32m     83\u001b[0m     \u001b[0mimg\u001b[0m \u001b[1;33m=\u001b[0m \u001b[0mget_square_image\u001b[0m\u001b[1;33m(\u001b[0m\u001b[0mimg\u001b[0m\u001b[1;33m)\u001b[0m\u001b[1;33m\u001b[0m\u001b[0m\n\u001b[0;32m     84\u001b[0m     \u001b[0mimg\u001b[0m \u001b[1;33m=\u001b[0m \u001b[0madd_padding\u001b[0m\u001b[1;33m(\u001b[0m\u001b[0mimg\u001b[0m\u001b[1;33m)\u001b[0m\u001b[1;33m\u001b[0m\u001b[0m\n",
      "\u001b[1;32m<ipython-input-9-17f0000f86d4>\u001b[0m in \u001b[0;36mmoment_normalization\u001b[1;34m(img)\u001b[0m\n\u001b[0;32m     50\u001b[0m \u001b[1;32mdef\u001b[0m \u001b[0mmoment_normalization\u001b[0m\u001b[1;33m(\u001b[0m\u001b[0mimg\u001b[0m\u001b[1;33m)\u001b[0m\u001b[1;33m:\u001b[0m\u001b[1;33m\u001b[0m\u001b[0m\n\u001b[0;32m     51\u001b[0m     \u001b[1;31m# moments\u001b[0m\u001b[1;33m\u001b[0m\u001b[1;33m\u001b[0m\u001b[0m\n\u001b[1;32m---> 52\u001b[1;33m     \u001b[0mmoments\u001b[0m \u001b[1;33m=\u001b[0m \u001b[0mskimage\u001b[0m\u001b[1;33m.\u001b[0m\u001b[0mmeasure\u001b[0m\u001b[1;33m.\u001b[0m\u001b[0mmoments\u001b[0m\u001b[1;33m(\u001b[0m\u001b[0mimg\u001b[0m\u001b[1;33m,\u001b[0m \u001b[1;36m2\u001b[0m\u001b[1;33m)\u001b[0m\u001b[1;33m\u001b[0m\u001b[0m\n\u001b[0m\u001b[0;32m     53\u001b[0m     \u001b[0mcentroid\u001b[0m \u001b[1;33m=\u001b[0m \u001b[1;33m[\u001b[0m\u001b[0mmoments\u001b[0m\u001b[1;33m[\u001b[0m\u001b[1;36m0\u001b[0m\u001b[1;33m,\u001b[0m \u001b[1;36m1\u001b[0m\u001b[1;33m]\u001b[0m \u001b[1;33m/\u001b[0m \u001b[0mmoments\u001b[0m\u001b[1;33m[\u001b[0m\u001b[1;36m0\u001b[0m\u001b[1;33m,\u001b[0m \u001b[1;36m0\u001b[0m\u001b[1;33m]\u001b[0m\u001b[1;33m,\u001b[0m \u001b[0mmoments\u001b[0m\u001b[1;33m[\u001b[0m\u001b[1;36m1\u001b[0m\u001b[1;33m,\u001b[0m \u001b[1;36m0\u001b[0m\u001b[1;33m]\u001b[0m \u001b[1;33m/\u001b[0m \u001b[0mmoments\u001b[0m\u001b[1;33m[\u001b[0m\u001b[1;36m0\u001b[0m\u001b[1;33m,\u001b[0m \u001b[1;36m0\u001b[0m\u001b[1;33m]\u001b[0m\u001b[1;33m]\u001b[0m\u001b[1;33m\u001b[0m\u001b[0m\n\u001b[0;32m     54\u001b[0m     \u001b[0mcentral_moments\u001b[0m \u001b[1;33m=\u001b[0m \u001b[0mskimage\u001b[0m\u001b[1;33m.\u001b[0m\u001b[0mmeasure\u001b[0m\u001b[1;33m.\u001b[0m\u001b[0mmoments_central\u001b[0m\u001b[1;33m(\u001b[0m\u001b[0mimg\u001b[0m\u001b[1;33m,\u001b[0m \u001b[0mcentroid\u001b[0m\u001b[1;33m[\u001b[0m\u001b[1;36m0\u001b[0m\u001b[1;33m]\u001b[0m\u001b[1;33m,\u001b[0m \u001b[0mcentroid\u001b[0m\u001b[1;33m[\u001b[0m\u001b[1;36m1\u001b[0m\u001b[1;33m]\u001b[0m\u001b[1;33m,\u001b[0m \u001b[1;36m2\u001b[0m\u001b[1;33m)\u001b[0m\u001b[1;33m\u001b[0m\u001b[0m\n",
      "\u001b[1;32mD:\\Anaconda2\\lib\\site-packages\\skimage\\measure\\_moments.pyc\u001b[0m in \u001b[0;36mmoments\u001b[1;34m(image, order)\u001b[0m\n\u001b[0;32m     48\u001b[0m \u001b[1;33m\u001b[0m\u001b[0m\n\u001b[0;32m     49\u001b[0m     \"\"\"\n\u001b[1;32m---> 50\u001b[1;33m     \u001b[1;32mreturn\u001b[0m \u001b[0m_moments_cy\u001b[0m\u001b[1;33m.\u001b[0m\u001b[0mmoments_central\u001b[0m\u001b[1;33m(\u001b[0m\u001b[0mimage\u001b[0m\u001b[1;33m,\u001b[0m \u001b[1;36m0\u001b[0m\u001b[1;33m,\u001b[0m \u001b[1;36m0\u001b[0m\u001b[1;33m,\u001b[0m \u001b[0morder\u001b[0m\u001b[1;33m)\u001b[0m\u001b[1;33m\u001b[0m\u001b[0m\n\u001b[0m\u001b[0;32m     51\u001b[0m \u001b[1;33m\u001b[0m\u001b[0m\n\u001b[0;32m     52\u001b[0m \u001b[1;33m\u001b[0m\u001b[0m\n",
      "\u001b[1;32mskimage/measure/_moments_cy.pyx\u001b[0m in \u001b[0;36mskimage.measure._moments_cy.__pyx_fused_cpdef (skimage\\measure\\_moments_cy.c:2138)\u001b[1;34m()\u001b[0m\n",
      "\u001b[1;31mTypeError\u001b[0m: No matching signature found"
     ]
    }
   ],
   "source": [
    "from PIL import Image, ImageTransform, ImageFilter\n",
    "img = Image.open(\"c:/tmp/tmp6sgmpo.png\")\n",
    "if hasattr(img, \"width\"):\n",
    "    width, height = img.width, img.height\n",
    "else:\n",
    "    width, height = img.size\n",
    "for x in range(width):\n",
    "    for y in range(height):\n",
    "        if img.getpixel((x, y)) < (100, 100, 100):\n",
    "            img.putpixel((x, y), (255, 255, 255))\n",
    "import numpy as np\n",
    "print(np.mean(np.asarray(img)))\n",
    "gray = img.convert('L')    \n",
    "\n",
    "preprocess_image(np.asarray( img))"
   ]
  },
  {
   "cell_type": "code",
   "execution_count": 11,
   "metadata": {
    "collapsed": false
   },
   "outputs": [],
   "source": [
    "\n",
    "def GetAverage(mat):\n",
    "    \n",
    "    n=len(mat)\n",
    "    m= width(mat) \n",
    "    num = [0]*m\n",
    "    for j in range(0,m): \n",
    "           for i in mat:\n",
    "              num[j]=num[j]+i[j]           \n",
    "           num[j]=num[j]/n   \n",
    "    return num\n",
    "\n",
    "def width(lst):\n",
    "    i=0\n",
    "    for j in lst[0]:\n",
    "       i=i+1\n",
    "    return i\n",
    "\n",
    "def GetVar(average,mat):    \n",
    "    ListMat=[]\n",
    "    for i in mat:    \n",
    "        ListMat.append(list(map(lambda x: x[0]-x[1], zip(average, i))))\n",
    "   \n",
    "    n=len(ListMat)\n",
    "    m= width(ListMat) \n",
    "    num = [0]*m\n",
    "    for j in range(0,m): \n",
    "        for i in ListMat:\n",
    "                  num[j]=num[j]+(i[j]*i[j])       \n",
    "        num[j]=num[j]/n   \n",
    "    return num \n",
    "\n",
    "def DenoisMat(mat):\n",
    "    average=GetAverage(mat)\n",
    "    variance=GetVar(average,mat)\n",
    "    section=list(map(lambda x: x[0]+x[1], zip(average, variance)))    \n",
    "    \n",
    "    n=len(mat)\n",
    "    m= width(mat) \n",
    "    num = [0]*m\n",
    "    denoisMat=[]    \n",
    "    for i in mat:\n",
    "        for j in range(0,m):\n",
    "               if i[j]>section[j]:\n",
    "                     i[j]=section[j]\n",
    "        denoisMat.append(i)  \n",
    "    return denoisMat                \n",
    "                        \n",
    "def AutoNorm(mat):   \n",
    "    n=len(mat)\n",
    "    m= width(mat)     \n",
    "    MinNum=[9999999999]*m\n",
    "    MaxNum = [0]*m    \n",
    "    for i in mat:\n",
    "        for j in range(0,m):\n",
    "            if i[j]>MaxNum[j]:\n",
    "                MaxNum[j]=i[j]\n",
    "      \n",
    "    for p in mat:     \n",
    "        for q in range(0,m):\n",
    "            if p[q]<=MinNum[q]:\n",
    "                    MinNum[q]=p[q]  \n",
    "                          \n",
    "    section=list(map(lambda x: x[0]-x[1], zip(MaxNum, MinNum)))\n",
    "    print section\n",
    "    NormMat=[]\n",
    "     \n",
    "    for k in mat:     \n",
    "             \n",
    "          distance=list(map(lambda x: x[0]-x[1], zip(k, MinNum)))\n",
    "          value=list(map(lambda x: x[0]/x[1], zip(distance,section)))\n",
    "          NormMat.append(value)           \n",
    "    return NormMat        \n",
    "    "
   ]
  },
  {
   "cell_type": "code",
   "execution_count": 36,
   "metadata": {
    "collapsed": false
   },
   "outputs": [
    {
     "data": {
      "image/png": "[encoded data removed]",
      "text/plain": [
       "<PIL.Image.Image image mode=L size=300x100 at 0x3EF6710>"
      ]
     },
     "execution_count": 36,
     "metadata": {},
     "output_type": "execute_result"
    }
   ],
   "source": [
    "two = gray.point(lambda p: 0 if 68 < p < 90 else 256)\n",
    "min_res = two.filter(ImageFilter.MinFilter)\n",
    "med_res = min_res.filter(ImageFilter.MedianFilter)\n",
    "min_res"
   ]
  },
  {
   "cell_type": "code",
   "execution_count": 43,
   "metadata": {
    "collapsed": false
   },
   "outputs": [
    {
     "name": "stdout",
     "output_type": "stream",
     "text": [
      "ntb3ab\n"
     ]
    }
   ],
   "source": [
    "import pytesseract\n",
    "print(pytesseract.image_to_string(med_res,lang='eng'))\n",
    "gray.point?"
   ]
  }
 ],
 "metadata": {
  "anaconda-cloud": {},
  "kernelspec": {
   "display_name": "Python [Root]",
   "language": "python",
   "name": "Python [Root]"
  },
  "language_info": {
   "codemirror_mode": {
    "name": "ipython",
    "version": 2
   },
   "file_extension": ".py",
   "mimetype": "text/x-python",
   "name": "python",
   "nbconvert_exporter": "python",
   "pygments_lexer": "ipython2",
   "version": "2.7.12"
  }
 },
 "nbformat": 4,
 "nbformat_minor": 0
}
