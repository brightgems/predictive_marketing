{
 "cells": [
  {
   "cell_type": "code",
   "execution_count": null,
   "metadata": {},
   "outputs": [],
   "source": [
    "import pyodbc\n",
    "import pandas as pd\n",
    "import numpy as np\n",
    "cnxn = pyodbc.connect('DRIVER={SQL Server};SERVER=mecshsql.database.windows.net,1433;DATABASE=datamart;UID=Channel;PWD=Passw0rd')\n",
    "sql = \"\"\"\n",
    "\n",
    "SELECT\n",
    "\t A.[Product]\n",
    "\t,A.[Campaign]\n",
    "\t,A.[StartDate]\n",
    "\t,A.[StdMedia]\n",
    "\t,A.[Std.Format]\n",
    "\t,A.[Target_Market]\n",
    "\t,A.Net_Media_Cost As Media_Cost\n",
    "FROM [dbo].[MediaPlan_CampaignPlacements_Chanel] A\n",
    "where \n",
    "\"\"\"\n",
    "df_plac_perf = pd.read_sql(sql,cnxn)\n"
   ]
  },
  {
   "cell_type": "markdown",
   "metadata": {},
   "source": [
    "Problem optimize marketing budget for conversion rates of your product/service by \n",
    "using pay per click providers like adwords search, adwords display network,\n",
    "facebooks ads and linkedin ads, # we model the problem as \n",
    "linear mathematical program in python  and pulp solver was for solving linear program\n",
    "\n",
    "objective fucntion: maximize conversion rates\n",
    "desicion variables: amount to spend in each provider\n",
    "constraints: \n",
    "maximum budget per ppc provider is 500 euros\n",
    "maximum Total budget is 1800 euros\n",
    "program dependency is pulp solver https://code.google.com/p/pulp-or/\n"
   ]
  },
  {
   "cell_type": "code",
   "execution_count": 83,
   "metadata": {},
   "outputs": [
    {
     "name": "stdout",
     "output_type": "stream",
     "text": [
      "The amount of euros for Adwords_Search is 0.1 \n",
      "The amount of euros for Adwords_Display is 0.8 \n",
      "The amount of euros for Facebook_Ads is 0.0 \n",
      "The amount of euros for Linkedin_Ads is 0.1 \n"
     ]
    }
   ],
   "source": [
    "from pulp import *\n",
    "\n",
    "# initialize the model maximize conversion rate \n",
    "marketing_budget = pulp.LpProblem('Pay Per Click Budget Optimization', pulp.LpMaximize)\n",
    "\n",
    "# list of ppc providers\n",
    "ppc_providers = ['Adwords_Search', 'Adwords_Display', 'Facebook_Ads', 'Linkedin_Ads']\n",
    "\n",
    "# the decision variables that will be spend in every ppc provider \n",
    "x = pulp.LpVariable.dict('x_%s', ppc_providers, lowBound =0)\n",
    "\n",
    "\n",
    "total_budget= 10000.0\n",
    "# average cost per click by ppc provider 0.55 eurs etc\n",
    "avg_cpm = dict(zip(ppc_providers, [0.55, 0.35, 0.75, 0.60]))\n",
    "\n",
    "# average conversion rates by ppc provider\n",
    "avg_conv_rate = dict(zip(ppc_providers, [0.11, 0.20, 0.08, 0.14]))\n",
    "\n",
    "# objective function max conversion rates\n",
    "marketing_budget += sum([ (x[i]*total_budget/avg_cpm[i])*avg_conv_rate[i] for i in ppc_providers])\n",
    "\n",
    "# total budget constraint < 1800 euros\n",
    "marketing_budget += sum([ x[i] for i in ppc_providers]) <= 1\n",
    "\n",
    "# adwords search contstraing  equal or less than 500 euros\n",
    "marketing_budget += x['Adwords_Search'] >=.1\n",
    "\n",
    "marketing_budget += x['Adwords_Display'] <= .8\n",
    "\n",
    "marketing_budget += x['Facebook_Ads'] <= .5\n",
    "\n",
    "marketing_budget += x['Linkedin_Ads'] <= .8\n",
    "\n",
    "\n",
    "#we using the default solver\n",
    "marketing_budget.solve()\n",
    "\n",
    "#print the result\n",
    "for ppc_provider in ppc_providers:\n",
    "\tprint('The amount of euros for %s is %s '%(ppc_provider,x[ppc_provider].value()))"
   ]
  },
  {
   "cell_type": "code",
   "execution_count": 78,
   "metadata": {},
   "outputs": [
    {
     "data": {
      "text/html": [
       "<div>\n",
       "<style>\n",
       "    .dataframe thead tr:only-child th {\n",
       "        text-align: right;\n",
       "    }\n",
       "\n",
       "    .dataframe thead th {\n",
       "        text-align: left;\n",
       "    }\n",
       "\n",
       "    .dataframe tbody tr th {\n",
       "        vertical-align: top;\n",
       "    }\n",
       "</style>\n",
       "<table border=\"1\" class=\"dataframe\">\n",
       "  <thead>\n",
       "    <tr style=\"text-align: right;\">\n",
       "      <th></th>\n",
       "      <th>cpm</th>\n",
       "      <th>ctr</th>\n",
       "      <th>cpc</th>\n",
       "    </tr>\n",
       "  </thead>\n",
       "  <tbody>\n",
       "    <tr>\n",
       "      <th>Adwords_Search</th>\n",
       "      <td>0.55</td>\n",
       "      <td>0.11</td>\n",
       "      <td>0.0605</td>\n",
       "    </tr>\n",
       "    <tr>\n",
       "      <th>Adwords_Display</th>\n",
       "      <td>0.35</td>\n",
       "      <td>0.20</td>\n",
       "      <td>0.0700</td>\n",
       "    </tr>\n",
       "    <tr>\n",
       "      <th>Facebook_Ads</th>\n",
       "      <td>0.75</td>\n",
       "      <td>0.08</td>\n",
       "      <td>0.0600</td>\n",
       "    </tr>\n",
       "    <tr>\n",
       "      <th>Linkedin_Ads</th>\n",
       "      <td>0.60</td>\n",
       "      <td>0.14</td>\n",
       "      <td>0.0840</td>\n",
       "    </tr>\n",
       "  </tbody>\n",
       "</table>\n",
       "</div>"
      ],
      "text/plain": [
       "                  cpm   ctr     cpc\n",
       "Adwords_Search   0.55  0.11  0.0605\n",
       "Adwords_Display  0.35  0.20  0.0700\n",
       "Facebook_Ads     0.75  0.08  0.0600\n",
       "Linkedin_Ads     0.60  0.14  0.0840"
      ]
     },
     "execution_count": 78,
     "metadata": {},
     "output_type": "execute_result"
    }
   ],
   "source": [
    "import pandas as pd\n",
    "df_cpm = pd.DataFrame.from_dict(avg_cpm, orient='index').rename(columns={0:'cpm'})\n",
    "\n",
    "df_ctr = pd.DataFrame.from_dict(avg_conv_rate, orient='index').rename(columns={0:'ctr'})\n",
    "df_rpt= pd.concat([df_cpm,df_ctr], axis=1)\n",
    "\n",
    "df_rpt['cpc'] = df_rpt['cpm'] * df_rpt['ctr']\n",
    "df_rpt"
   ]
  }
 ],
 "metadata": {
  "kernelspec": {
   "display_name": "Python 3",
   "language": "python",
   "name": "python3"
  },
  "language_info": {
   "codemirror_mode": {
    "name": "ipython",
    "version": 3
   },
   "file_extension": ".py",
   "mimetype": "text/x-python",
   "name": "python",
   "nbconvert_exporter": "python",
   "pygments_lexer": "ipython3",
   "version": "3.6.3"
  }
 },
 "nbformat": 4,
 "nbformat_minor": 2
}
