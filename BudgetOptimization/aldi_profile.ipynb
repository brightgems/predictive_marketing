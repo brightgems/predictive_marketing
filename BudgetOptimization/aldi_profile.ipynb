{
 "cells": [
  {
   "cell_type": "code",
   "execution_count": 211,
   "metadata": {
    "hideCode": false,
    "hidePrompt": false
   },
   "outputs": [],
   "source": [
    "import pandas as pd\n",
    "import numpy as np\n",
    "df_plcm = pd.read_excel('data/ALDI.xlsx','Map')\n",
    "# df_perf= pd.read_excel('data/ALDI.xlsx','Data')\n",
    "df_raw = pd.read_pickle('data/aldi_aggregate_data.p')\n"
   ]
  },
  {
   "cell_type": "markdown",
   "metadata": {
    "hideCode": true,
    "hideOutput": true
   },
   "source": [
    "preprocess df_plcm  as df_plcm_cleaned"
   ]
  },
  {
   "cell_type": "code",
   "execution_count": 472,
   "metadata": {},
   "outputs": [
    {
     "data": {
      "text/plain": [
       "Index(['Date', 'Month', 'Media_Type', 'AdGroup', 'Placement_Id', 'Product_Id',\n",
       "       'Product_Cat', 'Geo_Target', 'Device', 'IOS/AND', 'Age', 'Sex',\n",
       "       'Daily_Cost', 'Imp', 'Click', 'CTR', 'CPM', 'CPC', 'UV', 'PV',\n",
       "       'Favourites', 'Carts', 'Complete_Orders', 'Conversion_Rate',\n",
       "       'Bounce_Rate', 'Revenue', 'ROI', 'Carts Convertion Rate',\n",
       "       'Facourites Conversion Rate', 'UV/Clicks', 'CPUV'],\n",
       "      dtype='object')"
      ]
     },
     "execution_count": 472,
     "metadata": {},
     "output_type": "execute_result"
    }
   ],
   "source": [
    "df_plcm_cleaned = df_raw.drop('Media',axis=1).rename(columns = {\n",
    "    'Ad Group/Media Type':'AdGroup','Media Spending':'Daily_Cost','Guangxiaobao ID':'Placement_Id',\n",
    "    'Product ID':'Product_Id','Product Category':'Product_Cat','Day':'Date','Conversion Rate':'Conversion_Rate',\n",
    "    'Impressions':'Imp','Clicks':'Click','Bounce Rate':'Bounce_Rate','Complete Orders':'Complete_Orders', 'Media Type': 'Media_Type'\n",
    "})\n",
    "df_plcm_cleaned= df_plcm_cleaned.replace(0, np.nan)\n",
    "df_plcm_cleaned.columns"
   ]
  },
  {
   "cell_type": "markdown",
   "metadata": {},
   "source": [
    "how much % empty value for columns"
   ]
  },
  {
   "cell_type": "code",
   "execution_count": 473,
   "metadata": {
    "scrolled": false
   },
   "outputs": [
    {
     "data": {
      "image/png": "[encoded data removed]",
      "text/plain": [
       "<matplotlib.figure.Figure at 0x1336a5fd5c0>"
      ]
     },
     "metadata": {},
     "output_type": "display_data"
    }
   ],
   "source": [
    "import matplotlib.pylab as plt\n",
    "import seaborn as sns\n",
    "\n",
    "%matplotlib inline\n",
    "# df_all = df_plcm_cleaned.merge(df_perf, left_on = ['Placement'], right_on='Placement')\n",
    "(np.sum(df_plcm_cleaned.isnull())/ df_plcm_cleaned.shape[0]).sort_values(ascending=False).plot(kind='bar', figsize=(12,8));"
   ]
  },
  {
   "cell_type": "markdown",
   "metadata": {},
   "source": [
    "drop na columns"
   ]
  },
  {
   "cell_type": "code",
   "execution_count": 474,
   "metadata": {},
   "outputs": [
    {
     "data": {
      "text/plain": [
       "Index(['Date', 'Month', 'Media_Type', 'AdGroup', 'Placement_Id', 'Product_Id',\n",
       "       'Product_Cat', 'Geo_Target', 'Device', 'IOS/AND', 'Age', 'Sex',\n",
       "       'Daily_Cost', 'Imp', 'Click', 'CTR', 'CPM', 'CPC', 'UV', 'PV',\n",
       "       'Favourites', 'Carts', 'Complete_Orders', 'Conversion_Rate',\n",
       "       'Bounce_Rate', 'Revenue', 'ROI', 'Carts Convertion Rate',\n",
       "       'Facourites Conversion Rate', 'UV/Clicks', 'CPUV'],\n",
       "      dtype='object')"
      ]
     },
     "execution_count": 474,
     "metadata": {},
     "output_type": "execute_result"
    }
   ],
   "source": [
    "df_plcm_cleaned.columns"
   ]
  },
  {
   "cell_type": "code",
   "execution_count": 475,
   "metadata": {},
   "outputs": [
    {
     "name": "stdout",
     "output_type": "stream",
     "text": [
      "Index(['Favourites', 'Carts', 'Complete_Orders', 'Conversion_Rate', 'Revenue',\n",
      "       'ROI', 'Carts Convertion Rate', 'Facourites Conversion Rate'],\n",
      "      dtype='object')\n"
     ]
    },
    {
     "data": {
      "text/html": [
       "<div>\n",
       "<style>\n",
       "    .dataframe thead tr:only-child th {\n",
       "        text-align: right;\n",
       "    }\n",
       "\n",
       "    .dataframe thead th {\n",
       "        text-align: left;\n",
       "    }\n",
       "\n",
       "    .dataframe tbody tr th {\n",
       "        vertical-align: top;\n",
       "    }\n",
       "</style>\n",
       "<table border=\"1\" class=\"dataframe\">\n",
       "  <thead>\n",
       "    <tr style=\"text-align: right;\">\n",
       "      <th></th>\n",
       "      <th>Date</th>\n",
       "      <th>Month</th>\n",
       "      <th>Media_Type</th>\n",
       "      <th>AdGroup</th>\n",
       "      <th>Placement_Id</th>\n",
       "      <th>Product_Id</th>\n",
       "      <th>Product_Cat</th>\n",
       "      <th>Geo_Target</th>\n",
       "      <th>Device</th>\n",
       "      <th>IOS/AND</th>\n",
       "      <th>...</th>\n",
       "      <th>Imp</th>\n",
       "      <th>Click</th>\n",
       "      <th>CTR</th>\n",
       "      <th>CPM</th>\n",
       "      <th>CPC</th>\n",
       "      <th>UV</th>\n",
       "      <th>PV</th>\n",
       "      <th>Bounce_Rate</th>\n",
       "      <th>UV/Clicks</th>\n",
       "      <th>CPUV</th>\n",
       "    </tr>\n",
       "  </thead>\n",
       "  <tbody>\n",
       "    <tr>\n",
       "      <th>0</th>\n",
       "      <td>2017-04-24</td>\n",
       "      <td>Apr</td>\n",
       "      <td>Engage</td>\n",
       "      <td>树下频道 首页中部通栏2轮换</td>\n",
       "      <td>Babytree_201705020004</td>\n",
       "      <td>5.44549E+11</td>\n",
       "      <td>Relish</td>\n",
       "      <td>National</td>\n",
       "      <td>PC</td>\n",
       "      <td>(blank)</td>\n",
       "      <td>...</td>\n",
       "      <td>NaN</td>\n",
       "      <td>NaN</td>\n",
       "      <td>NaN</td>\n",
       "      <td>NaN</td>\n",
       "      <td>NaN</td>\n",
       "      <td>1.0</td>\n",
       "      <td>3.0</td>\n",
       "      <td>1.0</td>\n",
       "      <td>NaN</td>\n",
       "      <td>NaN</td>\n",
       "    </tr>\n",
       "    <tr>\n",
       "      <th>1</th>\n",
       "      <td>2017-04-24</td>\n",
       "      <td>Apr</td>\n",
       "      <td>Engage</td>\n",
       "      <td>APP孕育首页头图轮播第二帧</td>\n",
       "      <td>Babytree_201705020002</td>\n",
       "      <td>5.45042E+11</td>\n",
       "      <td>Organic</td>\n",
       "      <td>National</td>\n",
       "      <td>Mob</td>\n",
       "      <td>(blank)</td>\n",
       "      <td>...</td>\n",
       "      <td>12678.0</td>\n",
       "      <td>NaN</td>\n",
       "      <td>NaN</td>\n",
       "      <td>34.550305</td>\n",
       "      <td>NaN</td>\n",
       "      <td>162.0</td>\n",
       "      <td>169.0</td>\n",
       "      <td>1.0</td>\n",
       "      <td>NaN</td>\n",
       "      <td>2.703881</td>\n",
       "    </tr>\n",
       "    <tr>\n",
       "      <th>2</th>\n",
       "      <td>2017-04-24</td>\n",
       "      <td>Apr</td>\n",
       "      <td>Engage</td>\n",
       "      <td>万家频道精彩日记页中部横幅2轮换</td>\n",
       "      <td>Babytree_201705020005</td>\n",
       "      <td>5.44549E+11</td>\n",
       "      <td>Relish</td>\n",
       "      <td>National</td>\n",
       "      <td>PC</td>\n",
       "      <td>(blank)</td>\n",
       "      <td>...</td>\n",
       "      <td>NaN</td>\n",
       "      <td>NaN</td>\n",
       "      <td>NaN</td>\n",
       "      <td>NaN</td>\n",
       "      <td>NaN</td>\n",
       "      <td>1.0</td>\n",
       "      <td>2.0</td>\n",
       "      <td>1.0</td>\n",
       "      <td>NaN</td>\n",
       "      <td>NaN</td>\n",
       "    </tr>\n",
       "    <tr>\n",
       "      <th>3</th>\n",
       "      <td>2017-04-24</td>\n",
       "      <td>Apr</td>\n",
       "      <td>Engage</td>\n",
       "      <td>宝宝树首页</td>\n",
       "      <td>Babytree_201705020001</td>\n",
       "      <td>5.45042E+11</td>\n",
       "      <td>Organic</td>\n",
       "      <td>National</td>\n",
       "      <td>PC</td>\n",
       "      <td>(blank)</td>\n",
       "      <td>...</td>\n",
       "      <td>NaN</td>\n",
       "      <td>NaN</td>\n",
       "      <td>NaN</td>\n",
       "      <td>NaN</td>\n",
       "      <td>NaN</td>\n",
       "      <td>1.0</td>\n",
       "      <td>1.0</td>\n",
       "      <td>1.0</td>\n",
       "      <td>NaN</td>\n",
       "      <td>NaN</td>\n",
       "    </tr>\n",
       "    <tr>\n",
       "      <th>4</th>\n",
       "      <td>2017-04-24</td>\n",
       "      <td>Apr</td>\n",
       "      <td>Engage</td>\n",
       "      <td>开机大图</td>\n",
       "      <td>Babytree_201705020003</td>\n",
       "      <td>5.45042E+11</td>\n",
       "      <td>Organic</td>\n",
       "      <td>National</td>\n",
       "      <td>Mob</td>\n",
       "      <td>(blank)</td>\n",
       "      <td>...</td>\n",
       "      <td>5482.0</td>\n",
       "      <td>NaN</td>\n",
       "      <td>NaN</td>\n",
       "      <td>55.501310</td>\n",
       "      <td>NaN</td>\n",
       "      <td>411.0</td>\n",
       "      <td>431.0</td>\n",
       "      <td>1.0</td>\n",
       "      <td>NaN</td>\n",
       "      <td>0.740288</td>\n",
       "    </tr>\n",
       "  </tbody>\n",
       "</table>\n",
       "<p>5 rows × 23 columns</p>\n",
       "</div>"
      ],
      "text/plain": [
       "        Date Month Media_Type           AdGroup           Placement_Id  \\\n",
       "0 2017-04-24   Apr     Engage    树下频道 首页中部通栏2轮换  Babytree_201705020004   \n",
       "1 2017-04-24   Apr     Engage    APP孕育首页头图轮播第二帧  Babytree_201705020002   \n",
       "2 2017-04-24   Apr     Engage  万家频道精彩日记页中部横幅2轮换  Babytree_201705020005   \n",
       "3 2017-04-24   Apr     Engage             宝宝树首页  Babytree_201705020001   \n",
       "4 2017-04-24   Apr     Engage              开机大图  Babytree_201705020003   \n",
       "\n",
       "    Product_Id Product_Cat Geo_Target Device  IOS/AND    ...         Imp  \\\n",
       "0  5.44549E+11      Relish   National     PC  (blank)    ...         NaN   \n",
       "1  5.45042E+11     Organic   National    Mob  (blank)    ...     12678.0   \n",
       "2  5.44549E+11      Relish   National     PC  (blank)    ...         NaN   \n",
       "3  5.45042E+11     Organic   National     PC  (blank)    ...         NaN   \n",
       "4  5.45042E+11     Organic   National    Mob  (blank)    ...      5482.0   \n",
       "\n",
       "  Click  CTR        CPM  CPC     UV     PV  Bounce_Rate  UV/Clicks      CPUV  \n",
       "0   NaN  NaN        NaN  NaN    1.0    3.0          1.0        NaN       NaN  \n",
       "1   NaN  NaN  34.550305  NaN  162.0  169.0          1.0        NaN  2.703881  \n",
       "2   NaN  NaN        NaN  NaN    1.0    2.0          1.0        NaN       NaN  \n",
       "3   NaN  NaN        NaN  NaN    1.0    1.0          1.0        NaN       NaN  \n",
       "4   NaN  NaN  55.501310  NaN  411.0  431.0          1.0        NaN  0.740288  \n",
       "\n",
       "[5 rows x 23 columns]"
      ]
     },
     "execution_count": 475,
     "metadata": {},
     "output_type": "execute_result"
    }
   ],
   "source": [
    "d_cols = df_plcm_cleaned.columns[(np.sum(df_plcm_cleaned.isnull())/ df_plcm_cleaned.shape[0])>.99]\n",
    "df_plcm_cleaned = df_plcm_cleaned.drop(d_cols, axis=1)\n",
    "print(d_cols)\n",
    "df_plcm_cleaned.head()                                       "
   ]
  },
  {
   "cell_type": "markdown",
   "metadata": {
    "hideCode": true,
    "hideOutput": true
   },
   "source": [
    "remove rows if cost is 0"
   ]
  },
  {
   "cell_type": "code",
   "execution_count": 476,
   "metadata": {},
   "outputs": [
    {
     "data": {
      "text/plain": [
       "(40571, 23)"
      ]
     },
     "execution_count": 476,
     "metadata": {},
     "output_type": "execute_result"
    }
   ],
   "source": [
    "df_plcm_filtered = df_plcm_cleaned[df_plcm_cleaned.Daily_Cost>10]\n",
    "df_plcm_filtered.shape"
   ]
  },
  {
   "cell_type": "markdown",
   "metadata": {},
   "source": [
    "add additional features about placement"
   ]
  },
  {
   "cell_type": "code",
   "execution_count": 477,
   "metadata": {},
   "outputs": [
    {
     "data": {
      "text/plain": [
       "Index(['Campaign_Name', 'Campaign ID', 'Category', 'Media', 'Platform',\n",
       "       'Campaign', 'Ad Group/Media Type', 'Device', 'Site',\n",
       "       'Impressions Tracking', 'Clicks Tracking', 'Guangxiaobao ID', 'SPID',\n",
       "       'Placement Name', 'Package', 'Location', 'ID_Buy', 'Geo_Target',\n",
       "       'Product Category', 'Product ID', 'keywords', 'Sex', 'Age', 'IOS/AND',\n",
       "       'Buying Type', 'Placement_Est_Daily_Imp', 'Placement_Est_Daily_Clicks',\n",
       "       'Est_Total_Imp', 'Est_CTR', 'Planned_Cost', 'EST.CPC', 'EST.CPM',\n",
       "       'Days', 'Flight_Start', 'Flight_End'],\n",
       "      dtype='object')"
      ]
     },
     "execution_count": 477,
     "metadata": {},
     "output_type": "execute_result"
    }
   ],
   "source": [
    "df_plcm.columns"
   ]
  },
  {
   "cell_type": "code",
   "execution_count": 481,
   "metadata": {},
   "outputs": [
    {
     "data": {
      "text/plain": [
       "Index(['Date', 'Month', 'Media_Type', 'AdGroup', 'Placement_Id', 'Product_Id',\n",
       "       'Product_Cat', 'Geo_Target', 'Device', 'IOS/AND', 'Age', 'Sex',\n",
       "       'Daily_Cost', 'Imp', 'Click', 'CTR', 'CPM', 'CPC', 'UV', 'PV',\n",
       "       'Bounce_Rate', 'UV/Clicks', 'CPUV', 'Media', 'Placement'],\n",
       "      dtype='object')"
      ]
     },
     "execution_count": 481,
     "metadata": {},
     "output_type": "execute_result"
    }
   ],
   "source": [
    "df_plcm_short = df_plcm[['Guangxiaobao ID','Site','Placement Name']].rename(columns={'Guangxiaobao ID':'Placement_Id','Placement Name':'Placement'})\n",
    "df_plcm_comb = df_plcm_filtered.merge(df_plcm_short, on = 'Placement_Id').rename(columns={'Site':'Media'})\n",
    "df_plcm_comb.columns"
   ]
  },
  {
   "cell_type": "code",
   "execution_count": 482,
   "metadata": {},
   "outputs": [
    {
     "data": {
      "text/plain": [
       "['Cum_Daily_Cost',\n",
       " 'Cum_Imp',\n",
       " 'Cum_Click',\n",
       " 'Cum_UV',\n",
       " 'Cum_PV',\n",
       " 'Cum_CTR',\n",
       " 'Cum_CPM',\n",
       " 'Cum_Imp2Pv',\n",
       " 'Avg_CTR_last3d',\n",
       " 'Avg_CTR_last10d']"
      ]
     },
     "execution_count": 482,
     "metadata": {},
     "output_type": "execute_result"
    }
   ],
   "source": [
    "# cummulated numbers\n",
    "# cost\n",
    "import warnings\n",
    "warnings.filterwarnings('ignore')\n",
    "def add_ts_features(df_plac_perf):\n",
    "    df_cum_cost= df_plac_perf.set_index(['Placement_Id','Date']).groupby(level=0)['Daily_Cost'].transform(lambda g: g.shift(1).cumsum()).rename('Cum_Daily_Cost').to_frame().reset_index()\n",
    "    df_plac_perf = pd.merge(df_plac_perf, df_cum_cost, on = ['Placement_Id','Date'])\n",
    "    # imp\n",
    "    df_cum_cost= df_plac_perf.set_index(['Placement_Id','Date']).groupby(level=0)['Imp'].transform(lambda g: g.shift(1).cumsum()).rename('Cum_Imp').to_frame().reset_index()\n",
    "    df_plac_perf = pd.merge(df_plac_perf, df_cum_cost, on = ['Placement_Id','Date'])\n",
    "    # clk\n",
    "    df_cum_cost= df_plac_perf.set_index(['Placement_Id','Date']).groupby(level=0)['Click'].transform(lambda g: g.shift(1).cumsum()).rename('Cum_Click').to_frame().reset_index()\n",
    "    df_plac_perf = pd.merge(df_plac_perf, df_cum_cost, on = ['Placement_Id','Date'])\n",
    "    # clk\n",
    "    df_cum_cost= df_plac_perf.set_index(['Placement_Id','Date']).groupby(level=0)['UV'].transform(lambda g: g.shift(1).cumsum()).rename('Cum_UV').to_frame().reset_index()\n",
    "    df_plac_perf = pd.merge(df_plac_perf, df_cum_cost, on = ['Placement_Id','Date'])\n",
    "    # visits\n",
    "    df_cum_visits= df_plac_perf.set_index(['Placement_Id','Date']).groupby(level=0)['PV'].transform(lambda g: g.shift(1).cumsum()).rename('Cum_PV').to_frame().reset_index()\n",
    "    df_plac_perf = pd.merge(df_plac_perf, df_cum_visits, on = ['Placement_Id','Date'])    \n",
    "    \n",
    "    ## calculate\n",
    "    df_plac_perf['Cum_CTR'] = df_plac_perf['Cum_Click']/df_plac_perf['Cum_Imp'] * 100\n",
    "    df_plac_perf['Cum_CPM'] = df_plac_perf['Cum_Daily_Cost']/df_plac_perf['Cum_Imp'] * 100\n",
    "#     df_plac_perf['Imp_Complete%'] = df_plac_perf['Cum_Imp'] / df_plac_perf['Total_Est_Imp']\n",
    "#     df_plac_perf['Imp%'] = df_plac_perf['Daily_Cost'] / df_plac_perf['Total_Cost']\n",
    "    df_plac_perf['Cum_Imp2Pv'] = df_plac_perf['Cum_PV'] / df_plac_perf['Cum_Imp']\n",
    "\n",
    "    # last 3d\n",
    "    df_mediactr = df_plac_perf.groupby(['Media','Date'])['Media','Date','Cum_Imp','Cum_Click'].mean()\n",
    "    df_mediactr = df_mediactr.groupby(level=0).apply(lambda g: g.shift(1).rolling(10, min_periods=1).mean()).assign(Avg_CTR_last3d = lambda o:o.Cum_Click/ o.Cum_Imp *100 )\n",
    "    df_mediactr = df_mediactr.groupby(level=0).apply(lambda g: g.shift(1).rolling(10, min_periods=1).mean()).assign(Avg_CTR_last10d = lambda o:o.Cum_Click/ o.Cum_Imp *100 )\n",
    "    df_mediactr = df_mediactr.drop(['Cum_Imp','Cum_Click'], axis=1).reset_index()\n",
    "    df_plac_perf = pd.merge(df_plac_perf, df_mediactr, on = ['Media','Date'])\n",
    "    \n",
    "    return df_plac_perf\n",
    "\n",
    "df_featured = df_plcm_comb.copy()\n",
    "df_featured = add_ts_features(df_featured)\n",
    "\n",
    "[col for col in df_featured.columns if col.startswith('Cum') or col.startswith('Avg')]\n"
   ]
  },
  {
   "cell_type": "markdown",
   "metadata": {},
   "source": [
    "how much % of null vaues for new features"
   ]
  },
  {
   "cell_type": "code",
   "execution_count": 483,
   "metadata": {},
   "outputs": [
    {
     "data": {
      "text/plain": [
       "Cum_Imp2Pv     0.874196\n",
       "Cum_PV         0.874097\n",
       "Cum_UV         0.874097\n",
       "UV/Clicks      0.862389\n",
       "Bounce_Rate    0.861650\n",
       "UV             0.861502\n",
       "CPUV           0.861502\n",
       "PV             0.861502\n",
       "Cum_CTR        0.105741\n",
       "Cum_Click      0.105642\n",
       "dtype: float64"
      ]
     },
     "execution_count": 483,
     "metadata": {},
     "output_type": "execute_result"
    }
   ],
   "source": [
    "(df_featured.isnull().sum()/df_featured.shape[0]).sort_values(ascending = False).head(10)"
   ]
  },
  {
   "cell_type": "code",
   "execution_count": 486,
   "metadata": {},
   "outputs": [
    {
     "data": {
      "text/plain": [
       "(0, 10)"
      ]
     },
     "execution_count": 486,
     "metadata": {},
     "output_type": "execute_result"
    },
    {
     "data": {
      "image/png": "[encoded data removed]",
      "text/plain": [
       "<matplotlib.figure.Figure at 0x13368c8bb00>"
      ]
     },
     "metadata": {},
     "output_type": "display_data"
    }
   ],
   "source": [
    "import seaborn as sns\n",
    "sns.color_palette('Set1')\n",
    "plt.figure(figsize=(18,6))\n",
    "df_mediactr = df_featured.groupby(['Media','Date'])['Media','Date','Cum_Imp','Cum_Click'].mean()\n",
    "df_mediactr = df_mediactr.groupby(level=0).apply(lambda g: g.shift(1).rolling(3, min_periods=1).sum()).assign(Avg_CTR_last3d = lambda o:o.Cum_Click/ o.Cum_Imp *100 )\n",
    "df_mediactr = df_mediactr.reset_index()\n",
    "df_mediactr['Avg_CTR_last3d'] = df_mediactr['Avg_CTR_last3d'].fillna(0.001)\n",
    "sns.pointplot(data=df_mediactr[df_mediactr.Date<'2017-05-18'], x='Date', y ='Avg_CTR_last3d', hue='Media')\n",
    "plt.ylim([0,10])\n"
   ]
  },
  {
   "cell_type": "code",
   "execution_count": 487,
   "metadata": {},
   "outputs": [
    {
     "data": {
      "text/plain": [
       "count                     591\n",
       "unique                    247\n",
       "top       2017-06-05 00:00:00\n",
       "freq                        6\n",
       "first     2017-04-24 00:00:00\n",
       "last      2017-12-31 00:00:00\n",
       "Name: Date, dtype: object"
      ]
     },
     "execution_count": 487,
     "metadata": {},
     "output_type": "execute_result"
    }
   ],
   "source": [
    "df_mediactr.Date.describe()"
   ]
  },
  {
   "cell_type": "code",
   "execution_count": 488,
   "metadata": {},
   "outputs": [
    {
     "data": {
      "image/png": "[encoded data removed]",
      "text/plain": [
       "<matplotlib.figure.Figure at 0x13368126be0>"
      ]
     },
     "metadata": {},
     "output_type": "display_data"
    }
   ],
   "source": [
    "# segment cost; visual\n",
    "\n",
    "# df_plac_perf['Total_Cost']=df_plac_perf.Total_Cost.fillna(0)\n",
    "df_featured['qcost'] = pd.qcut( df_featured.Daily_Cost,4).astype(str)\n",
    "\n",
    "df_plac_agg = df_featured.groupby(['Placement_Id']).max()\n",
    "fig, axarr = plt.subplots(2,2, figsize=(15,8))\n",
    "\n",
    "ax1 = df_plac_agg.plot(kind='hist', x= 'Media',y='Daily_Cost', title='histogram of Total Cost', ax=axarr[0,0])\n",
    "\n",
    "ax2 = df_plac_agg.groupby('Media')['Daily_Cost'].sum().sort_values(ascending=False).plot(kind='bar',x='Media',y='Daily_Cost', title='Total Cost by Media',ax=axarr[0,1])\n",
    "\n",
    "df_plac_agg.groupby('Media')['Daily_Cost'].sum().sort_values(ascending=False).plot(kind='bar',x='Media_Type',y='Daily_Cost', title='Total Cost by Site',ax=axarr[1,0])\n",
    "\n",
    "df_plac_agg['qcost'].value_counts().plot(kind='bar',ax=axarr[1,1])\n",
    "plt.text(1,100,'Cost by segments', fontsize=14);"
   ]
  },
  {
   "cell_type": "markdown",
   "metadata": {},
   "source": [
    "placement count by site"
   ]
  },
  {
   "cell_type": "code",
   "execution_count": 489,
   "metadata": {},
   "outputs": [
    {
     "data": {
      "text/plain": [
       "Media\n",
       "BabyTree                   7\n",
       "OTV CPM                   24\n",
       "OTV SOHU SOV               8\n",
       "OnlyLady                   7\n",
       "Rich Media               140\n",
       "Tencent CPM                2\n",
       "XIMALAYA                   1\n",
       "Xaxis-Light Reaction    3685\n",
       "Xaxis-Opening Page        53\n",
       "YouKu                     15\n",
       "dtype: int64"
      ]
     },
     "execution_count": 489,
     "metadata": {},
     "output_type": "execute_result"
    }
   ],
   "source": [
    "df_plac_agg.groupby('Media').size()"
   ]
  },
  {
   "cell_type": "code",
   "execution_count": 565,
   "metadata": {},
   "outputs": [
    {
     "data": {
      "text/plain": [
       "array(['BabyTree', 'OnlyLady', 'Opening Page', 'XIMALAYA', 'Youku',\n",
       "       'Light Reaction', 'OTV', 'RM'], dtype=object)"
      ]
     },
     "execution_count": 565,
     "metadata": {},
     "output_type": "execute_result"
    }
   ],
   "source": [
    "df_raw.Media.unique()"
   ]
  },
  {
   "cell_type": "code",
   "execution_count": 495,
   "metadata": {
    "scrolled": false
   },
   "outputs": [
    {
     "name": "stdout",
     "output_type": "stream",
     "text": [
      "cpm row#:3841\n",
      "cpc row#:36730\n"
     ]
    }
   ],
   "source": [
    "df_featured['Daily_Cost_Log'] = stats.boxcox(df_featured.Daily_Cost)[0]\n",
    "df_cpc = df_featured.query(\"Media =='Xaxis-Light Reaction'\")\n",
    "df_cpm = df_featured.query(\"Media !='Xaxis-Light Reaction'\")\n",
    "print('cpm row#:%d' % df_cpm.shape[0])\n",
    "print('cpc row#:%d' % df_cpc.shape[0])"
   ]
  },
  {
   "cell_type": "code",
   "execution_count": 496,
   "metadata": {},
   "outputs": [
    {
     "data": {
      "image/png": "[encoded data removed]",
      "text/plain": [
       "<matplotlib.figure.Figure at 0x1333ba71358>"
      ]
     },
     "metadata": {},
     "output_type": "display_data"
    }
   ],
   "source": [
    "from scipy import stats\n",
    "\n",
    "\n",
    "fig = plt.figure(figsize= (18,6))\n",
    "ax1 = fig.add_subplot(121)\n",
    "\n",
    "prob = stats.probplot(df_cpm.Daily_Cost_Log, dist=stats.norm, plot=ax1)\n",
    "ax1.set_xlabel('')\n",
    "ax1.set_title('CPM: Probplot against normal distribution')\n",
    "ax2 = fig.add_subplot(122)\n",
    "prob = stats.probplot(df_cpc.Daily_Cost_Log, dist=stats.norm, plot=ax2)\n",
    "ax2.set_xlabel('')\n",
    "ax2.set_title('CPC: Probplot against normal distribution')\n",
    "plt.show()"
   ]
  },
  {
   "cell_type": "markdown",
   "metadata": {},
   "source": [
    "查看广告位描述里的词分布"
   ]
  },
  {
   "cell_type": "code",
   "execution_count": 497,
   "metadata": {},
   "outputs": [
    {
     "data": {
      "text/plain": [
       "['APP 头图 轮播',\n",
       " '开机 大图',\n",
       " '宝宝',\n",
       " '精彩 媒体',\n",
       " 'bigday 头图 底纹',\n",
       " '摩天大楼',\n",
       " 'Loading page 全屏 开机 动态 大图',\n",
       " '媒体',\n",
       " '正在 直播 媒体',\n",
       " '直播 频道 banner1 媒体']"
      ]
     },
     "execution_count": 497,
     "metadata": {},
     "output_type": "execute_result"
    }
   ],
   "source": [
    "# 对广告位描述分词\n",
    "from sklearn import feature_extraction\n",
    "from sklearn.feature_extraction.text import TfidfTransformer\n",
    "from sklearn.feature_extraction.text import CountVectorizer\n",
    "import jieba\n",
    "import jieba.analyse as jieba_analyse\n",
    "import jieba.posseg as pseg\n",
    "\n",
    "jieba_analyse.set_stop_words('stopwords.txt') \n",
    "jieba.load_userdict('userdict.txt')\n",
    "\n",
    "# jieba.add_word('中大型')\n",
    "datas = []\n",
    "\n",
    "df_wcut =  df_cpm[['Placement_Id','AdGroup']].mask(df_cpm.Placement_Id.str.contains('Xaxis')).drop_duplicates().dropna()\n",
    "corpus = df_wcut['AdGroup'].values\n",
    "for oneline in corpus:\n",
    "    seg_list = pseg.cut(oneline)\n",
    "#     print([\",\".join(w) for w in seg_list ])\n",
    "    words = [w for w,c in seg_list if c not in ['v','x','f','p','ns','m','w','u'] and len(w)>1 and not w.isnumeric()]\n",
    "    \n",
    "    datas.append(\" \".join(words))\n",
    "datas[:10]"
   ]
  },
  {
   "cell_type": "code",
   "execution_count": 498,
   "metadata": {},
   "outputs": [
    {
     "data": {
      "text/html": [
       "<div>\n",
       "<style>\n",
       "    .dataframe thead tr:only-child th {\n",
       "        text-align: right;\n",
       "    }\n",
       "\n",
       "    .dataframe thead th {\n",
       "        text-align: left;\n",
       "    }\n",
       "\n",
       "    .dataframe tbody tr th {\n",
       "        vertical-align: top;\n",
       "    }\n",
       "</style>\n",
       "<table border=\"1\" class=\"dataframe\">\n",
       "  <thead>\n",
       "    <tr style=\"text-align: right;\">\n",
       "      <th></th>\n",
       "      <th>Placement_Id</th>\n",
       "      <th>AdGroup</th>\n",
       "    </tr>\n",
       "  </thead>\n",
       "  <tbody>\n",
       "    <tr>\n",
       "      <th>0</th>\n",
       "      <td>Babytree_201705020002</td>\n",
       "      <td>APP孕育首页头图轮播第二帧</td>\n",
       "    </tr>\n",
       "    <tr>\n",
       "      <th>1</th>\n",
       "      <td>Babytree_201705020003</td>\n",
       "      <td>开机大图</td>\n",
       "    </tr>\n",
       "    <tr>\n",
       "      <th>4</th>\n",
       "      <td>Babytree_201705020001</td>\n",
       "      <td>宝宝树首页</td>\n",
       "    </tr>\n",
       "    <tr>\n",
       "      <th>17</th>\n",
       "      <td>Youku8</td>\n",
       "      <td>精彩邀你约--媒体提供</td>\n",
       "    </tr>\n",
       "    <tr>\n",
       "      <th>18</th>\n",
       "      <td>Onlylady_201705020001</td>\n",
       "      <td>首页 定制bigday（头图+底纹）大</td>\n",
       "    </tr>\n",
       "  </tbody>\n",
       "</table>\n",
       "</div>"
      ],
      "text/plain": [
       "             Placement_Id              AdGroup\n",
       "0   Babytree_201705020002       APP孕育首页头图轮播第二帧\n",
       "1   Babytree_201705020003                 开机大图\n",
       "4   Babytree_201705020001                宝宝树首页\n",
       "17                 Youku8          精彩邀你约--媒体提供\n",
       "18  Onlylady_201705020001  首页 定制bigday（头图+底纹）大"
      ]
     },
     "execution_count": 498,
     "metadata": {},
     "output_type": "execute_result"
    }
   ],
   "source": [
    "df_wcut.head()"
   ]
  },
  {
   "cell_type": "code",
   "execution_count": 499,
   "metadata": {},
   "outputs": [],
   "source": [
    "# 计算tfidf\n",
    "freWord = CountVectorizer()\n",
    "#统计每个词语的tf-idf权值\n",
    "transformer = TfidfTransformer()\n",
    "#计算出tf-idf(第一个fit_transform),并将其转换为tf-idf矩阵(第二个fit_transformer)\n",
    "tfidf = transformer.fit_transform(freWord.fit_transform(datas))\n",
    "\n",
    "#获取词袋模型中的所有词语\n",
    "word = freWord.get_feature_names()\n",
    "#得到权重\n",
    "weight = tfidf.toarray()\n",
    "tfidfDict = {}\n",
    "for i in range(len(weight)):\n",
    "    for j in range(len(word)):\n",
    "        getWord = word[j]\n",
    "        \n",
    "        getValue = weight[i][j]\n",
    "        \n",
    "        if getValue != 0:\n",
    "            if tfidfDict.get(getWord):\n",
    "                tfidfDict[getWord] += getValue\n",
    "                \n",
    "            else:\n",
    "                tfidfDict.update({getWord:getValue})"
   ]
  },
  {
   "cell_type": "code",
   "execution_count": 500,
   "metadata": {},
   "outputs": [
    {
     "data": {
      "text/plain": [
       "[('pre', 24.041630560342604),\n",
       " ('roll', 24.041630560342604),\n",
       " ('媒体', 6.375932229060396),\n",
       " ('直播', 2.648377931329665),\n",
       " ('频道', 2.3261169893690647),\n",
       " ('开机', 2.040689015189794),\n",
       " ('op', 1.9387744658879478),\n",
       " ('摩天大楼', 1.7071067811865475),\n",
       " ('时尚', 1.7071067811865475),\n",
       " ('精彩', 1.6813519358235438)]"
      ]
     },
     "execution_count": 500,
     "metadata": {},
     "output_type": "execute_result"
    }
   ],
   "source": [
    "# tfidf 排序\n",
    "sorted_tfidf = sorted(tfidfDict.items(),key = lambda d:d[1],reverse = True)\n",
    "sorted_tfidf[:10]"
   ]
  },
  {
   "cell_type": "code",
   "execution_count": 501,
   "metadata": {},
   "outputs": [
    {
     "data": {
      "image/png": "[encoded data removed]",
      "text/plain": [
       "<matplotlib.figure.Figure at 0x1336877b9b0>"
      ]
     },
     "metadata": {},
     "output_type": "display_data"
    }
   ],
   "source": [
    "# 词云\n",
    "%matplotlib inline\n",
    "import matplotlib.pyplot as plt\n",
    "from scipy.misc import imread\n",
    "from wordcloud import WordCloud, STOPWORDS, ImageColorGenerator\n",
    "# from wordcloud_cn import WordCloud_CN\n",
    "\n",
    "wc_fname = \"%s.png\"%('md_ads')\n",
    "wc = WordCloud(font_path='msyh.ttf',\n",
    "                background_color=\"white\", max_words=100,\n",
    "                max_font_size=40, random_state=42)\n",
    "\n",
    "wc.generate_from_frequencies(tfidfDict)\n",
    "\n",
    "fig = plt.imshow(wc.recolor())\n",
    "fig.axes.get_xaxis().set_visible(False)\n",
    "fig.axes.get_yaxis().set_visible(False)"
   ]
  },
  {
   "cell_type": "code",
   "execution_count": 502,
   "metadata": {},
   "outputs": [],
   "source": [
    "df_words = pd.DataFrame(tfidf.todense(), columns= word)\n",
    "topn_words= df_words.sum().sort_values(ascending=False)[:50].index\n",
    "df_words= df_words[topn_words]\n",
    "df_words.columns=[c+'__' for c in df_words.columns]\n"
   ]
  },
  {
   "cell_type": "code",
   "execution_count": 503,
   "metadata": {},
   "outputs": [
    {
     "name": "stdout",
     "output_type": "stream",
     "text": [
      "cluster to 3 categories\n"
     ]
    }
   ],
   "source": [
    "# 文本分类\n",
    "# -*- coding: cp936 -*-\n",
    "#-*- coding:utf-8 -*-\n",
    "from PIL import Image,ImageDraw\n",
    "import os, codecs, random\n",
    "from math import sqrt\n",
    "from sklearn.cluster import k_means, dbscan\n",
    "\n",
    "# clusters = dbscan(df_words,eps=1, min_samples=10)\n",
    "clusters = k_means(df_words,n_clusters=3)\n",
    "clusters[1].shape\n",
    "print('cluster to %d categories' % len(np.unique(clusters[1])))"
   ]
  },
  {
   "cell_type": "code",
   "execution_count": 504,
   "metadata": {},
   "outputs": [
    {
     "data": {
      "image/png": "[encoded data removed]",
      "text/plain": [
       "<matplotlib.figure.Figure at 0x13352a43a58>"
      ]
     },
     "metadata": {},
     "output_type": "display_data"
    }
   ],
   "source": [
    "df_wcut['word_cluster'] = clusters[1]\n",
    "df_wcut['word_cluster'].value_counts().plot(kind='bar', title='count# by word cluster');"
   ]
  },
  {
   "cell_type": "markdown",
   "metadata": {},
   "source": [
    "cannot found meaningfull cluster  "
   ]
  },
  {
   "cell_type": "code",
   "execution_count": 505,
   "metadata": {},
   "outputs": [
    {
     "data": {
      "text/plain": [
       "'top 5 keywords in each cluster:'"
      ]
     },
     "metadata": {},
     "output_type": "display_data"
    },
    {
     "name": "stdout",
     "output_type": "stream",
     "text": [
      "cluster 1(34):\n",
      "cluster 0(21):头图__,媒体__,站外__,大图__,开机__,合作伙伴__,logo__,app__,底纹__,轮播__\n",
      "cluster 2(12):媒体__\n"
     ]
    }
   ],
   "source": [
    "display('top 5 keywords in each cluster:')\n",
    "df_topn_words = pd.concat([df_wcut,df_words], axis=1)\n",
    "df_cluster = df_wcut.groupby(['word_cluster']).size().sort_values(ascending = False)\n",
    "for clusterNo, cnt in df_cluster[:30].iteritems():\n",
    "    df_winc = df_topn_words[(df_topn_words.word_cluster==clusterNo)].drop(['Placement_Id','AdGroup','word_cluster'],axis=1).sum().sort_values(ascending=False)\n",
    "    \n",
    "    print('cluster %s(%s):'%(str(clusterNo), cnt) + ','.join(list(df_winc[df_winc>0].head(10).index)))\n",
    "    "
   ]
  },
  {
   "cell_type": "markdown",
   "metadata": {},
   "source": [
    "look at look at correlation between CTR and Cost/timeseries metrics"
   ]
  },
  {
   "cell_type": "code",
   "execution_count": 507,
   "metadata": {},
   "outputs": [
    {
     "data": {
      "image/png": "[encoded data removed]",
      "text/plain": [
       "<matplotlib.figure.Figure at 0x13352b5f828>"
      ]
     },
     "metadata": {},
     "output_type": "display_data"
    }
   ],
   "source": [
    "sns.boxplot('Daily_Cost', 'Media', data = df_cpm )\n",
    "plt.title('cost distribution by media');"
   ]
  },
  {
   "cell_type": "code",
   "execution_count": 510,
   "metadata": {},
   "outputs": [
    {
     "data": {
      "image/png": "[encoded data removed]",
      "text/plain": [
       "<matplotlib.figure.Figure at 0x1336a58bac8>"
      ]
     },
     "metadata": {},
     "output_type": "display_data"
    }
   ],
   "source": [
    "sns.boxplot('CTR', 'Media', data = df_cpm )\n",
    "plt.title('CTR distribution by media');"
   ]
  },
  {
   "cell_type": "markdown",
   "metadata": {},
   "source": [
    "remove outlier"
   ]
  },
  {
   "cell_type": "code",
   "execution_count": 514,
   "metadata": {},
   "outputs": [
    {
     "data": {
      "image/png": "[encoded data removed]",
      "text/plain": [
       "<matplotlib.figure.Figure at 0x1336e042550>"
      ]
     },
     "metadata": {},
     "output_type": "display_data"
    }
   ],
   "source": [
    "ctr_99 = df_cpm.CTR.quantile(.99)\n",
    "df_cpm_outlier = df_cpm[df_cpm.CTR>ctr_99]\n",
    "df_cpm_clean = df_cpm[df_cpm.CTR<=ctr_99]\n",
    "sns.boxplot('CTR', 'Media', data = df_cpm_clean )\n",
    "plt.title('CTR distribution by media');"
   ]
  },
  {
   "cell_type": "markdown",
   "metadata": {},
   "source": [
    "fill na for Cum_CTR Avg_CTR_last3d Avg_CTR_last10d"
   ]
  },
  {
   "cell_type": "code",
   "execution_count": 543,
   "metadata": {},
   "outputs": [
    {
     "data": {
      "text/plain": [
       "Cum_PV         0.722271\n",
       "Cum_Imp2Pv     0.722271\n",
       "Cum_UV         0.722271\n",
       "Bounce_Rate    0.705882\n",
       "UV             0.705590\n",
       "PV             0.705590\n",
       "UV/Clicks      0.705590\n",
       "CPUV           0.705590\n",
       "CTR_last7      0.677202\n",
       "Cum_CTR        0.122622\n",
       "dtype: float64"
      ]
     },
     "execution_count": 543,
     "metadata": {},
     "output_type": "execute_result"
    }
   ],
   "source": [
    "(df_cpm_clean.isnull().sum()/df_cpm_clean.shape[0]).sort_values(ascending = False).head(10)"
   ]
  },
  {
   "cell_type": "code",
   "execution_count": 546,
   "metadata": {},
   "outputs": [],
   "source": [
    "df_cum_CTR= df_cpm_clean.set_index(['Date']).groupby(level=0)['CTR'].transform(lambda g: g.shift(1).rolling(7, min_periods=1).mean()).rename('Cum_CTR').to_frame().reset_index()\n",
    "df_cum_CTR = df_cum_CTR.fillna(df_cum_CTR.mean())\n",
    "df_cpm_clean.loc[:,'CTR_last7'] = df_cum_CTR.Cum_CTR\n",
    "nullctr_idx = df_cpm_clean[df_cpm_clean.Cum_CTR.isnull()].index\n",
    "df_cpm_clean.loc[nullctr_idx,'Cum_CTR'] = df_cpm_clean.loc[nullctr_idx,'CTR_last7']"
   ]
  },
  {
   "cell_type": "code",
   "execution_count": 551,
   "metadata": {},
   "outputs": [
    {
     "data": {
      "text/plain": [
       "<seaborn.axisgrid.FacetGrid at 0x13370d8e320>"
      ]
     },
     "execution_count": 551,
     "metadata": {},
     "output_type": "execute_result"
    },
    {
     "data": {
      "image/png": "[encoded data removed]",
      "text/plain": [
       "<matplotlib.figure.Figure at 0x13370d78be0>"
      ]
     },
     "metadata": {},
     "output_type": "display_data"
    }
   ],
   "source": [
    "sns.lmplot('Cum_CTR', 'CTR',hue='Media', data = df_cpm_clean.query('Media!=\"BabyTree\"'))"
   ]
  },
  {
   "cell_type": "markdown",
   "metadata": {},
   "source": [
    "predict CTR using Cost/timeseries metrics\n"
   ]
  },
  {
   "cell_type": "code",
   "execution_count": 554,
   "metadata": {},
   "outputs": [
    {
     "data": {
      "text/plain": [
       "Index(['Date', 'Month', 'Media_Type', 'AdGroup', 'Placement_Id', 'Product_Id',\n",
       "       'Product_Cat', 'Geo_Target', 'Device', 'IOS/AND', 'Age', 'Sex',\n",
       "       'Daily_Cost', 'Imp', 'Click', 'CTR', 'CPM', 'CPC', 'UV', 'PV',\n",
       "       'Bounce_Rate', 'UV/Clicks', 'CPUV', 'Media', 'Placement',\n",
       "       'Cum_Daily_Cost', 'Cum_Imp', 'Cum_Click', 'Cum_UV', 'Cum_PV', 'Cum_CTR',\n",
       "       'Cum_CPM', 'Cum_Imp2Pv', 'Avg_CTR_last3d', 'Avg_CTR_last10d', 'qcost',\n",
       "       'Daily_Cost_Log'],\n",
       "      dtype='object')"
      ]
     },
     "execution_count": 554,
     "metadata": {},
     "output_type": "execute_result"
    }
   ],
   "source": [
    "df_cpm.columns"
   ]
  },
  {
   "cell_type": "code",
   "execution_count": 555,
   "metadata": {},
   "outputs": [
    {
     "data": {
      "text/html": [
       "<div>\n",
       "<style>\n",
       "    .dataframe thead tr:only-child th {\n",
       "        text-align: right;\n",
       "    }\n",
       "\n",
       "    .dataframe thead th {\n",
       "        text-align: left;\n",
       "    }\n",
       "\n",
       "    .dataframe tbody tr th {\n",
       "        vertical-align: top;\n",
       "    }\n",
       "</style>\n",
       "<table border=\"1\" class=\"dataframe\">\n",
       "  <thead>\n",
       "    <tr style=\"text-align: right;\">\n",
       "      <th></th>\n",
       "      <th>CTR</th>\n",
       "      <th>Cum_UV</th>\n",
       "      <th>Cum_PV</th>\n",
       "      <th>Cum_CTR</th>\n",
       "      <th>Cum_CPM</th>\n",
       "      <th>Cum_Imp2Pv</th>\n",
       "      <th>Avg_CTR_last3d</th>\n",
       "      <th>Avg_CTR_last10d</th>\n",
       "    </tr>\n",
       "  </thead>\n",
       "  <tbody>\n",
       "    <tr>\n",
       "      <th>count</th>\n",
       "      <td>3435.000000</td>\n",
       "      <td>3435.000000</td>\n",
       "      <td>3435.000000</td>\n",
       "      <td>3435.000000</td>\n",
       "      <td>3435.000000</td>\n",
       "      <td>3435.000000</td>\n",
       "      <td>3435.000000</td>\n",
       "      <td>3435.000000</td>\n",
       "    </tr>\n",
       "    <tr>\n",
       "      <th>mean</th>\n",
       "      <td>1.989563</td>\n",
       "      <td>22339.821543</td>\n",
       "      <td>25463.624163</td>\n",
       "      <td>1.668933</td>\n",
       "      <td>3.114772</td>\n",
       "      <td>0.011793</td>\n",
       "      <td>1.520809</td>\n",
       "      <td>1.510020</td>\n",
       "    </tr>\n",
       "    <tr>\n",
       "      <th>std</th>\n",
       "      <td>2.519175</td>\n",
       "      <td>85337.550203</td>\n",
       "      <td>95778.963966</td>\n",
       "      <td>2.184963</td>\n",
       "      <td>1.281884</td>\n",
       "      <td>0.027943</td>\n",
       "      <td>1.661984</td>\n",
       "      <td>1.664518</td>\n",
       "    </tr>\n",
       "    <tr>\n",
       "      <th>min</th>\n",
       "      <td>0.000241</td>\n",
       "      <td>0.000000</td>\n",
       "      <td>0.000000</td>\n",
       "      <td>0.000000</td>\n",
       "      <td>0.000000</td>\n",
       "      <td>0.000000</td>\n",
       "      <td>0.000000</td>\n",
       "      <td>0.000000</td>\n",
       "    </tr>\n",
       "    <tr>\n",
       "      <th>25%</th>\n",
       "      <td>0.330739</td>\n",
       "      <td>0.000000</td>\n",
       "      <td>0.000000</td>\n",
       "      <td>0.230472</td>\n",
       "      <td>2.800000</td>\n",
       "      <td>0.000000</td>\n",
       "      <td>0.318015</td>\n",
       "      <td>0.279659</td>\n",
       "    </tr>\n",
       "    <tr>\n",
       "      <th>50%</th>\n",
       "      <td>0.768040</td>\n",
       "      <td>0.000000</td>\n",
       "      <td>0.000000</td>\n",
       "      <td>0.722955</td>\n",
       "      <td>2.800000</td>\n",
       "      <td>0.000000</td>\n",
       "      <td>0.587465</td>\n",
       "      <td>0.587439</td>\n",
       "    </tr>\n",
       "    <tr>\n",
       "      <th>75%</th>\n",
       "      <td>3.631162</td>\n",
       "      <td>348.500000</td>\n",
       "      <td>465.500000</td>\n",
       "      <td>2.740412</td>\n",
       "      <td>3.500000</td>\n",
       "      <td>0.005504</td>\n",
       "      <td>1.818749</td>\n",
       "      <td>1.820230</td>\n",
       "    </tr>\n",
       "    <tr>\n",
       "      <th>max</th>\n",
       "      <td>24.546952</td>\n",
       "      <td>667933.000000</td>\n",
       "      <td>729704.000000</td>\n",
       "      <td>28.481830</td>\n",
       "      <td>10.659996</td>\n",
       "      <td>0.296590</td>\n",
       "      <td>5.092325</td>\n",
       "      <td>5.073092</td>\n",
       "    </tr>\n",
       "  </tbody>\n",
       "</table>\n",
       "</div>"
      ],
      "text/plain": [
       "               CTR         Cum_UV         Cum_PV      Cum_CTR      Cum_CPM  \\\n",
       "count  3435.000000    3435.000000    3435.000000  3435.000000  3435.000000   \n",
       "mean      1.989563   22339.821543   25463.624163     1.668933     3.114772   \n",
       "std       2.519175   85337.550203   95778.963966     2.184963     1.281884   \n",
       "min       0.000241       0.000000       0.000000     0.000000     0.000000   \n",
       "25%       0.330739       0.000000       0.000000     0.230472     2.800000   \n",
       "50%       0.768040       0.000000       0.000000     0.722955     2.800000   \n",
       "75%       3.631162     348.500000     465.500000     2.740412     3.500000   \n",
       "max      24.546952  667933.000000  729704.000000    28.481830    10.659996   \n",
       "\n",
       "        Cum_Imp2Pv  Avg_CTR_last3d  Avg_CTR_last10d  \n",
       "count  3435.000000     3435.000000      3435.000000  \n",
       "mean      0.011793        1.520809         1.510020  \n",
       "std       0.027943        1.661984         1.664518  \n",
       "min       0.000000        0.000000         0.000000  \n",
       "25%       0.000000        0.318015         0.279659  \n",
       "50%       0.000000        0.587465         0.587439  \n",
       "75%       0.005504        1.818749         1.820230  \n",
       "max       0.296590        5.092325         5.073092  "
      ]
     },
     "execution_count": 555,
     "metadata": {},
     "output_type": "execute_result"
    }
   ],
   "source": [
    "df_train.describe()"
   ]
  },
  {
   "cell_type": "markdown",
   "metadata": {},
   "source": [
    "add features for holiday"
   ]
  },
  {
   "cell_type": "code",
   "execution_count": 593,
   "metadata": {
    "scrolled": false
   },
   "outputs": [
    {
     "name": "stdout",
     "output_type": "stream",
     "text": [
      "Welcome to auto_ml! We're about to go through and make sense of your data using machine learning, and give you a production-ready pipeline to get predictions with.\n",
      "\n",
      "If you have any issues, or new feature ideas, let us know at http://auto.ml\n",
      "You are running on version 2.9.10\n",
      "Now using the model training_params that you passed in:\n",
      "{}\n",
      "After overwriting our defaults with your values, here are the final params that will be used to initialize the model:\n",
      "{'n_estimators': 2000, 'learning_rate': 0.15, 'num_leaves': 8, 'lambda_l2': 0.001, 'histogram_pool_size': 16384}\n",
      "Running basic data cleaning\n",
      "Performing feature scaling\n",
      "Fitting DataFrameVectorizer\n",
      "Now using the model training_params that you passed in:\n",
      "{}\n",
      "After overwriting our defaults with your values, here are the final params that will be used to initialize the model:\n",
      "{'n_estimators': 2000, 'learning_rate': 0.15, 'num_leaves': 8, 'lambda_l2': 0.001, 'histogram_pool_size': 16384}\n",
      "\n",
      "\n",
      "********************************************************************************************\n",
      "About to fit the pipeline for the model LGBMRegressor to predict CTR\n",
      "Started at:\n",
      "2018-04-27 15:32:53\n",
      "[1]\trandom_holdout_set_from_training_data's rmse: 1.87782\n",
      "Training until validation scores don't improve for 100 rounds.\n",
      "[2]\trandom_holdout_set_from_training_data's rmse: 1.66761\n",
      "[3]\trandom_holdout_set_from_training_data's rmse: 1.50062\n",
      "[4]\trandom_holdout_set_from_training_data's rmse: 1.36983\n",
      "[5]\trandom_holdout_set_from_training_data's rmse: 1.25983\n",
      "[6]\trandom_holdout_set_from_training_data's rmse: 1.17502\n",
      "[7]\trandom_holdout_set_from_training_data's rmse: 1.10728\n",
      "[8]\trandom_holdout_set_from_training_data's rmse: 1.051\n",
      "[9]\trandom_holdout_set_from_training_data's rmse: 1.00199\n",
      "[10]\trandom_holdout_set_from_training_data's rmse: 0.957232\n",
      "[11]\trandom_holdout_set_from_training_data's rmse: 0.923746\n",
      "[12]\trandom_holdout_set_from_training_data's rmse: 0.89736\n",
      "[13]\trandom_holdout_set_from_training_data's rmse: 0.872853\n",
      "[14]\trandom_holdout_set_from_training_data's rmse: 0.863764\n",
      "[15]\trandom_holdout_set_from_training_data's rmse: 0.848468\n",
      "[16]\trandom_holdout_set_from_training_data's rmse: 0.832386\n",
      "[17]\trandom_holdout_set_from_training_data's rmse: 0.821746\n",
      "[18]\trandom_holdout_set_from_training_data's rmse: 0.813987\n",
      "[19]\trandom_holdout_set_from_training_data's rmse: 0.810934\n",
      "[20]\trandom_holdout_set_from_training_data's rmse: 0.809411\n",
      "[21]\trandom_holdout_set_from_training_data's rmse: 0.80167\n",
      "[22]\trandom_holdout_set_from_training_data's rmse: 0.785432\n",
      "[23]\trandom_holdout_set_from_training_data's rmse: 0.778223\n",
      "[24]\trandom_holdout_set_from_training_data's rmse: 0.774092\n",
      "[25]\trandom_holdout_set_from_training_data's rmse: 0.774054\n",
      "[26]\trandom_holdout_set_from_training_data's rmse: 0.773856\n",
      "[27]\trandom_holdout_set_from_training_data's rmse: 0.7757\n",
      "[28]\trandom_holdout_set_from_training_data's rmse: 0.773375\n",
      "[29]\trandom_holdout_set_from_training_data's rmse: 0.773271\n",
      "[30]\trandom_holdout_set_from_training_data's rmse: 0.768019\n",
      "[31]\trandom_holdout_set_from_training_data's rmse: 0.770918\n",
      "[32]\trandom_holdout_set_from_training_data's rmse: 0.766863\n",
      "[33]\trandom_holdout_set_from_training_data's rmse: 0.767799\n",
      "[34]\trandom_holdout_set_from_training_data's rmse: 0.767741\n",
      "[35]\trandom_holdout_set_from_training_data's rmse: 0.764777\n",
      "[36]\trandom_holdout_set_from_training_data's rmse: 0.761668\n",
      "[37]\trandom_holdout_set_from_training_data's rmse: 0.762413\n",
      "[38]\trandom_holdout_set_from_training_data's rmse: 0.759168\n",
      "[39]\trandom_holdout_set_from_training_data's rmse: 0.758328\n",
      "[40]\trandom_holdout_set_from_training_data's rmse: 0.756921\n",
      "[41]\trandom_holdout_set_from_training_data's rmse: 0.75192\n",
      "[42]\trandom_holdout_set_from_training_data's rmse: 0.750271\n",
      "[43]\trandom_holdout_set_from_training_data's rmse: 0.751007\n",
      "[44]\trandom_holdout_set_from_training_data's rmse: 0.750003\n",
      "[45]\trandom_holdout_set_from_training_data's rmse: 0.749495\n",
      "[46]\trandom_holdout_set_from_training_data's rmse: 0.751213\n",
      "[47]\trandom_holdout_set_from_training_data's rmse: 0.751302\n",
      "[48]\trandom_holdout_set_from_training_data's rmse: 0.74907\n",
      "[49]\trandom_holdout_set_from_training_data's rmse: 0.7479\n",
      "[50]\trandom_holdout_set_from_training_data's rmse: 0.750387\n",
      "[51]\trandom_holdout_set_from_training_data's rmse: 0.751321\n",
      "[52]\trandom_holdout_set_from_training_data's rmse: 0.752421\n",
      "[53]\trandom_holdout_set_from_training_data's rmse: 0.750346\n",
      "[54]\trandom_holdout_set_from_training_data's rmse: 0.753063\n",
      "[55]\trandom_holdout_set_from_training_data's rmse: 0.752472\n",
      "[56]\trandom_holdout_set_from_training_data's rmse: 0.750707\n",
      "[57]\trandom_holdout_set_from_training_data's rmse: 0.752714\n",
      "[58]\trandom_holdout_set_from_training_data's rmse: 0.750981\n",
      "[59]\trandom_holdout_set_from_training_data's rmse: 0.752273\n",
      "[60]\trandom_holdout_set_from_training_data's rmse: 0.753402\n",
      "[61]\trandom_holdout_set_from_training_data's rmse: 0.751868\n",
      "[62]\trandom_holdout_set_from_training_data's rmse: 0.751235\n",
      "[63]\trandom_holdout_set_from_training_data's rmse: 0.753378\n",
      "[64]\trandom_holdout_set_from_training_data's rmse: 0.74996\n",
      "[65]\trandom_holdout_set_from_training_data's rmse: 0.751225\n",
      "[66]\trandom_holdout_set_from_training_data's rmse: 0.751971\n",
      "[67]\trandom_holdout_set_from_training_data's rmse: 0.752775\n",
      "[68]\trandom_holdout_set_from_training_data's rmse: 0.753193\n",
      "[69]\trandom_holdout_set_from_training_data's rmse: 0.75276\n",
      "[70]\trandom_holdout_set_from_training_data's rmse: 0.753138\n",
      "[71]\trandom_holdout_set_from_training_data's rmse: 0.753372\n",
      "[72]\trandom_holdout_set_from_training_data's rmse: 0.754373\n",
      "[73]\trandom_holdout_set_from_training_data's rmse: 0.75392\n",
      "[74]\trandom_holdout_set_from_training_data's rmse: 0.752143\n",
      "[75]\trandom_holdout_set_from_training_data's rmse: 0.752417\n",
      "[76]\trandom_holdout_set_from_training_data's rmse: 0.752735\n",
      "[77]\trandom_holdout_set_from_training_data's rmse: 0.750869\n",
      "[78]\trandom_holdout_set_from_training_data's rmse: 0.74938\n",
      "[79]\trandom_holdout_set_from_training_data's rmse: 0.748186\n",
      "[80]\trandom_holdout_set_from_training_data's rmse: 0.74875\n",
      "[81]\trandom_holdout_set_from_training_data's rmse: 0.748118\n",
      "[82]\trandom_holdout_set_from_training_data's rmse: 0.748464\n",
      "[83]\trandom_holdout_set_from_training_data's rmse: 0.747532\n",
      "[84]\trandom_holdout_set_from_training_data's rmse: 0.745875\n",
      "[85]\trandom_holdout_set_from_training_data's rmse: 0.742656\n",
      "[86]\trandom_holdout_set_from_training_data's rmse: 0.743265\n",
      "[87]\trandom_holdout_set_from_training_data's rmse: 0.742698\n",
      "[88]\trandom_holdout_set_from_training_data's rmse: 0.742386\n",
      "[89]\trandom_holdout_set_from_training_data's rmse: 0.738261\n",
      "[90]\trandom_holdout_set_from_training_data's rmse: 0.73906\n",
      "[91]\trandom_holdout_set_from_training_data's rmse: 0.737495\n",
      "[92]\trandom_holdout_set_from_training_data's rmse: 0.737111\n",
      "[93]\trandom_holdout_set_from_training_data's rmse: 0.737904\n",
      "[94]\trandom_holdout_set_from_training_data's rmse: 0.738954\n",
      "[95]\trandom_holdout_set_from_training_data's rmse: 0.735863\n",
      "[96]\trandom_holdout_set_from_training_data's rmse: 0.733936\n",
      "[97]\trandom_holdout_set_from_training_data's rmse: 0.734668\n",
      "[98]\trandom_holdout_set_from_training_data's rmse: 0.732968\n",
      "[99]\trandom_holdout_set_from_training_data's rmse: 0.733396\n",
      "[100]\trandom_holdout_set_from_training_data's rmse: 0.731833\n",
      "[101]\trandom_holdout_set_from_training_data's rmse: 0.730689\n",
      "[102]\trandom_holdout_set_from_training_data's rmse: 0.730725\n",
      "[103]\trandom_holdout_set_from_training_data's rmse: 0.731173\n",
      "[104]\trandom_holdout_set_from_training_data's rmse: 0.73207\n",
      "[105]\trandom_holdout_set_from_training_data's rmse: 0.732908\n",
      "[106]\trandom_holdout_set_from_training_data's rmse: 0.732708\n",
      "[107]\trandom_holdout_set_from_training_data's rmse: 0.732363\n",
      "[108]\trandom_holdout_set_from_training_data's rmse: 0.731076\n",
      "[109]\trandom_holdout_set_from_training_data's rmse: 0.730729\n",
      "[110]\trandom_holdout_set_from_training_data's rmse: 0.731199\n",
      "[111]\trandom_holdout_set_from_training_data's rmse: 0.732317\n",
      "[112]\trandom_holdout_set_from_training_data's rmse: 0.730873\n",
      "[113]\trandom_holdout_set_from_training_data's rmse: 0.731735\n",
      "[114]\trandom_holdout_set_from_training_data's rmse: 0.732813\n",
      "[115]\trandom_holdout_set_from_training_data's rmse: 0.733358\n",
      "[116]\trandom_holdout_set_from_training_data's rmse: 0.733406\n",
      "[117]\trandom_holdout_set_from_training_data's rmse: 0.732105\n",
      "[118]\trandom_holdout_set_from_training_data's rmse: 0.733516\n",
      "[119]\trandom_holdout_set_from_training_data's rmse: 0.735752\n",
      "[120]\trandom_holdout_set_from_training_data's rmse: 0.736441\n",
      "[121]\trandom_holdout_set_from_training_data's rmse: 0.735757\n",
      "[122]\trandom_holdout_set_from_training_data's rmse: 0.733393\n",
      "[123]\trandom_holdout_set_from_training_data's rmse: 0.734566\n",
      "[124]\trandom_holdout_set_from_training_data's rmse: 0.734239\n",
      "[125]\trandom_holdout_set_from_training_data's rmse: 0.735715\n",
      "[126]\trandom_holdout_set_from_training_data's rmse: 0.731541\n",
      "[127]\trandom_holdout_set_from_training_data's rmse: 0.729458\n",
      "[128]\trandom_holdout_set_from_training_data's rmse: 0.729014\n",
      "[129]\trandom_holdout_set_from_training_data's rmse: 0.730734\n",
      "[130]\trandom_holdout_set_from_training_data's rmse: 0.730585\n",
      "[131]\trandom_holdout_set_from_training_data's rmse: 0.730189\n",
      "[132]\trandom_holdout_set_from_training_data's rmse: 0.729401\n",
      "[133]\trandom_holdout_set_from_training_data's rmse: 0.72782\n",
      "[134]\trandom_holdout_set_from_training_data's rmse: 0.725874\n",
      "[135]\trandom_holdout_set_from_training_data's rmse: 0.725388\n",
      "[136]\trandom_holdout_set_from_training_data's rmse: 0.723527\n",
      "[137]\trandom_holdout_set_from_training_data's rmse: 0.721589\n",
      "[138]\trandom_holdout_set_from_training_data's rmse: 0.721047\n",
      "[139]\trandom_holdout_set_from_training_data's rmse: 0.722002\n",
      "[140]\trandom_holdout_set_from_training_data's rmse: 0.720503\n",
      "[141]\trandom_holdout_set_from_training_data's rmse: 0.720003\n",
      "[142]\trandom_holdout_set_from_training_data's rmse: 0.722567\n",
      "[143]\trandom_holdout_set_from_training_data's rmse: 0.723334\n",
      "[144]\trandom_holdout_set_from_training_data's rmse: 0.722859\n",
      "[145]\trandom_holdout_set_from_training_data's rmse: 0.721154\n",
      "[146]\trandom_holdout_set_from_training_data's rmse: 0.721347\n",
      "[147]\trandom_holdout_set_from_training_data's rmse: 0.722518\n",
      "[148]\trandom_holdout_set_from_training_data's rmse: 0.721776\n",
      "[149]\trandom_holdout_set_from_training_data's rmse: 0.722836\n",
      "[150]\trandom_holdout_set_from_training_data's rmse: 0.723701\n",
      "[151]\trandom_holdout_set_from_training_data's rmse: 0.723105\n",
      "[152]\trandom_holdout_set_from_training_data's rmse: 0.723096\n",
      "[153]\trandom_holdout_set_from_training_data's rmse: 0.722642\n",
      "[154]\trandom_holdout_set_from_training_data's rmse: 0.722172\n",
      "[155]\trandom_holdout_set_from_training_data's rmse: 0.721879\n",
      "[156]\trandom_holdout_set_from_training_data's rmse: 0.72176\n",
      "[157]\trandom_holdout_set_from_training_data's rmse: 0.721597\n",
      "[158]\trandom_holdout_set_from_training_data's rmse: 0.722982\n",
      "[159]\trandom_holdout_set_from_training_data's rmse: 0.723039\n",
      "[160]\trandom_holdout_set_from_training_data's rmse: 0.72388\n",
      "[161]\trandom_holdout_set_from_training_data's rmse: 0.724236\n",
      "[162]\trandom_holdout_set_from_training_data's rmse: 0.723285\n",
      "[163]\trandom_holdout_set_from_training_data's rmse: 0.724431\n",
      "[164]\trandom_holdout_set_from_training_data's rmse: 0.725579\n",
      "[165]\trandom_holdout_set_from_training_data's rmse: 0.726683\n",
      "[166]\trandom_holdout_set_from_training_data's rmse: 0.726402\n",
      "[167]\trandom_holdout_set_from_training_data's rmse: 0.723628\n",
      "[168]\trandom_holdout_set_from_training_data's rmse: 0.723715\n",
      "[169]\trandom_holdout_set_from_training_data's rmse: 0.723597\n",
      "[170]\trandom_holdout_set_from_training_data's rmse: 0.724655\n",
      "[171]\trandom_holdout_set_from_training_data's rmse: 0.725739\n",
      "[172]\trandom_holdout_set_from_training_data's rmse: 0.72474\n",
      "[173]\trandom_holdout_set_from_training_data's rmse: 0.725815\n",
      "[174]\trandom_holdout_set_from_training_data's rmse: 0.725425\n",
      "[175]\trandom_holdout_set_from_training_data's rmse: 0.725169\n",
      "[176]\trandom_holdout_set_from_training_data's rmse: 0.723435\n",
      "[177]\trandom_holdout_set_from_training_data's rmse: 0.722678\n",
      "[178]\trandom_holdout_set_from_training_data's rmse: 0.722604\n",
      "[179]\trandom_holdout_set_from_training_data's rmse: 0.722111\n",
      "[180]\trandom_holdout_set_from_training_data's rmse: 0.721394\n",
      "[181]\trandom_holdout_set_from_training_data's rmse: 0.720715\n",
      "[182]\trandom_holdout_set_from_training_data's rmse: 0.721713\n",
      "[183]\trandom_holdout_set_from_training_data's rmse: 0.721871\n",
      "[184]\trandom_holdout_set_from_training_data's rmse: 0.721724\n",
      "[185]\trandom_holdout_set_from_training_data's rmse: 0.721969\n",
      "[186]\trandom_holdout_set_from_training_data's rmse: 0.721459\n",
      "[187]\trandom_holdout_set_from_training_data's rmse: 0.720977\n",
      "[188]\trandom_holdout_set_from_training_data's rmse: 0.72154\n",
      "[189]\trandom_holdout_set_from_training_data's rmse: 0.721197\n",
      "[190]\trandom_holdout_set_from_training_data's rmse: 0.720515\n",
      "[191]\trandom_holdout_set_from_training_data's rmse: 0.720091\n",
      "[192]\trandom_holdout_set_from_training_data's rmse: 0.718952\n",
      "[193]\trandom_holdout_set_from_training_data's rmse: 0.719553\n",
      "[194]\trandom_holdout_set_from_training_data's rmse: 0.719804\n",
      "[195]\trandom_holdout_set_from_training_data's rmse: 0.719224\n",
      "[196]\trandom_holdout_set_from_training_data's rmse: 0.719082\n",
      "[197]\trandom_holdout_set_from_training_data's rmse: 0.719485\n",
      "[198]\trandom_holdout_set_from_training_data's rmse: 0.718713\n",
      "[199]\trandom_holdout_set_from_training_data's rmse: 0.717166\n",
      "[200]\trandom_holdout_set_from_training_data's rmse: 0.716481\n",
      "[201]\trandom_holdout_set_from_training_data's rmse: 0.71666\n",
      "[202]\trandom_holdout_set_from_training_data's rmse: 0.716481\n",
      "[203]\trandom_holdout_set_from_training_data's rmse: 0.717278\n",
      "[204]\trandom_holdout_set_from_training_data's rmse: 0.717364\n",
      "[205]\trandom_holdout_set_from_training_data's rmse: 0.717295\n",
      "[206]\trandom_holdout_set_from_training_data's rmse: 0.718139\n",
      "[207]\trandom_holdout_set_from_training_data's rmse: 0.718954\n",
      "[208]\trandom_holdout_set_from_training_data's rmse: 0.718698\n",
      "[209]\trandom_holdout_set_from_training_data's rmse: 0.716876\n",
      "[210]\trandom_holdout_set_from_training_data's rmse: 0.718406\n",
      "[211]\trandom_holdout_set_from_training_data's rmse: 0.717183\n",
      "[212]\trandom_holdout_set_from_training_data's rmse: 0.716616\n",
      "[213]\trandom_holdout_set_from_training_data's rmse: 0.716148\n"
     ]
    },
    {
     "name": "stdout",
     "output_type": "stream",
     "text": [
      "[214]\trandom_holdout_set_from_training_data's rmse: 0.716482\n",
      "[215]\trandom_holdout_set_from_training_data's rmse: 0.715822\n",
      "[216]\trandom_holdout_set_from_training_data's rmse: 0.715832\n",
      "[217]\trandom_holdout_set_from_training_data's rmse: 0.715446\n",
      "[218]\trandom_holdout_set_from_training_data's rmse: 0.714921\n",
      "[219]\trandom_holdout_set_from_training_data's rmse: 0.715089\n",
      "[220]\trandom_holdout_set_from_training_data's rmse: 0.715183\n",
      "[221]\trandom_holdout_set_from_training_data's rmse: 0.716395\n",
      "[222]\trandom_holdout_set_from_training_data's rmse: 0.717099\n",
      "[223]\trandom_holdout_set_from_training_data's rmse: 0.717082\n",
      "[224]\trandom_holdout_set_from_training_data's rmse: 0.716578\n",
      "[225]\trandom_holdout_set_from_training_data's rmse: 0.716056\n",
      "[226]\trandom_holdout_set_from_training_data's rmse: 0.71686\n",
      "[227]\trandom_holdout_set_from_training_data's rmse: 0.717271\n",
      "[228]\trandom_holdout_set_from_training_data's rmse: 0.717018\n",
      "[229]\trandom_holdout_set_from_training_data's rmse: 0.716847\n",
      "[230]\trandom_holdout_set_from_training_data's rmse: 0.717249\n",
      "[231]\trandom_holdout_set_from_training_data's rmse: 0.717074\n",
      "[232]\trandom_holdout_set_from_training_data's rmse: 0.715133\n",
      "[233]\trandom_holdout_set_from_training_data's rmse: 0.715124\n",
      "[234]\trandom_holdout_set_from_training_data's rmse: 0.715335\n",
      "[235]\trandom_holdout_set_from_training_data's rmse: 0.715721\n",
      "[236]\trandom_holdout_set_from_training_data's rmse: 0.716495\n",
      "[237]\trandom_holdout_set_from_training_data's rmse: 0.716609\n",
      "[238]\trandom_holdout_set_from_training_data's rmse: 0.717341\n",
      "[239]\trandom_holdout_set_from_training_data's rmse: 0.716462\n",
      "[240]\trandom_holdout_set_from_training_data's rmse: 0.716161\n",
      "[241]\trandom_holdout_set_from_training_data's rmse: 0.715901\n",
      "[242]\trandom_holdout_set_from_training_data's rmse: 0.716894\n",
      "[243]\trandom_holdout_set_from_training_data's rmse: 0.717081\n",
      "[244]\trandom_holdout_set_from_training_data's rmse: 0.718019\n",
      "[245]\trandom_holdout_set_from_training_data's rmse: 0.718323\n",
      "[246]\trandom_holdout_set_from_training_data's rmse: 0.718084\n",
      "[247]\trandom_holdout_set_from_training_data's rmse: 0.71749\n",
      "[248]\trandom_holdout_set_from_training_data's rmse: 0.71798\n",
      "[249]\trandom_holdout_set_from_training_data's rmse: 0.717695\n",
      "[250]\trandom_holdout_set_from_training_data's rmse: 0.717883\n",
      "[251]\trandom_holdout_set_from_training_data's rmse: 0.717458\n",
      "[252]\trandom_holdout_set_from_training_data's rmse: 0.717528\n",
      "[253]\trandom_holdout_set_from_training_data's rmse: 0.717001\n",
      "[254]\trandom_holdout_set_from_training_data's rmse: 0.717573\n",
      "[255]\trandom_holdout_set_from_training_data's rmse: 0.717377\n",
      "[256]\trandom_holdout_set_from_training_data's rmse: 0.717726\n",
      "[257]\trandom_holdout_set_from_training_data's rmse: 0.717291\n",
      "[258]\trandom_holdout_set_from_training_data's rmse: 0.716539\n",
      "[259]\trandom_holdout_set_from_training_data's rmse: 0.715994\n",
      "[260]\trandom_holdout_set_from_training_data's rmse: 0.716668\n",
      "[261]\trandom_holdout_set_from_training_data's rmse: 0.716667\n",
      "[262]\trandom_holdout_set_from_training_data's rmse: 0.716631\n",
      "[263]\trandom_holdout_set_from_training_data's rmse: 0.716222\n",
      "[264]\trandom_holdout_set_from_training_data's rmse: 0.71787\n",
      "[265]\trandom_holdout_set_from_training_data's rmse: 0.717443\n",
      "[266]\trandom_holdout_set_from_training_data's rmse: 0.71739\n",
      "[267]\trandom_holdout_set_from_training_data's rmse: 0.715918\n",
      "[268]\trandom_holdout_set_from_training_data's rmse: 0.715744\n",
      "[269]\trandom_holdout_set_from_training_data's rmse: 0.716398\n",
      "[270]\trandom_holdout_set_from_training_data's rmse: 0.715079\n",
      "[271]\trandom_holdout_set_from_training_data's rmse: 0.715206\n",
      "[272]\trandom_holdout_set_from_training_data's rmse: 0.714871\n",
      "[273]\trandom_holdout_set_from_training_data's rmse: 0.715614\n",
      "[274]\trandom_holdout_set_from_training_data's rmse: 0.716215\n",
      "[275]\trandom_holdout_set_from_training_data's rmse: 0.71629\n",
      "[276]\trandom_holdout_set_from_training_data's rmse: 0.717552\n",
      "[277]\trandom_holdout_set_from_training_data's rmse: 0.715975\n",
      "[278]\trandom_holdout_set_from_training_data's rmse: 0.715426\n",
      "[279]\trandom_holdout_set_from_training_data's rmse: 0.71449\n",
      "[280]\trandom_holdout_set_from_training_data's rmse: 0.714629\n",
      "[281]\trandom_holdout_set_from_training_data's rmse: 0.714178\n",
      "[282]\trandom_holdout_set_from_training_data's rmse: 0.712866\n",
      "[283]\trandom_holdout_set_from_training_data's rmse: 0.713\n",
      "[284]\trandom_holdout_set_from_training_data's rmse: 0.713936\n",
      "[285]\trandom_holdout_set_from_training_data's rmse: 0.71401\n",
      "[286]\trandom_holdout_set_from_training_data's rmse: 0.714077\n",
      "[287]\trandom_holdout_set_from_training_data's rmse: 0.713631\n",
      "[288]\trandom_holdout_set_from_training_data's rmse: 0.713566\n",
      "[289]\trandom_holdout_set_from_training_data's rmse: 0.713438\n",
      "[290]\trandom_holdout_set_from_training_data's rmse: 0.713269\n",
      "[291]\trandom_holdout_set_from_training_data's rmse: 0.713804\n",
      "[292]\trandom_holdout_set_from_training_data's rmse: 0.714164\n",
      "[293]\trandom_holdout_set_from_training_data's rmse: 0.714848\n",
      "[294]\trandom_holdout_set_from_training_data's rmse: 0.714949\n",
      "[295]\trandom_holdout_set_from_training_data's rmse: 0.715556\n",
      "[296]\trandom_holdout_set_from_training_data's rmse: 0.715263\n",
      "[297]\trandom_holdout_set_from_training_data's rmse: 0.715344\n",
      "[298]\trandom_holdout_set_from_training_data's rmse: 0.714743\n",
      "[299]\trandom_holdout_set_from_training_data's rmse: 0.716212\n",
      "[300]\trandom_holdout_set_from_training_data's rmse: 0.716152\n",
      "[301]\trandom_holdout_set_from_training_data's rmse: 0.716005\n",
      "[302]\trandom_holdout_set_from_training_data's rmse: 0.716643\n",
      "[303]\trandom_holdout_set_from_training_data's rmse: 0.716346\n",
      "[304]\trandom_holdout_set_from_training_data's rmse: 0.716789\n",
      "[305]\trandom_holdout_set_from_training_data's rmse: 0.717198\n",
      "[306]\trandom_holdout_set_from_training_data's rmse: 0.717192\n",
      "[307]\trandom_holdout_set_from_training_data's rmse: 0.716668\n",
      "[308]\trandom_holdout_set_from_training_data's rmse: 0.716945\n",
      "[309]\trandom_holdout_set_from_training_data's rmse: 0.715488\n",
      "[310]\trandom_holdout_set_from_training_data's rmse: 0.715414\n",
      "[311]\trandom_holdout_set_from_training_data's rmse: 0.714765\n",
      "[312]\trandom_holdout_set_from_training_data's rmse: 0.714925\n",
      "[313]\trandom_holdout_set_from_training_data's rmse: 0.714647\n",
      "[314]\trandom_holdout_set_from_training_data's rmse: 0.714084\n",
      "[315]\trandom_holdout_set_from_training_data's rmse: 0.713562\n",
      "[316]\trandom_holdout_set_from_training_data's rmse: 0.71242\n",
      "[317]\trandom_holdout_set_from_training_data's rmse: 0.711886\n",
      "[318]\trandom_holdout_set_from_training_data's rmse: 0.711846\n",
      "[319]\trandom_holdout_set_from_training_data's rmse: 0.712086\n",
      "[320]\trandom_holdout_set_from_training_data's rmse: 0.712369\n",
      "[321]\trandom_holdout_set_from_training_data's rmse: 0.712486\n",
      "[322]\trandom_holdout_set_from_training_data's rmse: 0.712994\n",
      "[323]\trandom_holdout_set_from_training_data's rmse: 0.713647\n",
      "[324]\trandom_holdout_set_from_training_data's rmse: 0.713207\n",
      "[325]\trandom_holdout_set_from_training_data's rmse: 0.712773\n",
      "[326]\trandom_holdout_set_from_training_data's rmse: 0.712379\n",
      "[327]\trandom_holdout_set_from_training_data's rmse: 0.712578\n",
      "[328]\trandom_holdout_set_from_training_data's rmse: 0.712351\n",
      "[329]\trandom_holdout_set_from_training_data's rmse: 0.711626\n",
      "[330]\trandom_holdout_set_from_training_data's rmse: 0.710451\n",
      "[331]\trandom_holdout_set_from_training_data's rmse: 0.709861\n",
      "[332]\trandom_holdout_set_from_training_data's rmse: 0.709978\n",
      "[333]\trandom_holdout_set_from_training_data's rmse: 0.710486\n",
      "[334]\trandom_holdout_set_from_training_data's rmse: 0.710424\n",
      "[335]\trandom_holdout_set_from_training_data's rmse: 0.710568\n",
      "[336]\trandom_holdout_set_from_training_data's rmse: 0.710747\n",
      "[337]\trandom_holdout_set_from_training_data's rmse: 0.710364\n",
      "[338]\trandom_holdout_set_from_training_data's rmse: 0.710797\n",
      "[339]\trandom_holdout_set_from_training_data's rmse: 0.711041\n",
      "[340]\trandom_holdout_set_from_training_data's rmse: 0.710724\n",
      "[341]\trandom_holdout_set_from_training_data's rmse: 0.710678\n",
      "[342]\trandom_holdout_set_from_training_data's rmse: 0.71076\n",
      "[343]\trandom_holdout_set_from_training_data's rmse: 0.710131\n",
      "[344]\trandom_holdout_set_from_training_data's rmse: 0.710189\n",
      "[345]\trandom_holdout_set_from_training_data's rmse: 0.710351\n",
      "[346]\trandom_holdout_set_from_training_data's rmse: 0.711909\n",
      "[347]\trandom_holdout_set_from_training_data's rmse: 0.7114\n",
      "[348]\trandom_holdout_set_from_training_data's rmse: 0.712291\n",
      "[349]\trandom_holdout_set_from_training_data's rmse: 0.712302\n",
      "[350]\trandom_holdout_set_from_training_data's rmse: 0.711726\n",
      "[351]\trandom_holdout_set_from_training_data's rmse: 0.711745\n",
      "[352]\trandom_holdout_set_from_training_data's rmse: 0.714001\n",
      "[353]\trandom_holdout_set_from_training_data's rmse: 0.713583\n",
      "[354]\trandom_holdout_set_from_training_data's rmse: 0.713658\n",
      "[355]\trandom_holdout_set_from_training_data's rmse: 0.712301\n",
      "[356]\trandom_holdout_set_from_training_data's rmse: 0.71255\n",
      "[357]\trandom_holdout_set_from_training_data's rmse: 0.712098\n",
      "[358]\trandom_holdout_set_from_training_data's rmse: 0.711792\n",
      "[359]\trandom_holdout_set_from_training_data's rmse: 0.711431\n",
      "[360]\trandom_holdout_set_from_training_data's rmse: 0.710694\n",
      "[361]\trandom_holdout_set_from_training_data's rmse: 0.710514\n",
      "[362]\trandom_holdout_set_from_training_data's rmse: 0.710566\n",
      "[363]\trandom_holdout_set_from_training_data's rmse: 0.710598\n",
      "[364]\trandom_holdout_set_from_training_data's rmse: 0.710291\n",
      "[365]\trandom_holdout_set_from_training_data's rmse: 0.7099\n",
      "[366]\trandom_holdout_set_from_training_data's rmse: 0.709838\n",
      "[367]\trandom_holdout_set_from_training_data's rmse: 0.709572\n",
      "[368]\trandom_holdout_set_from_training_data's rmse: 0.710759\n",
      "[369]\trandom_holdout_set_from_training_data's rmse: 0.710815\n",
      "[370]\trandom_holdout_set_from_training_data's rmse: 0.710892\n",
      "[371]\trandom_holdout_set_from_training_data's rmse: 0.711242\n",
      "[372]\trandom_holdout_set_from_training_data's rmse: 0.711757\n",
      "[373]\trandom_holdout_set_from_training_data's rmse: 0.71149\n",
      "[374]\trandom_holdout_set_from_training_data's rmse: 0.711296\n",
      "[375]\trandom_holdout_set_from_training_data's rmse: 0.711535\n",
      "[376]\trandom_holdout_set_from_training_data's rmse: 0.711477\n",
      "[377]\trandom_holdout_set_from_training_data's rmse: 0.711652\n",
      "[378]\trandom_holdout_set_from_training_data's rmse: 0.710817\n",
      "[379]\trandom_holdout_set_from_training_data's rmse: 0.710525\n",
      "[380]\trandom_holdout_set_from_training_data's rmse: 0.709251\n",
      "[381]\trandom_holdout_set_from_training_data's rmse: 0.709105\n",
      "[382]\trandom_holdout_set_from_training_data's rmse: 0.708881\n",
      "[383]\trandom_holdout_set_from_training_data's rmse: 0.708817\n",
      "[384]\trandom_holdout_set_from_training_data's rmse: 0.708809\n",
      "[385]\trandom_holdout_set_from_training_data's rmse: 0.708492\n",
      "[386]\trandom_holdout_set_from_training_data's rmse: 0.708355\n",
      "[387]\trandom_holdout_set_from_training_data's rmse: 0.709536\n",
      "[388]\trandom_holdout_set_from_training_data's rmse: 0.709543\n",
      "[389]\trandom_holdout_set_from_training_data's rmse: 0.709557\n",
      "[390]\trandom_holdout_set_from_training_data's rmse: 0.709323\n",
      "[391]\trandom_holdout_set_from_training_data's rmse: 0.709792\n",
      "[392]\trandom_holdout_set_from_training_data's rmse: 0.709684\n",
      "[393]\trandom_holdout_set_from_training_data's rmse: 0.710095\n",
      "[394]\trandom_holdout_set_from_training_data's rmse: 0.710142\n",
      "[395]\trandom_holdout_set_from_training_data's rmse: 0.710187\n",
      "[396]\trandom_holdout_set_from_training_data's rmse: 0.710466\n",
      "[397]\trandom_holdout_set_from_training_data's rmse: 0.710305\n",
      "[398]\trandom_holdout_set_from_training_data's rmse: 0.710818\n",
      "[399]\trandom_holdout_set_from_training_data's rmse: 0.710677\n",
      "[400]\trandom_holdout_set_from_training_data's rmse: 0.711441\n",
      "[401]\trandom_holdout_set_from_training_data's rmse: 0.711331\n"
     ]
    },
    {
     "name": "stdout",
     "output_type": "stream",
     "text": [
      "[402]\trandom_holdout_set_from_training_data's rmse: 0.711269\n",
      "[403]\trandom_holdout_set_from_training_data's rmse: 0.711865\n",
      "[404]\trandom_holdout_set_from_training_data's rmse: 0.711688\n",
      "[405]\trandom_holdout_set_from_training_data's rmse: 0.711384\n",
      "[406]\trandom_holdout_set_from_training_data's rmse: 0.711472\n",
      "[407]\trandom_holdout_set_from_training_data's rmse: 0.712084\n",
      "[408]\trandom_holdout_set_from_training_data's rmse: 0.712102\n",
      "[409]\trandom_holdout_set_from_training_data's rmse: 0.711948\n",
      "[410]\trandom_holdout_set_from_training_data's rmse: 0.712058\n",
      "[411]\trandom_holdout_set_from_training_data's rmse: 0.711833\n",
      "[412]\trandom_holdout_set_from_training_data's rmse: 0.711575\n",
      "[413]\trandom_holdout_set_from_training_data's rmse: 0.71147\n",
      "[414]\trandom_holdout_set_from_training_data's rmse: 0.71188\n",
      "[415]\trandom_holdout_set_from_training_data's rmse: 0.711772\n",
      "[416]\trandom_holdout_set_from_training_data's rmse: 0.712035\n",
      "[417]\trandom_holdout_set_from_training_data's rmse: 0.71201\n",
      "[418]\trandom_holdout_set_from_training_data's rmse: 0.712644\n",
      "[419]\trandom_holdout_set_from_training_data's rmse: 0.712484\n",
      "[420]\trandom_holdout_set_from_training_data's rmse: 0.71212\n",
      "[421]\trandom_holdout_set_from_training_data's rmse: 0.71195\n",
      "[422]\trandom_holdout_set_from_training_data's rmse: 0.712028\n",
      "[423]\trandom_holdout_set_from_training_data's rmse: 0.711658\n",
      "[424]\trandom_holdout_set_from_training_data's rmse: 0.711327\n",
      "[425]\trandom_holdout_set_from_training_data's rmse: 0.712496\n",
      "[426]\trandom_holdout_set_from_training_data's rmse: 0.712655\n",
      "[427]\trandom_holdout_set_from_training_data's rmse: 0.712314\n",
      "[428]\trandom_holdout_set_from_training_data's rmse: 0.712966\n",
      "[429]\trandom_holdout_set_from_training_data's rmse: 0.71336\n",
      "[430]\trandom_holdout_set_from_training_data's rmse: 0.713067\n",
      "[431]\trandom_holdout_set_from_training_data's rmse: 0.712865\n",
      "[432]\trandom_holdout_set_from_training_data's rmse: 0.712829\n",
      "[433]\trandom_holdout_set_from_training_data's rmse: 0.712412\n",
      "[434]\trandom_holdout_set_from_training_data's rmse: 0.712175\n",
      "[435]\trandom_holdout_set_from_training_data's rmse: 0.712336\n",
      "[436]\trandom_holdout_set_from_training_data's rmse: 0.712091\n",
      "[437]\trandom_holdout_set_from_training_data's rmse: 0.711851\n",
      "[438]\trandom_holdout_set_from_training_data's rmse: 0.71183\n",
      "[439]\trandom_holdout_set_from_training_data's rmse: 0.711295\n",
      "[440]\trandom_holdout_set_from_training_data's rmse: 0.711035\n",
      "[441]\trandom_holdout_set_from_training_data's rmse: 0.71025\n",
      "[442]\trandom_holdout_set_from_training_data's rmse: 0.710057\n",
      "[443]\trandom_holdout_set_from_training_data's rmse: 0.710157\n",
      "[444]\trandom_holdout_set_from_training_data's rmse: 0.709852\n",
      "[445]\trandom_holdout_set_from_training_data's rmse: 0.709605\n",
      "[446]\trandom_holdout_set_from_training_data's rmse: 0.709395\n",
      "[447]\trandom_holdout_set_from_training_data's rmse: 0.70925\n",
      "[448]\trandom_holdout_set_from_training_data's rmse: 0.708706\n",
      "[449]\trandom_holdout_set_from_training_data's rmse: 0.708507\n",
      "[450]\trandom_holdout_set_from_training_data's rmse: 0.708332\n",
      "[451]\trandom_holdout_set_from_training_data's rmse: 0.708347\n",
      "[452]\trandom_holdout_set_from_training_data's rmse: 0.708161\n",
      "[453]\trandom_holdout_set_from_training_data's rmse: 0.708231\n",
      "[454]\trandom_holdout_set_from_training_data's rmse: 0.709063\n",
      "[455]\trandom_holdout_set_from_training_data's rmse: 0.708795\n",
      "[456]\trandom_holdout_set_from_training_data's rmse: 0.708785\n",
      "[457]\trandom_holdout_set_from_training_data's rmse: 0.709819\n",
      "[458]\trandom_holdout_set_from_training_data's rmse: 0.710007\n",
      "[459]\trandom_holdout_set_from_training_data's rmse: 0.710552\n",
      "[460]\trandom_holdout_set_from_training_data's rmse: 0.710205\n",
      "[461]\trandom_holdout_set_from_training_data's rmse: 0.710031\n",
      "[462]\trandom_holdout_set_from_training_data's rmse: 0.709728\n",
      "[463]\trandom_holdout_set_from_training_data's rmse: 0.709972\n",
      "[464]\trandom_holdout_set_from_training_data's rmse: 0.709911\n",
      "[465]\trandom_holdout_set_from_training_data's rmse: 0.710038\n",
      "[466]\trandom_holdout_set_from_training_data's rmse: 0.710047\n",
      "[467]\trandom_holdout_set_from_training_data's rmse: 0.709346\n",
      "[468]\trandom_holdout_set_from_training_data's rmse: 0.70962\n",
      "[469]\trandom_holdout_set_from_training_data's rmse: 0.709532\n",
      "[470]\trandom_holdout_set_from_training_data's rmse: 0.709763\n",
      "[471]\trandom_holdout_set_from_training_data's rmse: 0.710218\n",
      "[472]\trandom_holdout_set_from_training_data's rmse: 0.710462\n",
      "[473]\trandom_holdout_set_from_training_data's rmse: 0.710607\n",
      "[474]\trandom_holdout_set_from_training_data's rmse: 0.711549\n",
      "[475]\trandom_holdout_set_from_training_data's rmse: 0.711816\n",
      "[476]\trandom_holdout_set_from_training_data's rmse: 0.711791\n",
      "[477]\trandom_holdout_set_from_training_data's rmse: 0.712116\n",
      "[478]\trandom_holdout_set_from_training_data's rmse: 0.712307\n",
      "[479]\trandom_holdout_set_from_training_data's rmse: 0.712736\n",
      "[480]\trandom_holdout_set_from_training_data's rmse: 0.712793\n",
      "[481]\trandom_holdout_set_from_training_data's rmse: 0.713131\n",
      "[482]\trandom_holdout_set_from_training_data's rmse: 0.713066\n",
      "[483]\trandom_holdout_set_from_training_data's rmse: 0.712787\n",
      "[484]\trandom_holdout_set_from_training_data's rmse: 0.712708\n",
      "[485]\trandom_holdout_set_from_training_data's rmse: 0.712557\n",
      "[486]\trandom_holdout_set_from_training_data's rmse: 0.712614\n",
      "[487]\trandom_holdout_set_from_training_data's rmse: 0.712642\n",
      "[488]\trandom_holdout_set_from_training_data's rmse: 0.711603\n",
      "[489]\trandom_holdout_set_from_training_data's rmse: 0.712168\n",
      "[490]\trandom_holdout_set_from_training_data's rmse: 0.711757\n",
      "[491]\trandom_holdout_set_from_training_data's rmse: 0.71282\n",
      "[492]\trandom_holdout_set_from_training_data's rmse: 0.712861\n",
      "[493]\trandom_holdout_set_from_training_data's rmse: 0.712675\n",
      "[494]\trandom_holdout_set_from_training_data's rmse: 0.71215\n",
      "[495]\trandom_holdout_set_from_training_data's rmse: 0.712276\n",
      "[496]\trandom_holdout_set_from_training_data's rmse: 0.712432\n",
      "[497]\trandom_holdout_set_from_training_data's rmse: 0.711779\n",
      "[498]\trandom_holdout_set_from_training_data's rmse: 0.71249\n",
      "[499]\trandom_holdout_set_from_training_data's rmse: 0.712956\n",
      "[500]\trandom_holdout_set_from_training_data's rmse: 0.713196\n",
      "[501]\trandom_holdout_set_from_training_data's rmse: 0.714277\n",
      "[502]\trandom_holdout_set_from_training_data's rmse: 0.713748\n",
      "[503]\trandom_holdout_set_from_training_data's rmse: 0.713574\n",
      "[504]\trandom_holdout_set_from_training_data's rmse: 0.713644\n",
      "[505]\trandom_holdout_set_from_training_data's rmse: 0.713662\n",
      "[506]\trandom_holdout_set_from_training_data's rmse: 0.714065\n",
      "[507]\trandom_holdout_set_from_training_data's rmse: 0.714243\n",
      "[508]\trandom_holdout_set_from_training_data's rmse: 0.71464\n",
      "[509]\trandom_holdout_set_from_training_data's rmse: 0.716886\n",
      "[510]\trandom_holdout_set_from_training_data's rmse: 0.716983\n",
      "[511]\trandom_holdout_set_from_training_data's rmse: 0.717231\n",
      "[512]\trandom_holdout_set_from_training_data's rmse: 0.717849\n",
      "[513]\trandom_holdout_set_from_training_data's rmse: 0.718133\n",
      "[514]\trandom_holdout_set_from_training_data's rmse: 0.718632\n",
      "[515]\trandom_holdout_set_from_training_data's rmse: 0.718487\n",
      "[516]\trandom_holdout_set_from_training_data's rmse: 0.719088\n",
      "[517]\trandom_holdout_set_from_training_data's rmse: 0.71883\n",
      "[518]\trandom_holdout_set_from_training_data's rmse: 0.719107\n",
      "[519]\trandom_holdout_set_from_training_data's rmse: 0.719016\n",
      "[520]\trandom_holdout_set_from_training_data's rmse: 0.718471\n",
      "[521]\trandom_holdout_set_from_training_data's rmse: 0.718164\n",
      "[522]\trandom_holdout_set_from_training_data's rmse: 0.718039\n",
      "[523]\trandom_holdout_set_from_training_data's rmse: 0.71792\n",
      "[524]\trandom_holdout_set_from_training_data's rmse: 0.718064\n",
      "[525]\trandom_holdout_set_from_training_data's rmse: 0.718216\n",
      "[526]\trandom_holdout_set_from_training_data's rmse: 0.718347\n",
      "[527]\trandom_holdout_set_from_training_data's rmse: 0.71798\n",
      "[528]\trandom_holdout_set_from_training_data's rmse: 0.71886\n",
      "[529]\trandom_holdout_set_from_training_data's rmse: 0.718786\n",
      "[530]\trandom_holdout_set_from_training_data's rmse: 0.719091\n",
      "[531]\trandom_holdout_set_from_training_data's rmse: 0.7189\n",
      "[532]\trandom_holdout_set_from_training_data's rmse: 0.718685\n",
      "[533]\trandom_holdout_set_from_training_data's rmse: 0.718225\n",
      "[534]\trandom_holdout_set_from_training_data's rmse: 0.719315\n",
      "[535]\trandom_holdout_set_from_training_data's rmse: 0.719447\n",
      "[536]\trandom_holdout_set_from_training_data's rmse: 0.719349\n",
      "[537]\trandom_holdout_set_from_training_data's rmse: 0.719703\n",
      "[538]\trandom_holdout_set_from_training_data's rmse: 0.720136\n",
      "[539]\trandom_holdout_set_from_training_data's rmse: 0.720158\n",
      "[540]\trandom_holdout_set_from_training_data's rmse: 0.720047\n",
      "[541]\trandom_holdout_set_from_training_data's rmse: 0.720139\n",
      "[542]\trandom_holdout_set_from_training_data's rmse: 0.720317\n",
      "[543]\trandom_holdout_set_from_training_data's rmse: 0.720625\n",
      "[544]\trandom_holdout_set_from_training_data's rmse: 0.720606\n",
      "[545]\trandom_holdout_set_from_training_data's rmse: 0.720659\n",
      "[546]\trandom_holdout_set_from_training_data's rmse: 0.720597\n",
      "[547]\trandom_holdout_set_from_training_data's rmse: 0.720317\n",
      "[548]\trandom_holdout_set_from_training_data's rmse: 0.720646\n",
      "[549]\trandom_holdout_set_from_training_data's rmse: 0.72039\n",
      "[550]\trandom_holdout_set_from_training_data's rmse: 0.720112\n",
      "[551]\trandom_holdout_set_from_training_data's rmse: 0.720224\n",
      "[552]\trandom_holdout_set_from_training_data's rmse: 0.720174\n",
      "Early stopping, best iteration is:\n",
      "[452]\trandom_holdout_set_from_training_data's rmse: 0.708161\n"
     ]
    },
    {
     "name": "stdout",
     "output_type": "stream",
     "text": [
      "Finished training the pipeline!\n",
      "Total training time:\n",
      "0:00:01\n",
      "\n",
      "\n",
      "Here are the results from our LGBMRegressor\n",
      "predicting CTR\n",
      "Calculating feature responses, for advanced analytics.\n",
      "The printed list will only contain at most the top 100 features.\n",
      "+--------+-----------------+--------------+---------+-------------------+-------------------+-----------+-----------+-----------+-----------+\n",
      "|        | Feature Name    |   Importance |   Delta |   FR_Decrementing |   FR_Incrementing |   FRD_abs |   FRI_abs |   FRD_MAD |   FRI_MAD |\n",
      "|--------+-----------------+--------------+---------+-------------------+-------------------+-----------+-----------+-----------+-----------|\n",
      "| 6.0000 | is_holiday      |           18 |  0.2356 |           -0.0063 |           -0.0170 |    0.0070 |    0.0227 |    0.0000 |    0.0000 |\n",
      "| 1.0000 | Cum_CPM         |          114 |  0.6370 |           -0.0841 |           -0.0480 |    0.1757 |    0.0569 |    0.1121 |    0.0000 |\n",
      "| 5.0000 | weekday         |          197 |  0.9928 |            0.0017 |            0.0137 |    0.0706 |    0.0632 |    0.0215 |    0.0203 |\n",
      "| 3.0000 | Avg_CTR_last10d |          209 |  0.1865 |           -0.2407 |            0.1268 |    0.4085 |    0.3696 |    0.2645 |    0.1766 |\n",
      "| 2.0000 | Avg_CTR_last3d  |          725 |  0.1858 |            0.8080 |            0.1358 |    1.7884 |    0.8809 |    1.9042 |    0.4639 |\n",
      "| 4.0000 | Daily_Cost      |          914 |  0.3092 |            0.5888 |           -0.1482 |    0.8050 |    0.4042 |    0.2510 |    0.1841 |\n",
      "| 0.0000 | Cum_CTR         |          987 |  1.0650 |           -0.3624 |            0.5723 |    0.4865 |    0.7009 |    0.2758 |    0.5102 |\n",
      "+--------+-----------------+--------------+---------+-------------------+-------------------+-----------+-----------+-----------+-----------+\n",
      "\n",
      "\n",
      "*******\n",
      "Legend:\n",
      "Importance = Feature Importance\n",
      "     Explanation: A weighted measure of how much of the variance the model is able to explain is due to this column\n",
      "FR_delta = Feature Response Delta Amount\n",
      "     Explanation: Amount this column was incremented or decremented by to calculate the feature reponses\n",
      "FR_Decrementing = Feature Response From Decrementing Values In This Column By One FR_delta\n",
      "     Explanation: Represents how much the predicted output values respond to subtracting one FR_delta amount from every value in this column\n",
      "FR_Incrementing = Feature Response From Incrementing Values In This Column By One FR_delta\n",
      "     Explanation: Represents how much the predicted output values respond to adding one FR_delta amount to every value in this column\n",
      "FRD_MAD = Feature Response From Decrementing- Median Absolute Delta\n",
      "     Explanation: Takes the absolute value of all changes in predictions, then takes the median of those. Useful for seeing if decrementing this feature provokes strong changes that are both positive and negative\n",
      "FRI_MAD = Feature Response From Incrementing- Median Absolute Delta\n",
      "     Explanation: Takes the absolute value of all changes in predictions, then takes the median of those. Useful for seeing if incrementing this feature provokes strong changes that are both positive and negative\n",
      "FRD_abs = Feature Response From Decrementing Avg Absolute Change\n",
      "     Explanation: What is the average absolute change in predicted output values to subtracting one FR_delta amount to every value in this column. Useful for seeing if output is sensitive to a feature, but not in a uniformly positive or negative way\n",
      "FRI_abs = Feature Response From Incrementing Avg Absolute Change\n",
      "     Explanation: What is the average absolute change in predicted output values to adding one FR_delta amount to every value in this column. Useful for seeing if output is sensitive to a feature, but not in a uniformly positive or negative way\n",
      "*******\n",
      "\n"
     ]
    },
    {
     "data": {
      "text/plain": [
       "<auto_ml.predictor.Predictor at 0x1336838c0b8>"
      ]
     },
     "execution_count": 593,
     "metadata": {},
     "output_type": "execute_result"
    }
   ],
   "source": [
    "import chinese_calendar as calendar\n",
    "\n",
    "df_cpm_clean['CTR'] =  df_cpm_clean['Click'] / df_cpm_clean['Imp'] * 100\n",
    "df_cpm_clean['date'] = df_cpm_clean['Date'].astype(pd.datetime)\n",
    "df_cpm_clean['weekday'] = df_cpm_clean['date'].map(lambda x:x.weekday())\n",
    "df_cpm_clean['weekofyear'] = df_cpm_clean['date'].map(lambda x:x.weekofyear)\n",
    "\n",
    "day_holiday = {}\n",
    "day_holiday_name = {}\n",
    "for day in df_cpm_clean.date.unique():\n",
    "    on_holiday, holiday_name = calendar.get_holiday_detail(day)\n",
    "    day_holiday[day] = on_holiday \n",
    "    day_holiday_name[day] = holiday_name\n",
    "    \n",
    "df_cpm_clean['is_holiday'] = df_cpm_clean.date.map(day_holiday)\n",
    "df_cpm_clean['holiday_name'] = df_cpm_clean.date.map(day_holiday_name).fillna('N/A')\n",
    "#'Cum_UV','Cum_PV','Cum_Imp2Pv',\n",
    "include_cols = ['CTR', 'Cum_CTR','Cum_CPM',  'Avg_CTR_last3d', 'Avg_CTR_last10d','Daily_Cost',\n",
    "               'weekday','is_holiday']\n",
    "\n",
    "\n",
    "df_train = df_cpm_clean.query('Media!=\"BabyTree\"')[include_cols]\n",
    "df_train = df_train.drop(df_wdone.columns, axis=1)\n",
    "df_train = df_train[df_train['CTR']<25]\n",
    "# df_train = df_train[df_train.Est_CTR!=np.inf]\n",
    "df_train = df_train.fillna(0)\n",
    "# md_lso = Lasso(selection ='random')\n",
    "# md_lso.fit(df_X,df_y)\n",
    "from auto_ml import predictor\n",
    "column_descriptions = {'CTR':'output'}\n",
    "pred = predictor.Predictor('regressor', column_descriptions=column_descriptions)\n",
    "pred.train(df_train,model_names= ['LGBMRegressor'], perform_feature_scaling = True)\n",
    "# pred.train_categorical_ensemble(df_train,'Product',model_names= ['LogisticRegression'], perform_feature_scaling = True)"
   ]
  },
  {
   "cell_type": "code",
   "execution_count": 594,
   "metadata": {},
   "outputs": [
    {
     "name": "stdout",
     "output_type": "stream",
     "text": [
      "r2 = 0.936017, mae=0.303894\n"
     ]
    }
   ],
   "source": [
    "from sklearn.metrics import r2_score, mean_absolute_error\n",
    "\n",
    "y_hat = np.array(pred.predict(df_train))\n",
    "y_hat[y_hat<=0] = 0.005\n",
    "\n",
    "s1 = r2_score(df_train.CTR, y_hat)\n",
    "s2 = mean_absolute_error(df_train.CTR, y_hat)\n",
    "print('r2 = %f, mae=%f' %(s1, s2))"
   ]
  },
  {
   "cell_type": "code",
   "execution_count": 595,
   "metadata": {},
   "outputs": [
    {
     "data": {
      "image/png": "[encoded data removed]",
      "text/plain": [
       "<matplotlib.figure.Figure at 0x1336e6407f0>"
      ]
     },
     "metadata": {},
     "output_type": "display_data"
    }
   ],
   "source": [
    "plt.scatter(df_train.CTR, y_hat);"
   ]
  },
  {
   "cell_type": "markdown",
   "metadata": {},
   "source": [
    "Looks it's predicting well. Now let's check for the test and train score to make sure we're not overfitting."
   ]
  }
 ],
 "metadata": {
  "hide_code_all_hidden": false,
  "kernelspec": {
   "display_name": "Python 3",
   "language": "python",
   "name": "python3"
  },
  "language_info": {
   "codemirror_mode": {
    "name": "ipython",
    "version": 3
   },
   "file_extension": ".py",
   "mimetype": "text/x-python",
   "name": "python",
   "nbconvert_exporter": "python",
   "pygments_lexer": "ipython3",
   "version": "3.6.3"
  }
 },
 "nbformat": 4,
 "nbformat_minor": 2
}
