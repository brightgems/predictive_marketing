{
 "cells": [
  {
   "cell_type": "code",
   "execution_count": 1,
   "metadata": {
    "collapsed": false
   },
   "outputs": [],
   "source": [
    "# 设置全局代理\n",
    "import urllib2\n",
    "proxy = urllib2.ProxyHandler({'http': '127.0.0.1'})\n",
    "opener = urllib2.build_opener(proxy)\n",
    "urllib2.install_opener(opener)\n",
    "\n",
    "import statsmodels.api as sm\n",
    "import statsmodels.formula.api as smf\n",
    "data = sm.datasets.get_rdataset(\"dietox\", \"geepack\").data\n"
   ]
  },
  {
   "cell_type": "code",
   "execution_count": 59,
   "metadata": {
    "collapsed": false
   },
   "outputs": [],
   "source": [
    "import numpy as np\n",
    "data.fillna(method='bfill',inplace=True)"
   ]
  },
  {
   "cell_type": "code",
   "execution_count": 60,
   "metadata": {
    "collapsed": false
   },
   "outputs": [
    {
     "data": {
      "text/html": [
       "<div>\n",
       "<table border=\"1\" class=\"dataframe\">\n",
       "  <thead>\n",
       "    <tr style=\"text-align: right;\">\n",
       "      <th></th>\n",
       "      <th>Weight</th>\n",
       "      <th>Feed</th>\n",
       "      <th>Time</th>\n",
       "      <th>Pig</th>\n",
       "      <th>Evit</th>\n",
       "      <th>Cu</th>\n",
       "      <th>Litter</th>\n",
       "    </tr>\n",
       "  </thead>\n",
       "  <tbody>\n",
       "    <tr>\n",
       "      <th>count</th>\n",
       "      <td>861.000000</td>\n",
       "      <td>861.000000</td>\n",
       "      <td>861.000000</td>\n",
       "      <td>861.000000</td>\n",
       "      <td>861.000000</td>\n",
       "      <td>861.000000</td>\n",
       "      <td>861.000000</td>\n",
       "    </tr>\n",
       "    <tr>\n",
       "      <th>mean</th>\n",
       "      <td>60.725769</td>\n",
       "      <td>87.908015</td>\n",
       "      <td>6.480836</td>\n",
       "      <td>6238.319396</td>\n",
       "      <td>2.026713</td>\n",
       "      <td>2.015099</td>\n",
       "      <td>12.135889</td>\n",
       "    </tr>\n",
       "    <tr>\n",
       "      <th>std</th>\n",
       "      <td>24.978881</td>\n",
       "      <td>56.563202</td>\n",
       "      <td>3.444735</td>\n",
       "      <td>1323.845928</td>\n",
       "      <td>0.817246</td>\n",
       "      <td>0.807525</td>\n",
       "      <td>7.427252</td>\n",
       "    </tr>\n",
       "    <tr>\n",
       "      <th>min</th>\n",
       "      <td>15.000000</td>\n",
       "      <td>3.300003</td>\n",
       "      <td>1.000000</td>\n",
       "      <td>4601.000000</td>\n",
       "      <td>1.000000</td>\n",
       "      <td>1.000000</td>\n",
       "      <td>1.000000</td>\n",
       "    </tr>\n",
       "    <tr>\n",
       "      <th>25%</th>\n",
       "      <td>38.299990</td>\n",
       "      <td>37.400002</td>\n",
       "      <td>3.000000</td>\n",
       "      <td>4857.000000</td>\n",
       "      <td>1.000000</td>\n",
       "      <td>1.000000</td>\n",
       "      <td>5.000000</td>\n",
       "    </tr>\n",
       "    <tr>\n",
       "      <th>50%</th>\n",
       "      <td>59.199980</td>\n",
       "      <td>84.500000</td>\n",
       "      <td>6.000000</td>\n",
       "      <td>5866.000000</td>\n",
       "      <td>2.000000</td>\n",
       "      <td>2.000000</td>\n",
       "      <td>11.000000</td>\n",
       "    </tr>\n",
       "    <tr>\n",
       "      <th>75%</th>\n",
       "      <td>81.199950</td>\n",
       "      <td>135.800003</td>\n",
       "      <td>9.000000</td>\n",
       "      <td>8050.000000</td>\n",
       "      <td>3.000000</td>\n",
       "      <td>3.000000</td>\n",
       "      <td>20.000000</td>\n",
       "    </tr>\n",
       "    <tr>\n",
       "      <th>max</th>\n",
       "      <td>117.000000</td>\n",
       "      <td>224.500000</td>\n",
       "      <td>12.000000</td>\n",
       "      <td>8442.000000</td>\n",
       "      <td>3.000000</td>\n",
       "      <td>3.000000</td>\n",
       "      <td>24.000000</td>\n",
       "    </tr>\n",
       "  </tbody>\n",
       "</table>\n",
       "</div>"
      ],
      "text/plain": [
       "           Weight        Feed        Time          Pig        Evit  \\\n",
       "count  861.000000  861.000000  861.000000   861.000000  861.000000   \n",
       "mean    60.725769   87.908015    6.480836  6238.319396    2.026713   \n",
       "std     24.978881   56.563202    3.444735  1323.845928    0.817246   \n",
       "min     15.000000    3.300003    1.000000  4601.000000    1.000000   \n",
       "25%     38.299990   37.400002    3.000000  4857.000000    1.000000   \n",
       "50%     59.199980   84.500000    6.000000  5866.000000    2.000000   \n",
       "75%     81.199950  135.800003    9.000000  8050.000000    3.000000   \n",
       "max    117.000000  224.500000   12.000000  8442.000000    3.000000   \n",
       "\n",
       "               Cu      Litter  \n",
       "count  861.000000  861.000000  \n",
       "mean     2.015099   12.135889  \n",
       "std      0.807525    7.427252  \n",
       "min      1.000000    1.000000  \n",
       "25%      1.000000    5.000000  \n",
       "50%      2.000000   11.000000  \n",
       "75%      3.000000   20.000000  \n",
       "max      3.000000   24.000000  "
      ]
     },
     "execution_count": 60,
     "metadata": {},
     "output_type": "execute_result"
    }
   ],
   "source": [
    "data.describe()"
   ]
  },
  {
   "cell_type": "code",
   "execution_count": null,
   "metadata": {
    "collapsed": true
   },
   "outputs": [],
   "source": [
    "md = smf.mixedlm(\"Weight ~ Time + Feed\", data, groups=data[\"Pig\"])"
   ]
  }
 ],
 "metadata": {
  "anaconda-cloud": {},
  "kernelspec": {
   "display_name": "Python [Root]",
   "language": "python",
   "name": "Python [Root]"
  },
  "language_info": {
   "codemirror_mode": {
    "name": "ipython",
    "version": 2
   },
   "file_extension": ".py",
   "mimetype": "text/x-python",
   "name": "python",
   "nbconvert_exporter": "python",
   "pygments_lexer": "ipython2",
   "version": "2.7.12"
  }
 },
 "nbformat": 4,
 "nbformat_minor": 0
}
