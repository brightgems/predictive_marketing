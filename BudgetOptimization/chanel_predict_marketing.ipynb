{
 "cells": [
  {
   "cell_type": "markdown",
   "metadata": {},
   "source": [
    "# Predictive Marketing for CHANEL\n",
    "Predict placement performance based on chanel history ad delivery"
   ]
  },
  {
   "cell_type": "markdown",
   "metadata": {},
   "source": [
    "## Acquire OTV placement performance from CHANEL digital database"
   ]
  },
  {
   "cell_type": "code",
   "execution_count": 2,
   "metadata": {},
   "outputs": [],
   "source": [
    "import pyodbc\n",
    "import pandas as pd\n",
    "import numpy as np\n",
    "cnxn = pyodbc.connect('DRIVER={SQL Server};SERVER=mecshsql.database.windows.net,1433;DATABASE=datamart;UID=Channel;PWD=Passw0rd')\n",
    "sql = \"\"\"\n",
    "WITH CTE_SIZMEK_PLAC_PERF\n",
    "AS\n",
    "(\n",
    "SELECT\n",
    "\t [PlacementID]\n",
    "\t,SUM([Impressions]) AS Imp\n",
    "\t,MAX([LifetimePlacementUniqueImpressions]) AS UV\n",
    "FROM [dbo].[DFID050844_GMMDUniqueReport_Extracted]\n",
    "GROUP BY [PlacementID]\n",
    "),\n",
    "CTE_PLAC_PERF_SIZMEK\n",
    "AS(\n",
    "SELECT\n",
    "\t A.[Product]\n",
    "\t,A.[Campaign]\n",
    "\t,A.[StartDate]\n",
    "\t,A.[StdMedia]\n",
    "\t,A.[Std.Format]\n",
    "\t,A.[Format]\n",
    "\t,A.[Drama]\n",
    "\t,A.[Target_Market]\n",
    "\t,A.[StdDevice]\n",
    "\t,A.Total_Est_Imp AS Est_Imp\n",
    "\t,A.Net_Media_Cost As Media_Cost\n",
    "\t,C.Imp AS Sizmek_Imp\n",
    "\t,C.UV AS Sizmek_UV\n",
    "\t,0 AS Nielsen_Imp\n",
    "\t,0 AS Nielsen_UV\n",
    "\t,0 AS Nielsen_TargetImp\n",
    "FROM [dbo].[MediaPlan_CampaignPlacements_Chanel] A\n",
    "INNER JOIN [dbo].[Y03_PlacementTrackingMap] B\n",
    "ON A.[Symphony_Placement_Id]=B.[Symphony_Placement_Id]\n",
    "INNER JOIN CTE_SIZMEK_PLAC_PERF C\n",
    "ON B.[TrackingPlacementID]=C.[PlacementID]\n",
    "WHERE Media_Type='OTV'\n",
    ")\n",
    ",\n",
    "CTE_PLAC_PERF_NIELSEN\n",
    "AS(\n",
    "SELECT\n",
    "\t A.[Product]\n",
    "\t,A.[Campaign]\n",
    "\t,A.[StartDate]\n",
    "\t,A.[StdMedia]\n",
    "\t,A.[Std.Format]\n",
    "\t,A.[Format]\n",
    "\t,A.[Drama]\n",
    "\t,A.[Target_Market]\n",
    "\t,A.[StdDevice]\n",
    "\t,0 AS Est_Imp\n",
    "\t,0 As Media_Cost\n",
    "\t,0 AS Sizmek_Imp\n",
    "\t,0 AS Sizmek_UV\n",
    "\t,E.[IMPR] AS Nielsen_Imp\n",
    "\t,E.[UNIQUE_AUDIENCE] AS Nielsen_UV\n",
    "\t,convert(bigint,E.[TRGT_PRCN] * E.[IMPR]) AS Nielsen_TargetImp\n",
    "FROM [dbo].[MediaPlan_CampaignPlacements_Chanel] A\n",
    "INNER JOIN [dbo].[Y03_PlacementNdarMap] D\n",
    "ON A.[Symphony_Placement_Id]=D.[Symphony_Placement_Id]\n",
    "INNER JOIN [dbo].[Y01_Nilsen_AudienceRating] E\n",
    "ON D.[NilsenCmpgID]=E.[NilsenCmpgID] AND D.[NilsenPlcmID]=E.[NilsenPlcmID]\n",
    "WHERE Media_Type='OTV'\n",
    ")\n",
    ",CTE_PLAC_PERF_RAW\n",
    "AS(\n",
    "SELECT * FROM CTE_PLAC_PERF_SIZMEK\n",
    "UNION\n",
    "SELECT * FROM CTE_PLAC_PERF_NIELSEN\n",
    ")\n",
    "SELECT\n",
    "\t [Product]\n",
    "\t,[Campaign]\n",
    "\t,[StdMedia]\n",
    "\t,[Std.Format]\n",
    "\t,[Format]\n",
    "\t,[Drama]\n",
    "\t,[Target_Market]\n",
    "\t,[StdDevice]\n",
    "\t,[StartDate]\n",
    "\t,SUM(Est_Imp) AS Est_Imp\n",
    "\t,SUM(Media_Cost) AS Media_Cost\n",
    "\t,SUM(Sizmek_Imp) AS Sizmek_Imp\n",
    "\t,SUM(Sizmek_UV) AS Sizmek_UV\n",
    "\t,SUM(Nielsen_Imp) AS Nielsen_Imp\n",
    "\t,SUM(Nielsen_UV) AS Nielsen_UV\n",
    "\t,SUM(Nielsen_TargetImp) AS Nielsen_TargetImp\n",
    "FROM CTE_PLAC_PERF_RAW\n",
    "GROUP BY  [Product]\n",
    "\t,[Campaign]\n",
    "\t,[StdMedia]\n",
    "\t,[Std.Format]\n",
    "\t,[Format]\n",
    "\t,[Drama]\n",
    "\t,[Target_Market]\n",
    "\t,[StdDevice]\n",
    "\t,[StartDate]\n",
    "\"\"\"\n",
    "df_plac_perf = pd.read_sql(sql,cnxn)\n"
   ]
  },
  {
   "cell_type": "markdown",
   "metadata": {},
   "source": [
    "## CLEAN DATA\n",
    "- add col target_content which extract from Format\n",
    "- generate new dataset group by Campaign, target_content, target_market, Std.Format, StdDevice\n",
    "- remove bonus placements if media cost is 0\n",
    "- show diff on imp/uv between sizmek/ nielsen. \n",
    "- use nielsen numbers to build model"
   ]
  },
  {
   "cell_type": "code",
   "execution_count": 3,
   "metadata": {
    "scrolled": true
   },
   "outputs": [
    {
     "name": "stderr",
     "output_type": "stream",
     "text": [
      "c:\\conda\\lib\\site-packages\\ipykernel_launcher.py:1: FutureWarning: currently extract(expand=None) means expand=False (return Index/Series/DataFrame) but in a future version of pandas this will be changed to expand=True (return DataFrame)\n",
      "  \"\"\"Entry point for launching an IPython kernel.\n"
     ]
    },
    {
     "name": "stdout",
     "output_type": "stream",
     "text": [
      "remove bonus placements, before: 4786, after: 4655\n"
     ]
    },
    {
     "data": {
      "text/plain": [
       "Est_Imp              2.290158e+06\n",
       "Media_Cost           9.995275e+04\n",
       "Sizmek_Imp           2.901867e+06\n",
       "Sizmek_UV            2.144727e+06\n",
       "Nielsen_Imp          2.240732e+06\n",
       "Nielsen_UV           8.434853e+05\n",
       "Nielsen_TargetImp    8.800969e+07\n",
       "imp_diff_pct        -3.912161e-01\n",
       "uv_diff_pct          2.142864e-01\n",
       "dtype: float64"
      ]
     },
     "execution_count": 3,
     "metadata": {},
     "output_type": "execute_result"
    }
   ],
   "source": [
    "df_plac_perf = df_plac_perf.assign(target_content = lambda x: x.Format.str.extract('[（|()](.+)') \\\n",
    "                                                       .str.split('，')\n",
    "                                                       .str.get(1))\n",
    "# fill na\n",
    "df_plac_perf = df_plac_perf.fillna({'Drama':'N/A','Nielsen_Imp':0,'Nielsen_UV':0,'Nielsen_TargetImp':0})\n",
    "df_plac_perf.loc[(df_plac_perf['Drama'].str.contains('《')),'target_content'] = 'drama buy'\n",
    "\n",
    "# change type\n",
    "df_plac_perf[['Sizmek_Imp','Sizmek_UV','Nielsen_Imp','Nielsen_UV','Nielsen_TargetImp']] =df_plac_perf[['Sizmek_Imp','Sizmek_UV','Nielsen_Imp','Nielsen_UV','Nielsen_TargetImp']].astype(np.int64)\n",
    "df = df_plac_perf.groupby(['Product','Campaign','StdMedia','StdDevice','target_content','Target_Market','Drama'],as_index=False).aggregate(np.sum)\n",
    "# remove bonus placements if media cost is 0\n",
    "before_cnt = df.shape[0]\n",
    "df = df.drop(df.index[df.Media_Cost<100])\n",
    "after_cnt = df.shape[0]\n",
    "print(\"remove bonus placements, before: %d, after: %d\" %(before_cnt,after_cnt))\n",
    "df = df.assign(imp_diff_pct = lambda x: (x.Sizmek_Imp-x.Nielsen_Imp)/x.Sizmek_Imp)\n",
    "df = df.assign(uv_diff_pct = lambda x: (x.Sizmek_UV-x.Nielsen_UV)/x.Sizmek_Imp)\n",
    "df = df[df.Sizmek_Imp>0]\n",
    "df2 = df.loc[df.Nielsen_Imp>0].count()\n",
    "# show diff\n",
    "df.sort_values(['imp_diff_pct']).mean()"
   ]
  },
  {
   "cell_type": "markdown",
   "metadata": {},
   "source": [
    "## Mangling/ Normalize Data"
   ]
  },
  {
   "cell_type": "code",
   "execution_count": 5,
   "metadata": {},
   "outputs": [],
   "source": [
    "from sklearn import preprocessing\n",
    "from sklearn import pipeline\n",
    "\n",
    "scaler = preprocessing.StandardScaler()\n",
    "pipe = pipeline.Pipeline([('scaler',scaler)])\n",
    "std_arr = pipe.fit_transform(df[['Media_Cost','Sizmek_Imp','Sizmek_UV']])\n",
    "#binarize Media Cost\n",
    "binarizer = preprocessing.Binarizer()\n",
    "binarizer.fit_transform(df[['Media_Cost']])\n",
    "\n",
    "\n",
    "df_std = pd.DataFrame(std_arr,columns=('Media_Cost.std','Sizmek_Imp.std','Sizmek_UV.std'))\n",
    "df = pd.concat([df,df_std],axis=1)\n",
    "df=df.drop(df[df.Sizmek_Imp.isnull()].index)\n",
    "#df['Sizmek_Imp.std']=np.log(df['Sizmek_Imp.std'])\n"
   ]
  },
  {
   "cell_type": "markdown",
   "metadata": {},
   "source": [
    "## Diagonise dataset"
   ]
  },
  {
   "cell_type": "code",
   "execution_count": 46,
   "metadata": {},
   "outputs": [
    {
     "data": {
      "text/plain": [
       "array([  5.76000000e+02,   8.46780000e+03,   1.86000000e+04,\n",
       "         4.28513000e+04,   7.20000000e+06])"
      ]
     },
     "execution_count": 46,
     "metadata": {},
     "output_type": "execute_result"
    },
    {
     "data": {
      "image/png": "[encoded data removed]",
      "text/plain": [
       "<matplotlib.figure.Figure at 0x8fd3b0>"
      ]
     },
     "metadata": {},
     "output_type": "display_data"
    },
    {
     "data": {
      "text/plain": [
       "<matplotlib.figure.Figure at 0xaf7410>"
      ]
     },
     "metadata": {},
     "output_type": "display_data"
    },
    {
     "data": {
      "image/png": "[encoded data removed]",
      "text/plain": [
       "<matplotlib.figure.Figure at 0xad3a10>"
      ]
     },
     "metadata": {},
     "output_type": "display_data"
    }
   ],
   "source": [
    "%matplotlib inline\n",
    "import matplotlib\n",
    "from matplotlib import pyplot as plt\n",
    "\n",
    "matplotlib.style.use('ggplot')\n",
    "\n",
    "df.plot.scatter(x='Media_Cost.std',y='Sizmek_UV.std')\n",
    "plt.figure()\n",
    "df['CostCat'],bins = pd.qcut(df['Media_Cost'],4,retbins=True)\n",
    "df[['CostCat','Media_Cost']].groupby(['CostCat']).std().plot(kind='bar', title='std in group')\n",
    "bins"
   ]
  }
 ],
 "metadata": {
  "kernelspec": {
   "display_name": "Python 3",
   "language": "python",
   "name": "python3"
  },
  "language_info": {
   "codemirror_mode": {
    "name": "ipython",
    "version": 3
   },
   "file_extension": ".py",
   "mimetype": "text/x-python",
   "name": "python",
   "nbconvert_exporter": "python",
   "pygments_lexer": "ipython3",
   "version": "3.6.3"
  }
 },
 "nbformat": 4,
 "nbformat_minor": 1
}
